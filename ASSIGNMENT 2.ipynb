{
 "cells": [
  {
   "cell_type": "markdown",
   "id": "58198650",
   "metadata": {},
   "source": [
    "# Q1: Write a python program to scrape data for “Data Analyst” Job position in “Bangalore” location. You have to scrape the job-title, job-location, company_name, experience_required. You have to scrape first 10 jobs data."
   ]
  },
  {
   "cell_type": "code",
   "execution_count": 1,
   "id": "1217a3df",
   "metadata": {},
   "outputs": [],
   "source": [
    "import selenium\n",
    "from selenium import webdriver\n",
    "import pandas as pd\n",
    "from selenium.webdriver.common.by import By  # importing inbuilt class By\n",
    "import warnings\n",
    "warnings.filterwarnings(\"ignore\")\n",
    "import time"
   ]
  },
  {
   "cell_type": "code",
   "execution_count": 4,
   "id": "d12a3e49",
   "metadata": {},
   "outputs": [],
   "source": [
    "driver=webdriver.Chrome(r'C:\\Users\\Admin\\Downloads\\chromedriver_win32 (1)\\chromedriver.exe')"
   ]
  },
  {
   "cell_type": "code",
   "execution_count": 5,
   "id": "17e3a190",
   "metadata": {},
   "outputs": [],
   "source": [
    "driver.maximize_window() # to maximize the chrome window"
   ]
  },
  {
   "cell_type": "code",
   "execution_count": 6,
   "id": "791fca76",
   "metadata": {},
   "outputs": [],
   "source": [
    "url='https://www.naukri.com/'\n",
    "driver.get(url)"
   ]
  },
  {
   "cell_type": "code",
   "execution_count": 7,
   "id": "38df8843",
   "metadata": {},
   "outputs": [],
   "source": [
    "search_job=driver.find_element(By.CLASS_NAME,\"suggestor-input\") \n",
    "search_job.send_keys(\"Data Analyst\")"
   ]
  },
  {
   "cell_type": "code",
   "execution_count": 8,
   "id": "c84c541d",
   "metadata": {},
   "outputs": [],
   "source": [
    "search_location=driver.find_element(By.XPATH,\"/html/body/div[1]/div[7]/div/div/div[5]/div/div/div/div[1]/div/input\") \n",
    "search_location.send_keys(\"Bangalore\")"
   ]
  },
  {
   "cell_type": "code",
   "execution_count": 9,
   "id": "6e0adfbc",
   "metadata": {},
   "outputs": [],
   "source": [
    "search_btn=driver.find_element(By.CLASS_NAME,\"qsbSubmit\")\n",
    "search_btn.click()"
   ]
  },
  {
   "cell_type": "markdown",
   "id": "42332f16",
   "metadata": {},
   "source": [
    "#  job-title"
   ]
  },
  {
   "cell_type": "code",
   "execution_count": 11,
   "id": "252b1511",
   "metadata": {},
   "outputs": [
    {
     "data": {
      "text/plain": [
       "20"
      ]
     },
     "execution_count": 11,
     "metadata": {},
     "output_type": "execute_result"
    }
   ],
   "source": [
    "job_titles=[]\n",
    "title_tags=driver.find_elements(By.XPATH,\"//a[@class='title ellipsis']\")\n",
    "for i in title_tags:\n",
    "    job_titles.append(i.text)\n",
    "len(job_titles)"
   ]
  },
  {
   "cell_type": "code",
   "execution_count": 12,
   "id": "c9c59516",
   "metadata": {},
   "outputs": [
    {
     "data": {
      "text/plain": [
       "['Data Analyst',\n",
       " 'Data Analyst',\n",
       " 'Data Analyst',\n",
       " 'Data Analyst',\n",
       " 'Data Analyst',\n",
       " 'Data Analyst',\n",
       " 'Lab Data Analyst I',\n",
       " 'Data Analyst',\n",
       " 'Data Analyst - IIT/BITS/Startups',\n",
       " 'Data Analyst - FinTech',\n",
       " 'Data Analyst - FinTech',\n",
       " 'Data Analyst - FinTech',\n",
       " 'Data Analyst - IIT/BITS/Startups',\n",
       " 'Data Analyst',\n",
       " 'Data Analyst',\n",
       " 'Data Analyst',\n",
       " 'Data Analyst',\n",
       " 'Lab Data Analyst I',\n",
       " 'Data Analyst',\n",
       " 'Data Analyst']"
      ]
     },
     "execution_count": 12,
     "metadata": {},
     "output_type": "execute_result"
    }
   ],
   "source": [
    "job_titles"
   ]
  },
  {
   "cell_type": "markdown",
   "id": "cd12f832",
   "metadata": {},
   "source": [
    "# company_name"
   ]
  },
  {
   "cell_type": "code",
   "execution_count": 13,
   "id": "606d48ba",
   "metadata": {},
   "outputs": [],
   "source": [
    "company_names=[]\n",
    "company_tags=driver.find_elements(By.XPATH,\"//a[@class='subTitle ellipsis fleft']\")\n",
    "for i in company_tags:\n",
    "    company_names.append(i.text)"
   ]
  },
  {
   "cell_type": "code",
   "execution_count": 14,
   "id": "74bf4200",
   "metadata": {},
   "outputs": [
    {
     "data": {
      "text/plain": [
       "['Brillio',\n",
       " 'Aon',\n",
       " 'Diverse Lynx',\n",
       " 'Aon',\n",
       " 'Wonderla Holidays',\n",
       " 'Philips',\n",
       " 'ICON plc',\n",
       " 'Aon',\n",
       " 'AVE Promagne',\n",
       " 'Primo Hiring',\n",
       " 'Primo Hiring',\n",
       " 'Primo Hiring',\n",
       " 'AVE Promagne',\n",
       " 'Talodyn Networks',\n",
       " 'Diverse Lynx',\n",
       " 'Laundryheap Limited',\n",
       " 'Skillety',\n",
       " 'Icon Plc',\n",
       " 'Juniper Networks',\n",
       " 'Siemens']"
      ]
     },
     "execution_count": 14,
     "metadata": {},
     "output_type": "execute_result"
    }
   ],
   "source": [
    "company_names"
   ]
  },
  {
   "cell_type": "markdown",
   "id": "10c84804",
   "metadata": {},
   "source": [
    "# experience"
   ]
  },
  {
   "cell_type": "code",
   "execution_count": 16,
   "id": "b6e087e1",
   "metadata": {},
   "outputs": [
    {
     "data": {
      "text/plain": [
       "20"
      ]
     },
     "execution_count": 16,
     "metadata": {},
     "output_type": "execute_result"
    }
   ],
   "source": [
    "experience=[]\n",
    "exp_tags=driver.find_elements(By.XPATH,'//span[@class=\"ellipsis fleft expwdth\"]') \n",
    "for i in exp_tags:\n",
    "    experience.append(i.text)\n",
    "len(experience)"
   ]
  },
  {
   "cell_type": "code",
   "execution_count": 17,
   "id": "7cb5d982",
   "metadata": {
    "scrolled": true
   },
   "outputs": [
    {
     "data": {
      "text/plain": [
       "['0-2 Yrs',\n",
       " '3-6 Yrs',\n",
       " '1-5 Yrs',\n",
       " '6-9 Yrs',\n",
       " '3-6 Yrs',\n",
       " '3-6 Yrs',\n",
       " '2-5 Yrs',\n",
       " '6-9 Yrs',\n",
       " '1-5 Yrs',\n",
       " '1-2 Yrs',\n",
       " '1-2 Yrs',\n",
       " '1-2 Yrs',\n",
       " '1-5 Yrs',\n",
       " '4-7 Yrs',\n",
       " '5-7 Yrs',\n",
       " '6-8 Yrs',\n",
       " '5-9 Yrs',\n",
       " '3-6 Yrs',\n",
       " '5-9 Yrs',\n",
       " '4-6 Yrs']"
      ]
     },
     "execution_count": 17,
     "metadata": {},
     "output_type": "execute_result"
    }
   ],
   "source": [
    "experience"
   ]
  },
  {
   "cell_type": "markdown",
   "id": "e6803699",
   "metadata": {},
   "source": [
    "# location"
   ]
  },
  {
   "cell_type": "code",
   "execution_count": 18,
   "id": "be2f1cdf",
   "metadata": {},
   "outputs": [
    {
     "data": {
      "text/plain": [
       "20"
      ]
     },
     "execution_count": 18,
     "metadata": {},
     "output_type": "execute_result"
    }
   ],
   "source": [
    "location=[]\n",
    "locn_tags=driver.find_elements(By.XPATH,'//span[@class=\"ellipsis fleft locWdth\"]')# this is the format for relative xpath where it starts with double forward slash with the tag name\n",
    "for i in locn_tags:\n",
    "    location.append(i.text)\n",
    "len(location)"
   ]
  },
  {
   "cell_type": "code",
   "execution_count": 19,
   "id": "84607248",
   "metadata": {},
   "outputs": [
    {
     "data": {
      "text/plain": [
       "['Bangalore/Bengaluru',\n",
       " 'Hybrid - Bangalore/Bengaluru',\n",
       " 'Bangalore/Bengaluru',\n",
       " 'Hybrid - Bangalore/Bengaluru, Delhi / NCR',\n",
       " 'Bangalore/Bengaluru',\n",
       " 'Bangalore/Bengaluru',\n",
       " 'Bangalore/Bengaluru, Chennai',\n",
       " 'Hybrid - Bangalore/Bengaluru, Delhi / NCR',\n",
       " 'Bangalore/Bengaluru',\n",
       " 'Bangalore/Bengaluru, Mumbai, Hyderabad/Secunderabad, Pune, Ahmedabad, Chennai, Delhi / NCR',\n",
       " 'Bangalore/Bengaluru, Kolkata, Mumbai, Hyderabad/Secunderabad, Pune, Chennai, Delhi / NCR',\n",
       " 'Bangalore/Bengaluru, Kolkata, Mumbai, Hyderabad/Secunderabad, Pune, Chennai',\n",
       " 'Bangalore/Bengaluru',\n",
       " 'Bangalore/Bengaluru',\n",
       " 'Bangalore/Bengaluru',\n",
       " 'Bangalore/Bengaluru',\n",
       " 'Bangalore/Bengaluru',\n",
       " 'Bangalore/Bengaluru, Chennai',\n",
       " 'Bangalore/Bengaluru',\n",
       " 'Bangalore/Bengaluru']"
      ]
     },
     "execution_count": 19,
     "metadata": {},
     "output_type": "execute_result"
    }
   ],
   "source": [
    "location"
   ]
  },
  {
   "cell_type": "code",
   "execution_count": 20,
   "id": "f4896a41",
   "metadata": {},
   "outputs": [
    {
     "data": {
      "text/plain": [
       "(20, 20, 20, 20)"
      ]
     },
     "execution_count": 20,
     "metadata": {},
     "output_type": "execute_result"
    }
   ],
   "source": [
    "len(job_titles),len(company_names),len(experience),len(location)"
   ]
  },
  {
   "cell_type": "code",
   "execution_count": 21,
   "id": "c8dfedb8",
   "metadata": {},
   "outputs": [
    {
     "data": {
      "text/html": [
       "<div>\n",
       "<style scoped>\n",
       "    .dataframe tbody tr th:only-of-type {\n",
       "        vertical-align: middle;\n",
       "    }\n",
       "\n",
       "    .dataframe tbody tr th {\n",
       "        vertical-align: top;\n",
       "    }\n",
       "\n",
       "    .dataframe thead th {\n",
       "        text-align: right;\n",
       "    }\n",
       "</style>\n",
       "<table border=\"1\" class=\"dataframe\">\n",
       "  <thead>\n",
       "    <tr style=\"text-align: right;\">\n",
       "      <th></th>\n",
       "      <th>Job Title</th>\n",
       "      <th>Company</th>\n",
       "      <th>Experience</th>\n",
       "      <th>Location</th>\n",
       "    </tr>\n",
       "  </thead>\n",
       "  <tbody>\n",
       "    <tr>\n",
       "      <th>0</th>\n",
       "      <td>Data Analyst</td>\n",
       "      <td>Brillio</td>\n",
       "      <td>0-2 Yrs</td>\n",
       "      <td>Bangalore/Bengaluru</td>\n",
       "    </tr>\n",
       "    <tr>\n",
       "      <th>1</th>\n",
       "      <td>Data Analyst</td>\n",
       "      <td>Aon</td>\n",
       "      <td>3-6 Yrs</td>\n",
       "      <td>Hybrid - Bangalore/Bengaluru</td>\n",
       "    </tr>\n",
       "    <tr>\n",
       "      <th>2</th>\n",
       "      <td>Data Analyst</td>\n",
       "      <td>Diverse Lynx</td>\n",
       "      <td>1-5 Yrs</td>\n",
       "      <td>Bangalore/Bengaluru</td>\n",
       "    </tr>\n",
       "    <tr>\n",
       "      <th>3</th>\n",
       "      <td>Data Analyst</td>\n",
       "      <td>Aon</td>\n",
       "      <td>6-9 Yrs</td>\n",
       "      <td>Hybrid - Bangalore/Bengaluru, Delhi / NCR</td>\n",
       "    </tr>\n",
       "    <tr>\n",
       "      <th>4</th>\n",
       "      <td>Data Analyst</td>\n",
       "      <td>Wonderla Holidays</td>\n",
       "      <td>3-6 Yrs</td>\n",
       "      <td>Bangalore/Bengaluru</td>\n",
       "    </tr>\n",
       "    <tr>\n",
       "      <th>5</th>\n",
       "      <td>Data Analyst</td>\n",
       "      <td>Philips</td>\n",
       "      <td>3-6 Yrs</td>\n",
       "      <td>Bangalore/Bengaluru</td>\n",
       "    </tr>\n",
       "    <tr>\n",
       "      <th>6</th>\n",
       "      <td>Lab Data Analyst I</td>\n",
       "      <td>ICON plc</td>\n",
       "      <td>2-5 Yrs</td>\n",
       "      <td>Bangalore/Bengaluru, Chennai</td>\n",
       "    </tr>\n",
       "    <tr>\n",
       "      <th>7</th>\n",
       "      <td>Data Analyst</td>\n",
       "      <td>Aon</td>\n",
       "      <td>6-9 Yrs</td>\n",
       "      <td>Hybrid - Bangalore/Bengaluru, Delhi / NCR</td>\n",
       "    </tr>\n",
       "    <tr>\n",
       "      <th>8</th>\n",
       "      <td>Data Analyst - IIT/BITS/Startups</td>\n",
       "      <td>AVE Promagne</td>\n",
       "      <td>1-5 Yrs</td>\n",
       "      <td>Bangalore/Bengaluru</td>\n",
       "    </tr>\n",
       "    <tr>\n",
       "      <th>9</th>\n",
       "      <td>Data Analyst - FinTech</td>\n",
       "      <td>Primo Hiring</td>\n",
       "      <td>1-2 Yrs</td>\n",
       "      <td>Bangalore/Bengaluru, Mumbai, Hyderabad/Secunde...</td>\n",
       "    </tr>\n",
       "    <tr>\n",
       "      <th>10</th>\n",
       "      <td>Data Analyst - FinTech</td>\n",
       "      <td>Primo Hiring</td>\n",
       "      <td>1-2 Yrs</td>\n",
       "      <td>Bangalore/Bengaluru, Kolkata, Mumbai, Hyderaba...</td>\n",
       "    </tr>\n",
       "    <tr>\n",
       "      <th>11</th>\n",
       "      <td>Data Analyst - FinTech</td>\n",
       "      <td>Primo Hiring</td>\n",
       "      <td>1-2 Yrs</td>\n",
       "      <td>Bangalore/Bengaluru, Kolkata, Mumbai, Hyderaba...</td>\n",
       "    </tr>\n",
       "    <tr>\n",
       "      <th>12</th>\n",
       "      <td>Data Analyst - IIT/BITS/Startups</td>\n",
       "      <td>AVE Promagne</td>\n",
       "      <td>1-5 Yrs</td>\n",
       "      <td>Bangalore/Bengaluru</td>\n",
       "    </tr>\n",
       "    <tr>\n",
       "      <th>13</th>\n",
       "      <td>Data Analyst</td>\n",
       "      <td>Talodyn Networks</td>\n",
       "      <td>4-7 Yrs</td>\n",
       "      <td>Bangalore/Bengaluru</td>\n",
       "    </tr>\n",
       "    <tr>\n",
       "      <th>14</th>\n",
       "      <td>Data Analyst</td>\n",
       "      <td>Diverse Lynx</td>\n",
       "      <td>5-7 Yrs</td>\n",
       "      <td>Bangalore/Bengaluru</td>\n",
       "    </tr>\n",
       "    <tr>\n",
       "      <th>15</th>\n",
       "      <td>Data Analyst</td>\n",
       "      <td>Laundryheap Limited</td>\n",
       "      <td>6-8 Yrs</td>\n",
       "      <td>Bangalore/Bengaluru</td>\n",
       "    </tr>\n",
       "    <tr>\n",
       "      <th>16</th>\n",
       "      <td>Data Analyst</td>\n",
       "      <td>Skillety</td>\n",
       "      <td>5-9 Yrs</td>\n",
       "      <td>Bangalore/Bengaluru</td>\n",
       "    </tr>\n",
       "    <tr>\n",
       "      <th>17</th>\n",
       "      <td>Lab Data Analyst I</td>\n",
       "      <td>Icon Plc</td>\n",
       "      <td>3-6 Yrs</td>\n",
       "      <td>Bangalore/Bengaluru, Chennai</td>\n",
       "    </tr>\n",
       "    <tr>\n",
       "      <th>18</th>\n",
       "      <td>Data Analyst</td>\n",
       "      <td>Juniper Networks</td>\n",
       "      <td>5-9 Yrs</td>\n",
       "      <td>Bangalore/Bengaluru</td>\n",
       "    </tr>\n",
       "    <tr>\n",
       "      <th>19</th>\n",
       "      <td>Data Analyst</td>\n",
       "      <td>Siemens</td>\n",
       "      <td>4-6 Yrs</td>\n",
       "      <td>Bangalore/Bengaluru</td>\n",
       "    </tr>\n",
       "  </tbody>\n",
       "</table>\n",
       "</div>"
      ],
      "text/plain": [
       "                           Job Title              Company Experience  \\\n",
       "0                       Data Analyst              Brillio    0-2 Yrs   \n",
       "1                       Data Analyst                  Aon    3-6 Yrs   \n",
       "2                       Data Analyst         Diverse Lynx    1-5 Yrs   \n",
       "3                       Data Analyst                  Aon    6-9 Yrs   \n",
       "4                       Data Analyst    Wonderla Holidays    3-6 Yrs   \n",
       "5                       Data Analyst              Philips    3-6 Yrs   \n",
       "6                 Lab Data Analyst I             ICON plc    2-5 Yrs   \n",
       "7                       Data Analyst                  Aon    6-9 Yrs   \n",
       "8   Data Analyst - IIT/BITS/Startups         AVE Promagne    1-5 Yrs   \n",
       "9             Data Analyst - FinTech         Primo Hiring    1-2 Yrs   \n",
       "10            Data Analyst - FinTech         Primo Hiring    1-2 Yrs   \n",
       "11            Data Analyst - FinTech         Primo Hiring    1-2 Yrs   \n",
       "12  Data Analyst - IIT/BITS/Startups         AVE Promagne    1-5 Yrs   \n",
       "13                      Data Analyst     Talodyn Networks    4-7 Yrs   \n",
       "14                      Data Analyst         Diverse Lynx    5-7 Yrs   \n",
       "15                      Data Analyst  Laundryheap Limited    6-8 Yrs   \n",
       "16                      Data Analyst             Skillety    5-9 Yrs   \n",
       "17                Lab Data Analyst I             Icon Plc    3-6 Yrs   \n",
       "18                      Data Analyst     Juniper Networks    5-9 Yrs   \n",
       "19                      Data Analyst              Siemens    4-6 Yrs   \n",
       "\n",
       "                                             Location  \n",
       "0                                 Bangalore/Bengaluru  \n",
       "1                        Hybrid - Bangalore/Bengaluru  \n",
       "2                                 Bangalore/Bengaluru  \n",
       "3           Hybrid - Bangalore/Bengaluru, Delhi / NCR  \n",
       "4                                 Bangalore/Bengaluru  \n",
       "5                                 Bangalore/Bengaluru  \n",
       "6                        Bangalore/Bengaluru, Chennai  \n",
       "7           Hybrid - Bangalore/Bengaluru, Delhi / NCR  \n",
       "8                                 Bangalore/Bengaluru  \n",
       "9   Bangalore/Bengaluru, Mumbai, Hyderabad/Secunde...  \n",
       "10  Bangalore/Bengaluru, Kolkata, Mumbai, Hyderaba...  \n",
       "11  Bangalore/Bengaluru, Kolkata, Mumbai, Hyderaba...  \n",
       "12                                Bangalore/Bengaluru  \n",
       "13                                Bangalore/Bengaluru  \n",
       "14                                Bangalore/Bengaluru  \n",
       "15                                Bangalore/Bengaluru  \n",
       "16                                Bangalore/Bengaluru  \n",
       "17                       Bangalore/Bengaluru, Chennai  \n",
       "18                                Bangalore/Bengaluru  \n",
       "19                                Bangalore/Bengaluru  "
      ]
     },
     "execution_count": 21,
     "metadata": {},
     "output_type": "execute_result"
    }
   ],
   "source": [
    "jobs=pd.DataFrame()\n",
    "jobs['Job Title']=job_titles\n",
    "jobs['Company']=company_names\n",
    "jobs['Experience']=experience\n",
    "jobs['Location']=location\n",
    "jobs"
   ]
  },
  {
   "cell_type": "markdown",
   "id": "0956e9a8",
   "metadata": {},
   "source": [
    "# Q2:Write a python program to scrape data for “Data Scientist” Job position in “Bangalore” location. You have to scrape the job-title, job-location, company_name. You have to scrape first 10 jobs data.\n"
   ]
  },
  {
   "cell_type": "code",
   "execution_count": 2,
   "id": "b9ebe269",
   "metadata": {},
   "outputs": [],
   "source": [
    "driver=webdriver.Chrome(r'C:\\Users\\Admin\\Downloads\\chromedriver_win32 (1)\\chromedriver.exe')"
   ]
  },
  {
   "cell_type": "code",
   "execution_count": 3,
   "id": "63c85bd1",
   "metadata": {},
   "outputs": [],
   "source": [
    "driver.maximize_window()"
   ]
  },
  {
   "cell_type": "code",
   "execution_count": 4,
   "id": "537b664c",
   "metadata": {},
   "outputs": [],
   "source": [
    "url='https://www.naukri.com/'\n",
    "driver.get(url)"
   ]
  },
  {
   "cell_type": "code",
   "execution_count": 5,
   "id": "779dd231",
   "metadata": {},
   "outputs": [],
   "source": [
    "search_job=driver.find_element(By.CLASS_NAME,\"suggestor-input\") \n",
    "search_job.send_keys(\"Data Scientist\")"
   ]
  },
  {
   "cell_type": "code",
   "execution_count": 6,
   "id": "9d5b29f9",
   "metadata": {},
   "outputs": [],
   "source": [
    "search_location=driver.find_element(By.XPATH,\"/html/body/div[1]/div[7]/div/div/div[5]/div/div/div/div[1]/div/input\") \n",
    "search_location.send_keys(\"Bangalore\")"
   ]
  },
  {
   "cell_type": "code",
   "execution_count": 7,
   "id": "bd35f70a",
   "metadata": {},
   "outputs": [],
   "source": [
    "search_btn=driver.find_element(By.CLASS_NAME,\"qsbSubmit\")\n",
    "search_btn.click()"
   ]
  },
  {
   "cell_type": "code",
   "execution_count": 8,
   "id": "91bbe249",
   "metadata": {},
   "outputs": [
    {
     "data": {
      "text/plain": [
       "20"
      ]
     },
     "execution_count": 8,
     "metadata": {},
     "output_type": "execute_result"
    }
   ],
   "source": [
    "job_titles=[]\n",
    "title_tags=driver.find_elements(By.XPATH,\"//a[@class='title ellipsis']\")\n",
    "for i in title_tags:\n",
    "    job_titles.append(i.text)\n",
    "len(job_titles)"
   ]
  },
  {
   "cell_type": "code",
   "execution_count": 9,
   "id": "9c846491",
   "metadata": {},
   "outputs": [
    {
     "data": {
      "text/plain": [
       "['Data Scientist',\n",
       " 'Data Scientist_NLP',\n",
       " 'Machine Learning (AI) Architect',\n",
       " 'Manager, Data Solution Specialist',\n",
       " 'Senior Data Scientist, Product Analytics - Customer Obsession',\n",
       " 'Senior Specialist',\n",
       " 'Advisory Data Scientist',\n",
       " 'Senior Advisory Data Scientist',\n",
       " 'Advisory Data Scientist',\n",
       " 'Artificial Intelligence Senior Analyst-Intelligent Automation',\n",
       " 'Data Science Senior Analyst',\n",
       " 'Research Scientist',\n",
       " 'Data Scientist',\n",
       " 'Permanent Opportunity For Data scientist with AWS',\n",
       " 'Data Scientist- Bangalore',\n",
       " 'Data Scientist (ML, Python, Tensorflow)',\n",
       " 'Data Scientist',\n",
       " 'R&D Specialist',\n",
       " 'Data Science Analyst',\n",
       " 'Data Scientist']"
      ]
     },
     "execution_count": 9,
     "metadata": {},
     "output_type": "execute_result"
    }
   ],
   "source": [
    "job_titles"
   ]
  },
  {
   "cell_type": "code",
   "execution_count": 10,
   "id": "a90a85dd",
   "metadata": {},
   "outputs": [],
   "source": [
    "company_names=[]\n",
    "company_tags=driver.find_elements(By.XPATH,\"//a[@class='subTitle ellipsis fleft']\")\n",
    "for i in company_tags:\n",
    "    company_names.append(i.text)"
   ]
  },
  {
   "cell_type": "code",
   "execution_count": 11,
   "id": "79f35ed6",
   "metadata": {},
   "outputs": [
    {
     "data": {
      "text/plain": [
       "['Infogain',\n",
       " 'Fractal Analytics',\n",
       " 'Persistent',\n",
       " 'Pfizer',\n",
       " 'Uber',\n",
       " 'Infineon',\n",
       " 'IBM',\n",
       " 'IBM',\n",
       " 'IBM',\n",
       " 'Accenture',\n",
       " 'Accenture',\n",
       " 'Siemens',\n",
       " 'HR Remedy India',\n",
       " 'Deloitte',\n",
       " 'Trigent Software',\n",
       " 'Blue Yonder',\n",
       " 'Infosys',\n",
       " 'Nokia',\n",
       " 'Accenture',\n",
       " 'IBM']"
      ]
     },
     "execution_count": 11,
     "metadata": {},
     "output_type": "execute_result"
    }
   ],
   "source": [
    "company_names"
   ]
  },
  {
   "cell_type": "code",
   "execution_count": 12,
   "id": "f85632b9",
   "metadata": {},
   "outputs": [
    {
     "data": {
      "text/plain": [
       "20"
      ]
     },
     "execution_count": 12,
     "metadata": {},
     "output_type": "execute_result"
    }
   ],
   "source": [
    "experience=[]\n",
    "exp_tags=driver.find_elements(By.XPATH,'//li[@class=\"fleft br2 placeHolderLi experience\"]') \n",
    "for i in exp_tags:\n",
    "    experience.append(i.text)\n",
    "len(experience)"
   ]
  },
  {
   "cell_type": "code",
   "execution_count": 13,
   "id": "2891619a",
   "metadata": {},
   "outputs": [
    {
     "data": {
      "text/plain": [
       "['3-6 Yrs',\n",
       " '5-11 Yrs',\n",
       " '5-12 Yrs',\n",
       " '3-5 Yrs',\n",
       " '6-8 Yrs',\n",
       " '3-5 Yrs',\n",
       " '4-8 Yrs',\n",
       " '10-14 Yrs',\n",
       " '4-8 Yrs',\n",
       " '5-8 Yrs',\n",
       " '5-8 Yrs',\n",
       " '2-5 Yrs',\n",
       " '3-8 Yrs',\n",
       " '3-8 Yrs',\n",
       " '3-6 Yrs',\n",
       " '3-7 Yrs',\n",
       " '3-8 Yrs',\n",
       " '5-6 Yrs',\n",
       " '3-5 Yrs',\n",
       " '7-12 Yrs']"
      ]
     },
     "execution_count": 13,
     "metadata": {},
     "output_type": "execute_result"
    }
   ],
   "source": [
    "experience"
   ]
  },
  {
   "cell_type": "code",
   "execution_count": 14,
   "id": "d96b13d7",
   "metadata": {},
   "outputs": [
    {
     "data": {
      "text/plain": [
       "20"
      ]
     },
     "execution_count": 14,
     "metadata": {},
     "output_type": "execute_result"
    }
   ],
   "source": [
    "location=[]\n",
    "locn_tags=driver.find_elements(By.XPATH,'//li[@class=\"fleft br2 placeHolderLi location\"]')\n",
    "for i in locn_tags:\n",
    "    location.append(i.text)\n",
    "len(location)"
   ]
  },
  {
   "cell_type": "code",
   "execution_count": 15,
   "id": "f771ad47",
   "metadata": {},
   "outputs": [
    {
     "data": {
      "text/plain": [
       "['Hybrid - Bangalore/Bengaluru, Pune, Delhi / NCR, Mumbai (All Areas)',\n",
       " 'Bangalore/Bengaluru, Mumbai, Pune, Chennai, Gurgaon/Gurugram',\n",
       " 'Bangalore/Bengaluru, Kolkata, Mumbai, New Delhi, Hyderabad/Secunderabad, Pune, Chennai',\n",
       " 'Bangalore/Bengaluru, Mumbai, New Delhi',\n",
       " 'Bangalore/Bengaluru',\n",
       " 'Bangalore/Bengaluru',\n",
       " 'Bangalore/Bengaluru',\n",
       " 'Bangalore/Bengaluru',\n",
       " 'Bangalore/Bengaluru',\n",
       " 'Bangalore/Bengaluru',\n",
       " 'Bangalore/Bengaluru',\n",
       " 'Bangalore/Bengaluru',\n",
       " 'Bangalore/Bengaluru, Kolkata, Mumbai, Hyderabad/Secunderabad, Pune, Ahmedabad, Chennai, Delhi / NCR',\n",
       " 'Hybrid - Bangalore/Bengaluru, Chennai, Coimbatore, Hyderabad',\n",
       " 'Bangalore/Bengaluru',\n",
       " 'Bangalore/Bengaluru',\n",
       " 'Bangalore/Bengaluru',\n",
       " 'Bangalore/Bengaluru',\n",
       " 'Bangalore/Bengaluru',\n",
       " 'Bangalore/Bengaluru']"
      ]
     },
     "execution_count": 15,
     "metadata": {},
     "output_type": "execute_result"
    }
   ],
   "source": [
    "location"
   ]
  },
  {
   "cell_type": "code",
   "execution_count": 16,
   "id": "f841d2f6",
   "metadata": {},
   "outputs": [
    {
     "data": {
      "text/html": [
       "<div>\n",
       "<style scoped>\n",
       "    .dataframe tbody tr th:only-of-type {\n",
       "        vertical-align: middle;\n",
       "    }\n",
       "\n",
       "    .dataframe tbody tr th {\n",
       "        vertical-align: top;\n",
       "    }\n",
       "\n",
       "    .dataframe thead th {\n",
       "        text-align: right;\n",
       "    }\n",
       "</style>\n",
       "<table border=\"1\" class=\"dataframe\">\n",
       "  <thead>\n",
       "    <tr style=\"text-align: right;\">\n",
       "      <th></th>\n",
       "      <th>Job Title</th>\n",
       "      <th>Company</th>\n",
       "      <th>Experience</th>\n",
       "      <th>Location</th>\n",
       "    </tr>\n",
       "  </thead>\n",
       "  <tbody>\n",
       "    <tr>\n",
       "      <th>0</th>\n",
       "      <td>Data Scientist</td>\n",
       "      <td>Infogain</td>\n",
       "      <td>3-6 Yrs</td>\n",
       "      <td>Hybrid - Bangalore/Bengaluru, Pune, Delhi / NC...</td>\n",
       "    </tr>\n",
       "    <tr>\n",
       "      <th>1</th>\n",
       "      <td>Data Scientist_NLP</td>\n",
       "      <td>Fractal Analytics</td>\n",
       "      <td>5-11 Yrs</td>\n",
       "      <td>Bangalore/Bengaluru, Mumbai, Pune, Chennai, Gu...</td>\n",
       "    </tr>\n",
       "    <tr>\n",
       "      <th>2</th>\n",
       "      <td>Machine Learning (AI) Architect</td>\n",
       "      <td>Persistent</td>\n",
       "      <td>5-12 Yrs</td>\n",
       "      <td>Bangalore/Bengaluru, Kolkata, Mumbai, New Delh...</td>\n",
       "    </tr>\n",
       "    <tr>\n",
       "      <th>3</th>\n",
       "      <td>Manager, Data Solution Specialist</td>\n",
       "      <td>Pfizer</td>\n",
       "      <td>3-5 Yrs</td>\n",
       "      <td>Bangalore/Bengaluru, Mumbai, New Delhi</td>\n",
       "    </tr>\n",
       "    <tr>\n",
       "      <th>4</th>\n",
       "      <td>Senior Data Scientist, Product Analytics - Cus...</td>\n",
       "      <td>Uber</td>\n",
       "      <td>6-8 Yrs</td>\n",
       "      <td>Bangalore/Bengaluru</td>\n",
       "    </tr>\n",
       "    <tr>\n",
       "      <th>5</th>\n",
       "      <td>Senior Specialist</td>\n",
       "      <td>Infineon</td>\n",
       "      <td>3-5 Yrs</td>\n",
       "      <td>Bangalore/Bengaluru</td>\n",
       "    </tr>\n",
       "    <tr>\n",
       "      <th>6</th>\n",
       "      <td>Advisory Data Scientist</td>\n",
       "      <td>IBM</td>\n",
       "      <td>4-8 Yrs</td>\n",
       "      <td>Bangalore/Bengaluru</td>\n",
       "    </tr>\n",
       "    <tr>\n",
       "      <th>7</th>\n",
       "      <td>Senior Advisory Data Scientist</td>\n",
       "      <td>IBM</td>\n",
       "      <td>10-14 Yrs</td>\n",
       "      <td>Bangalore/Bengaluru</td>\n",
       "    </tr>\n",
       "    <tr>\n",
       "      <th>8</th>\n",
       "      <td>Advisory Data Scientist</td>\n",
       "      <td>IBM</td>\n",
       "      <td>4-8 Yrs</td>\n",
       "      <td>Bangalore/Bengaluru</td>\n",
       "    </tr>\n",
       "    <tr>\n",
       "      <th>9</th>\n",
       "      <td>Artificial Intelligence Senior Analyst-Intelli...</td>\n",
       "      <td>Accenture</td>\n",
       "      <td>5-8 Yrs</td>\n",
       "      <td>Bangalore/Bengaluru</td>\n",
       "    </tr>\n",
       "    <tr>\n",
       "      <th>10</th>\n",
       "      <td>Data Science Senior Analyst</td>\n",
       "      <td>Accenture</td>\n",
       "      <td>5-8 Yrs</td>\n",
       "      <td>Bangalore/Bengaluru</td>\n",
       "    </tr>\n",
       "    <tr>\n",
       "      <th>11</th>\n",
       "      <td>Research Scientist</td>\n",
       "      <td>Siemens</td>\n",
       "      <td>2-5 Yrs</td>\n",
       "      <td>Bangalore/Bengaluru</td>\n",
       "    </tr>\n",
       "    <tr>\n",
       "      <th>12</th>\n",
       "      <td>Data Scientist</td>\n",
       "      <td>HR Remedy India</td>\n",
       "      <td>3-8 Yrs</td>\n",
       "      <td>Bangalore/Bengaluru, Kolkata, Mumbai, Hyderaba...</td>\n",
       "    </tr>\n",
       "    <tr>\n",
       "      <th>13</th>\n",
       "      <td>Permanent Opportunity For Data scientist with AWS</td>\n",
       "      <td>Deloitte</td>\n",
       "      <td>3-8 Yrs</td>\n",
       "      <td>Hybrid - Bangalore/Bengaluru, Chennai, Coimbat...</td>\n",
       "    </tr>\n",
       "    <tr>\n",
       "      <th>14</th>\n",
       "      <td>Data Scientist- Bangalore</td>\n",
       "      <td>Trigent Software</td>\n",
       "      <td>3-6 Yrs</td>\n",
       "      <td>Bangalore/Bengaluru</td>\n",
       "    </tr>\n",
       "    <tr>\n",
       "      <th>15</th>\n",
       "      <td>Data Scientist (ML, Python, Tensorflow)</td>\n",
       "      <td>Blue Yonder</td>\n",
       "      <td>3-7 Yrs</td>\n",
       "      <td>Bangalore/Bengaluru</td>\n",
       "    </tr>\n",
       "    <tr>\n",
       "      <th>16</th>\n",
       "      <td>Data Scientist</td>\n",
       "      <td>Infosys</td>\n",
       "      <td>3-8 Yrs</td>\n",
       "      <td>Bangalore/Bengaluru</td>\n",
       "    </tr>\n",
       "    <tr>\n",
       "      <th>17</th>\n",
       "      <td>R&amp;D Specialist</td>\n",
       "      <td>Nokia</td>\n",
       "      <td>5-6 Yrs</td>\n",
       "      <td>Bangalore/Bengaluru</td>\n",
       "    </tr>\n",
       "    <tr>\n",
       "      <th>18</th>\n",
       "      <td>Data Science Analyst</td>\n",
       "      <td>Accenture</td>\n",
       "      <td>3-5 Yrs</td>\n",
       "      <td>Bangalore/Bengaluru</td>\n",
       "    </tr>\n",
       "    <tr>\n",
       "      <th>19</th>\n",
       "      <td>Data Scientist</td>\n",
       "      <td>IBM</td>\n",
       "      <td>7-12 Yrs</td>\n",
       "      <td>Bangalore/Bengaluru</td>\n",
       "    </tr>\n",
       "  </tbody>\n",
       "</table>\n",
       "</div>"
      ],
      "text/plain": [
       "                                            Job Title            Company  \\\n",
       "0                                      Data Scientist           Infogain   \n",
       "1                                  Data Scientist_NLP  Fractal Analytics   \n",
       "2                     Machine Learning (AI) Architect         Persistent   \n",
       "3                   Manager, Data Solution Specialist             Pfizer   \n",
       "4   Senior Data Scientist, Product Analytics - Cus...               Uber   \n",
       "5                                   Senior Specialist           Infineon   \n",
       "6                             Advisory Data Scientist                IBM   \n",
       "7                      Senior Advisory Data Scientist                IBM   \n",
       "8                             Advisory Data Scientist                IBM   \n",
       "9   Artificial Intelligence Senior Analyst-Intelli...          Accenture   \n",
       "10                        Data Science Senior Analyst          Accenture   \n",
       "11                                 Research Scientist            Siemens   \n",
       "12                                     Data Scientist    HR Remedy India   \n",
       "13  Permanent Opportunity For Data scientist with AWS           Deloitte   \n",
       "14                          Data Scientist- Bangalore   Trigent Software   \n",
       "15            Data Scientist (ML, Python, Tensorflow)        Blue Yonder   \n",
       "16                                     Data Scientist            Infosys   \n",
       "17                                     R&D Specialist              Nokia   \n",
       "18                               Data Science Analyst          Accenture   \n",
       "19                                     Data Scientist                IBM   \n",
       "\n",
       "   Experience                                           Location  \n",
       "0     3-6 Yrs  Hybrid - Bangalore/Bengaluru, Pune, Delhi / NC...  \n",
       "1    5-11 Yrs  Bangalore/Bengaluru, Mumbai, Pune, Chennai, Gu...  \n",
       "2    5-12 Yrs  Bangalore/Bengaluru, Kolkata, Mumbai, New Delh...  \n",
       "3     3-5 Yrs             Bangalore/Bengaluru, Mumbai, New Delhi  \n",
       "4     6-8 Yrs                                Bangalore/Bengaluru  \n",
       "5     3-5 Yrs                                Bangalore/Bengaluru  \n",
       "6     4-8 Yrs                                Bangalore/Bengaluru  \n",
       "7   10-14 Yrs                                Bangalore/Bengaluru  \n",
       "8     4-8 Yrs                                Bangalore/Bengaluru  \n",
       "9     5-8 Yrs                                Bangalore/Bengaluru  \n",
       "10    5-8 Yrs                                Bangalore/Bengaluru  \n",
       "11    2-5 Yrs                                Bangalore/Bengaluru  \n",
       "12    3-8 Yrs  Bangalore/Bengaluru, Kolkata, Mumbai, Hyderaba...  \n",
       "13    3-8 Yrs  Hybrid - Bangalore/Bengaluru, Chennai, Coimbat...  \n",
       "14    3-6 Yrs                                Bangalore/Bengaluru  \n",
       "15    3-7 Yrs                                Bangalore/Bengaluru  \n",
       "16    3-8 Yrs                                Bangalore/Bengaluru  \n",
       "17    5-6 Yrs                                Bangalore/Bengaluru  \n",
       "18    3-5 Yrs                                Bangalore/Bengaluru  \n",
       "19   7-12 Yrs                                Bangalore/Bengaluru  "
      ]
     },
     "execution_count": 16,
     "metadata": {},
     "output_type": "execute_result"
    }
   ],
   "source": [
    "jobs=pd.DataFrame()\n",
    "jobs['Job Title']=job_titles\n",
    "jobs['Company']=company_names\n",
    "jobs['Experience']=experience\n",
    "jobs['Location']=location\n",
    "jobs"
   ]
  },
  {
   "cell_type": "markdown",
   "id": "dd2f8ee0",
   "metadata": {},
   "source": [
    "# Q3"
   ]
  },
  {
   "cell_type": "code",
   "execution_count": 3,
   "id": "86880495",
   "metadata": {},
   "outputs": [],
   "source": [
    "driver=webdriver.Chrome(r'C:\\Users\\Admin\\Downloads\\chromedriver_win32 (1)\\chromedriver.exe')"
   ]
  },
  {
   "cell_type": "code",
   "execution_count": 4,
   "id": "a84007c5",
   "metadata": {},
   "outputs": [],
   "source": [
    "driver.maximize_window()"
   ]
  },
  {
   "cell_type": "code",
   "execution_count": 5,
   "id": "c2fabfbd",
   "metadata": {},
   "outputs": [],
   "source": [
    "url='https://www.naukri.com/'\n",
    "driver.get(url)"
   ]
  },
  {
   "cell_type": "code",
   "execution_count": 15,
   "id": "c45cf399",
   "metadata": {},
   "outputs": [],
   "source": [
    "search_job=driver.find_element(By.CLASS_NAME,\"suggestor-input\") \n",
    "search_job.send_keys(\"Data Scientist\")"
   ]
  },
  {
   "cell_type": "code",
   "execution_count": 16,
   "id": "7d692a0f",
   "metadata": {},
   "outputs": [],
   "source": [
    "search_btn=driver.find_element(By.CLASS_NAME,\"qsbSubmit\")\n",
    "search_btn.click()"
   ]
  },
  {
   "cell_type": "code",
   "execution_count": 25,
   "id": "3e76d551",
   "metadata": {},
   "outputs": [],
   "source": [
    "filter_btn=driver.find_element(By.XPATH,\"/html/body/div[1]/div[4]/div/div/section[1]/div[2]/div[5]/div[2]/div[2]/label/i\")\n",
    "filter_btn.click()"
   ]
  },
  {
   "cell_type": "code",
   "execution_count": 26,
   "id": "7e91fa16",
   "metadata": {},
   "outputs": [],
   "source": [
    "filter_btn2=driver.find_element(By.XPATH,\"/html/body/div[1]/div[4]/div/div/section[1]/div[2]/div[6]/div[2]/div[2]/label/i\")"
   ]
  },
  {
   "cell_type": "code",
   "execution_count": 27,
   "id": "bf3fc31b",
   "metadata": {},
   "outputs": [],
   "source": [
    "filter_btn2.click()"
   ]
  },
  {
   "cell_type": "code",
   "execution_count": 28,
   "id": "19ebb45d",
   "metadata": {},
   "outputs": [
    {
     "data": {
      "text/plain": [
       "20"
      ]
     },
     "execution_count": 28,
     "metadata": {},
     "output_type": "execute_result"
    }
   ],
   "source": [
    "job_titles=[]\n",
    "title_tags=driver.find_elements(By.XPATH,\"//a[@class='title ellipsis']\")\n",
    "for i in title_tags:\n",
    "    job_titles.append(i.text)\n",
    "len(job_titles)"
   ]
  },
  {
   "cell_type": "code",
   "execution_count": 29,
   "id": "2ffa9eb9",
   "metadata": {},
   "outputs": [
    {
     "data": {
      "text/plain": [
       "['Junior Data Scientist',\n",
       " 'Data Scientist',\n",
       " 'Data Scientist',\n",
       " 'Junior Data Scientist',\n",
       " 'MLOps - Data Scientist',\n",
       " 'Data Scientist',\n",
       " 'Data Scientist - II (Contract)',\n",
       " 'Research Scientist - Bioinformatics',\n",
       " 'Data Scientist - I',\n",
       " 'Machine Learning Engineer',\n",
       " 'Data Scientist',\n",
       " 'Data Scientist',\n",
       " 'Modeler',\n",
       " 'Data Scientist',\n",
       " 'Data Scientist',\n",
       " 'data scientist - biotechnology Jobs',\n",
       " 'Data Scientist',\n",
       " 'Senior BI Specialist - (f/m/x)',\n",
       " 'Data Scientist',\n",
       " 'Senior Data Scientist - Python (f/m/x)']"
      ]
     },
     "execution_count": 29,
     "metadata": {},
     "output_type": "execute_result"
    }
   ],
   "source": [
    "job_titles"
   ]
  },
  {
   "cell_type": "code",
   "execution_count": 30,
   "id": "3c96e0dd",
   "metadata": {},
   "outputs": [],
   "source": [
    "company_names=[]\n",
    "company_tags=driver.find_elements(By.XPATH,\"//a[@class='subTitle ellipsis fleft']\")\n",
    "for i in company_tags:\n",
    "    company_names.append(i.text)"
   ]
  },
  {
   "cell_type": "code",
   "execution_count": 31,
   "id": "05ece63c",
   "metadata": {},
   "outputs": [
    {
     "data": {
      "text/plain": [
       "['Analytos',\n",
       " 'Blackbuck',\n",
       " 'Analytos',\n",
       " 'Adidas',\n",
       " 'Paytm',\n",
       " 'Gforce Consulting Solutions',\n",
       " 'Netomi',\n",
       " 'Biopeople India',\n",
       " 'Netomi',\n",
       " 'Profit By Outsourcing',\n",
       " 'NMS Consultant',\n",
       " 'Itforte Staffing Services',\n",
       " 'Resource Access Management Solutions Pvt. Ltd.',\n",
       " 'Ank Aha',\n",
       " 'Alliance Recruitment Agency',\n",
       " 'Right Step Consulting',\n",
       " 'Mahajan Imaging',\n",
       " 'Razor Group Gmbh',\n",
       " 'Razor Group Gmbh',\n",
       " 'Razor Group Gmbh']"
      ]
     },
     "execution_count": 31,
     "metadata": {},
     "output_type": "execute_result"
    }
   ],
   "source": [
    "company_names"
   ]
  },
  {
   "cell_type": "code",
   "execution_count": 32,
   "id": "d87fe56f",
   "metadata": {},
   "outputs": [
    {
     "data": {
      "text/plain": [
       "20"
      ]
     },
     "execution_count": 32,
     "metadata": {},
     "output_type": "execute_result"
    }
   ],
   "source": [
    "experience=[]\n",
    "exp_tags=driver.find_elements(By.XPATH,\"//span[@class='ellipsis fleft expwdth']\") # this is the format for relative xpath where it starts with double forward slash with the tag name\n",
    "for i in exp_tags:\n",
    "    experience.append(i.text)\n",
    "len(experience)"
   ]
  },
  {
   "cell_type": "code",
   "execution_count": 33,
   "id": "1d5e100a",
   "metadata": {},
   "outputs": [
    {
     "data": {
      "text/plain": [
       "['0-2 Yrs',\n",
       " '3-7 Yrs',\n",
       " '2-4 Yrs',\n",
       " '1-6 Yrs',\n",
       " '3-8 Yrs',\n",
       " '3-8 Yrs',\n",
       " '3-7 Yrs',\n",
       " '0-2 Yrs',\n",
       " '3-6 Yrs',\n",
       " '2-7 Yrs',\n",
       " '6-11 Yrs',\n",
       " '3-8 Yrs',\n",
       " '3-7 Yrs',\n",
       " '2-7 Yrs',\n",
       " '3-4 Yrs',\n",
       " '2-5 Yrs',\n",
       " '2-6 Yrs',\n",
       " '5-9 Yrs',\n",
       " '2-3 Yrs',\n",
       " '5-10 Yrs']"
      ]
     },
     "execution_count": 33,
     "metadata": {},
     "output_type": "execute_result"
    }
   ],
   "source": [
    "experience"
   ]
  },
  {
   "cell_type": "code",
   "execution_count": 35,
   "id": "57cfdd5f",
   "metadata": {},
   "outputs": [
    {
     "data": {
      "text/plain": [
       "20"
      ]
     },
     "execution_count": 35,
     "metadata": {},
     "output_type": "execute_result"
    }
   ],
   "source": [
    "location=[]\n",
    "locn_tags=driver.find_elements(By.XPATH,\"//span[@class='ellipsis fleft locWdth']\")# this is the format for relative xpath where it starts with double forward slash with the tag name\n",
    "for i in locn_tags:\n",
    "    location.append(i.text)\n",
    "len(location)"
   ]
  },
  {
   "cell_type": "code",
   "execution_count": 36,
   "id": "4112fd20",
   "metadata": {},
   "outputs": [
    {
     "data": {
      "text/plain": [
       "['Kolkata, Mumbai, New Delhi, Hyderabad/Secunderabad, Pune, Chennai, Bangalore/Bengaluru',\n",
       " 'Gurgaon/Gurugram, Bangalore/Bengaluru',\n",
       " 'Kolkata, Mumbai, New Delhi, Hyderabad/Secunderabad, Pune, Chennai, Bangalore/Bengaluru',\n",
       " 'Gurgaon/Gurugram, United States (USA), Bulgaria',\n",
       " 'Noida',\n",
       " 'Kolkata, Pune, Gurgaon/Gurugram',\n",
       " 'Gurgaon/Gurugram',\n",
       " 'Gurgaon/Gurugram',\n",
       " 'Gurgaon/Gurugram',\n",
       " 'Noida',\n",
       " 'Gurgaon/Gurugram',\n",
       " 'Gurgaon/Gurugram',\n",
       " 'Noida',\n",
       " 'New Delhi',\n",
       " 'Noida',\n",
       " 'New Delhi',\n",
       " 'New Delhi',\n",
       " 'New Delhi',\n",
       " 'New Delhi',\n",
       " 'New Delhi']"
      ]
     },
     "execution_count": 36,
     "metadata": {},
     "output_type": "execute_result"
    }
   ],
   "source": [
    "location"
   ]
  },
  {
   "cell_type": "code",
   "execution_count": 37,
   "id": "3ff29ea5",
   "metadata": {},
   "outputs": [
    {
     "data": {
      "text/html": [
       "<div>\n",
       "<style scoped>\n",
       "    .dataframe tbody tr th:only-of-type {\n",
       "        vertical-align: middle;\n",
       "    }\n",
       "\n",
       "    .dataframe tbody tr th {\n",
       "        vertical-align: top;\n",
       "    }\n",
       "\n",
       "    .dataframe thead th {\n",
       "        text-align: right;\n",
       "    }\n",
       "</style>\n",
       "<table border=\"1\" class=\"dataframe\">\n",
       "  <thead>\n",
       "    <tr style=\"text-align: right;\">\n",
       "      <th></th>\n",
       "      <th>Job Title</th>\n",
       "      <th>Company</th>\n",
       "      <th>Experience</th>\n",
       "      <th>Location</th>\n",
       "    </tr>\n",
       "  </thead>\n",
       "  <tbody>\n",
       "    <tr>\n",
       "      <th>0</th>\n",
       "      <td>Junior Data Scientist</td>\n",
       "      <td>Analytos</td>\n",
       "      <td>0-2 Yrs</td>\n",
       "      <td>Kolkata, Mumbai, New Delhi, Hyderabad/Secunder...</td>\n",
       "    </tr>\n",
       "    <tr>\n",
       "      <th>1</th>\n",
       "      <td>Data Scientist</td>\n",
       "      <td>Blackbuck</td>\n",
       "      <td>3-7 Yrs</td>\n",
       "      <td>Gurgaon/Gurugram, Bangalore/Bengaluru</td>\n",
       "    </tr>\n",
       "    <tr>\n",
       "      <th>2</th>\n",
       "      <td>Data Scientist</td>\n",
       "      <td>Analytos</td>\n",
       "      <td>2-4 Yrs</td>\n",
       "      <td>Kolkata, Mumbai, New Delhi, Hyderabad/Secunder...</td>\n",
       "    </tr>\n",
       "    <tr>\n",
       "      <th>3</th>\n",
       "      <td>Junior Data Scientist</td>\n",
       "      <td>Adidas</td>\n",
       "      <td>1-6 Yrs</td>\n",
       "      <td>Gurgaon/Gurugram, United States (USA), Bulgaria</td>\n",
       "    </tr>\n",
       "    <tr>\n",
       "      <th>4</th>\n",
       "      <td>MLOps - Data Scientist</td>\n",
       "      <td>Paytm</td>\n",
       "      <td>3-8 Yrs</td>\n",
       "      <td>Noida</td>\n",
       "    </tr>\n",
       "    <tr>\n",
       "      <th>5</th>\n",
       "      <td>Data Scientist</td>\n",
       "      <td>Gforce Consulting Solutions</td>\n",
       "      <td>3-8 Yrs</td>\n",
       "      <td>Kolkata, Pune, Gurgaon/Gurugram</td>\n",
       "    </tr>\n",
       "    <tr>\n",
       "      <th>6</th>\n",
       "      <td>Data Scientist - II (Contract)</td>\n",
       "      <td>Netomi</td>\n",
       "      <td>3-7 Yrs</td>\n",
       "      <td>Gurgaon/Gurugram</td>\n",
       "    </tr>\n",
       "    <tr>\n",
       "      <th>7</th>\n",
       "      <td>Research Scientist - Bioinformatics</td>\n",
       "      <td>Biopeople India</td>\n",
       "      <td>0-2 Yrs</td>\n",
       "      <td>Gurgaon/Gurugram</td>\n",
       "    </tr>\n",
       "    <tr>\n",
       "      <th>8</th>\n",
       "      <td>Data Scientist - I</td>\n",
       "      <td>Netomi</td>\n",
       "      <td>3-6 Yrs</td>\n",
       "      <td>Gurgaon/Gurugram</td>\n",
       "    </tr>\n",
       "    <tr>\n",
       "      <th>9</th>\n",
       "      <td>Machine Learning Engineer</td>\n",
       "      <td>Profit By Outsourcing</td>\n",
       "      <td>2-7 Yrs</td>\n",
       "      <td>Noida</td>\n",
       "    </tr>\n",
       "    <tr>\n",
       "      <th>10</th>\n",
       "      <td>Data Scientist</td>\n",
       "      <td>NMS Consultant</td>\n",
       "      <td>6-11 Yrs</td>\n",
       "      <td>Gurgaon/Gurugram</td>\n",
       "    </tr>\n",
       "    <tr>\n",
       "      <th>11</th>\n",
       "      <td>Data Scientist</td>\n",
       "      <td>Itforte Staffing Services</td>\n",
       "      <td>3-8 Yrs</td>\n",
       "      <td>Gurgaon/Gurugram</td>\n",
       "    </tr>\n",
       "    <tr>\n",
       "      <th>12</th>\n",
       "      <td>Modeler</td>\n",
       "      <td>Resource Access Management Solutions Pvt. Ltd.</td>\n",
       "      <td>3-7 Yrs</td>\n",
       "      <td>Noida</td>\n",
       "    </tr>\n",
       "    <tr>\n",
       "      <th>13</th>\n",
       "      <td>Data Scientist</td>\n",
       "      <td>Ank Aha</td>\n",
       "      <td>2-7 Yrs</td>\n",
       "      <td>New Delhi</td>\n",
       "    </tr>\n",
       "    <tr>\n",
       "      <th>14</th>\n",
       "      <td>Data Scientist</td>\n",
       "      <td>Alliance Recruitment Agency</td>\n",
       "      <td>3-4 Yrs</td>\n",
       "      <td>Noida</td>\n",
       "    </tr>\n",
       "    <tr>\n",
       "      <th>15</th>\n",
       "      <td>data scientist - biotechnology Jobs</td>\n",
       "      <td>Right Step Consulting</td>\n",
       "      <td>2-5 Yrs</td>\n",
       "      <td>New Delhi</td>\n",
       "    </tr>\n",
       "    <tr>\n",
       "      <th>16</th>\n",
       "      <td>Data Scientist</td>\n",
       "      <td>Mahajan Imaging</td>\n",
       "      <td>2-6 Yrs</td>\n",
       "      <td>New Delhi</td>\n",
       "    </tr>\n",
       "    <tr>\n",
       "      <th>17</th>\n",
       "      <td>Senior BI Specialist - (f/m/x)</td>\n",
       "      <td>Razor Group Gmbh</td>\n",
       "      <td>5-9 Yrs</td>\n",
       "      <td>New Delhi</td>\n",
       "    </tr>\n",
       "    <tr>\n",
       "      <th>18</th>\n",
       "      <td>Data Scientist</td>\n",
       "      <td>Razor Group Gmbh</td>\n",
       "      <td>2-3 Yrs</td>\n",
       "      <td>New Delhi</td>\n",
       "    </tr>\n",
       "    <tr>\n",
       "      <th>19</th>\n",
       "      <td>Senior Data Scientist - Python (f/m/x)</td>\n",
       "      <td>Razor Group Gmbh</td>\n",
       "      <td>5-10 Yrs</td>\n",
       "      <td>New Delhi</td>\n",
       "    </tr>\n",
       "  </tbody>\n",
       "</table>\n",
       "</div>"
      ],
      "text/plain": [
       "                                 Job Title  \\\n",
       "0                    Junior Data Scientist   \n",
       "1                           Data Scientist   \n",
       "2                           Data Scientist   \n",
       "3                    Junior Data Scientist   \n",
       "4                   MLOps - Data Scientist   \n",
       "5                           Data Scientist   \n",
       "6           Data Scientist - II (Contract)   \n",
       "7      Research Scientist - Bioinformatics   \n",
       "8                       Data Scientist - I   \n",
       "9                Machine Learning Engineer   \n",
       "10                          Data Scientist   \n",
       "11                          Data Scientist   \n",
       "12                                 Modeler   \n",
       "13                          Data Scientist   \n",
       "14                          Data Scientist   \n",
       "15     data scientist - biotechnology Jobs   \n",
       "16                          Data Scientist   \n",
       "17          Senior BI Specialist - (f/m/x)   \n",
       "18                          Data Scientist   \n",
       "19  Senior Data Scientist - Python (f/m/x)   \n",
       "\n",
       "                                           Company Experience  \\\n",
       "0                                         Analytos    0-2 Yrs   \n",
       "1                                        Blackbuck    3-7 Yrs   \n",
       "2                                         Analytos    2-4 Yrs   \n",
       "3                                           Adidas    1-6 Yrs   \n",
       "4                                            Paytm    3-8 Yrs   \n",
       "5                      Gforce Consulting Solutions    3-8 Yrs   \n",
       "6                                           Netomi    3-7 Yrs   \n",
       "7                                  Biopeople India    0-2 Yrs   \n",
       "8                                           Netomi    3-6 Yrs   \n",
       "9                            Profit By Outsourcing    2-7 Yrs   \n",
       "10                                  NMS Consultant   6-11 Yrs   \n",
       "11                       Itforte Staffing Services    3-8 Yrs   \n",
       "12  Resource Access Management Solutions Pvt. Ltd.    3-7 Yrs   \n",
       "13                                         Ank Aha    2-7 Yrs   \n",
       "14                     Alliance Recruitment Agency    3-4 Yrs   \n",
       "15                           Right Step Consulting    2-5 Yrs   \n",
       "16                                 Mahajan Imaging    2-6 Yrs   \n",
       "17                                Razor Group Gmbh    5-9 Yrs   \n",
       "18                                Razor Group Gmbh    2-3 Yrs   \n",
       "19                                Razor Group Gmbh   5-10 Yrs   \n",
       "\n",
       "                                             Location  \n",
       "0   Kolkata, Mumbai, New Delhi, Hyderabad/Secunder...  \n",
       "1               Gurgaon/Gurugram, Bangalore/Bengaluru  \n",
       "2   Kolkata, Mumbai, New Delhi, Hyderabad/Secunder...  \n",
       "3     Gurgaon/Gurugram, United States (USA), Bulgaria  \n",
       "4                                               Noida  \n",
       "5                     Kolkata, Pune, Gurgaon/Gurugram  \n",
       "6                                    Gurgaon/Gurugram  \n",
       "7                                    Gurgaon/Gurugram  \n",
       "8                                    Gurgaon/Gurugram  \n",
       "9                                               Noida  \n",
       "10                                   Gurgaon/Gurugram  \n",
       "11                                   Gurgaon/Gurugram  \n",
       "12                                              Noida  \n",
       "13                                          New Delhi  \n",
       "14                                              Noida  \n",
       "15                                          New Delhi  \n",
       "16                                          New Delhi  \n",
       "17                                          New Delhi  \n",
       "18                                          New Delhi  \n",
       "19                                          New Delhi  "
      ]
     },
     "execution_count": 37,
     "metadata": {},
     "output_type": "execute_result"
    }
   ],
   "source": [
    "jobs=pd.DataFrame()\n",
    "jobs['Job Title']=job_titles\n",
    "jobs['Company']=company_names\n",
    "jobs['Experience']=experience\n",
    "jobs['Location']=location\n",
    "jobs"
   ]
  },
  {
   "cell_type": "markdown",
   "id": "571a90ea",
   "metadata": {},
   "source": [
    "# Q4: Scrape data of first 100 sunglasses listings on flipkart.com"
   ]
  },
  {
   "cell_type": "code",
   "execution_count": 2,
   "id": "4a7a8810",
   "metadata": {},
   "outputs": [],
   "source": [
    "driver=webdriver.Chrome(r'C:\\Users\\Admin\\Downloads\\chromedriver_win32 (1)\\chromedriver.exe')"
   ]
  },
  {
   "cell_type": "code",
   "execution_count": 3,
   "id": "e19b084f",
   "metadata": {},
   "outputs": [],
   "source": [
    "driver.maximize_window()"
   ]
  },
  {
   "cell_type": "code",
   "execution_count": 4,
   "id": "a627b1da",
   "metadata": {},
   "outputs": [],
   "source": [
    "url='https://www.flipkart.com/'\n",
    "driver.get(url)"
   ]
  },
  {
   "cell_type": "code",
   "execution_count": 8,
   "id": "7c5d883e",
   "metadata": {},
   "outputs": [],
   "source": [
    "search_job=driver.find_element(By.CLASS_NAME,\"_3704LK\") \n",
    "search_job.send_keys(\"Sunglasses\")"
   ]
  },
  {
   "cell_type": "code",
   "execution_count": 9,
   "id": "e0e1f2fb",
   "metadata": {},
   "outputs": [],
   "source": [
    "search_btn=driver.find_element(By.CLASS_NAME,\"L0Z3Pu\")\n",
    "search_btn.click()"
   ]
  },
  {
   "cell_type": "code",
   "execution_count": 10,
   "id": "934ae86a",
   "metadata": {},
   "outputs": [
    {
     "data": {
      "text/plain": [
       "40"
      ]
     },
     "execution_count": 10,
     "metadata": {},
     "output_type": "execute_result"
    }
   ],
   "source": [
    "brand=[]\n",
    "brand_tags=driver.find_elements(By.XPATH,\"//div[@class='_2WkVRV']\")\n",
    "for i in brand_tags:\n",
    "    brand.append(i.text)\n",
    "len(brand)"
   ]
  },
  {
   "cell_type": "code",
   "execution_count": 11,
   "id": "3b536458",
   "metadata": {},
   "outputs": [
    {
     "name": "stdout",
     "output_type": "stream",
     "text": [
      "['Elligator', 'PIRASO', 'Elligator', 'VINCENT CHASE', 'Elligator', 'PIRASO', 'PIRASO', 'VINCENT CHASE', 'BKGE', 'Fastrack', 'SUNBEE', 'ROYAL SON', 'Shaah Collection', 'PIRASO', 'NuVew', 'VINCENT CHASE', 'Elligator', 'Fastrack', 'Fastrack', 'VINCENT CHASE', 'Elgator', 'DAHAAZIL', 'PIRASO', 'RESIST EYEWEAR', 'PIRASO', 'GANSTA', 'Fastrack', 'VINCENT CHASE', 'Rich Club', 'SUNBEE', 'PIRASO', 'VINCENT CHASE', 'VINCENT CHASE', 'Silver Kartz', 'like future', 'style guru', 'DEIXELS', 'PIRASO', 'ROZZETTA CRAFT', 'Eyewearlabs']\n"
     ]
    }
   ],
   "source": [
    "print(brand)"
   ]
  },
  {
   "cell_type": "code",
   "execution_count": 20,
   "id": "a712c804",
   "metadata": {},
   "outputs": [],
   "source": [
    "next_btn=driver.find_element(By.CLASS_NAME,\"_1LKTO3\")\n",
    "next_btn.click()"
   ]
  },
  {
   "cell_type": "code",
   "execution_count": 14,
   "id": "cad07164",
   "metadata": {},
   "outputs": [
    {
     "data": {
      "text/plain": [
       "40"
      ]
     },
     "execution_count": 14,
     "metadata": {},
     "output_type": "execute_result"
    }
   ],
   "source": [
    "brand2=[]\n",
    "brand2_tags=driver.find_elements(By.XPATH,\"//div[@class='_2WkVRV']\")\n",
    "for i in brand2_tags:\n",
    "    brand2.append(i.text)\n",
    "len(brand2)"
   ]
  },
  {
   "cell_type": "code",
   "execution_count": 15,
   "id": "ef310087",
   "metadata": {},
   "outputs": [
    {
     "data": {
      "text/plain": [
       "['MGKNYAH',\n",
       " 'kingsunglasses',\n",
       " 'Singco India',\n",
       " 'VINCENT CHASE',\n",
       " 'SUNBEE',\n",
       " 'ROZZETTA CRAFT',\n",
       " 'MGKNYAH',\n",
       " 'Eyewearlabs',\n",
       " 'SRPM',\n",
       " 'Silver Kartz',\n",
       " 'PIRASO',\n",
       " 'LOUIS KOUROS',\n",
       " 'Fastrack',\n",
       " 'Fastrack',\n",
       " 'METRONAUT',\n",
       " 'VINCENT CHASE',\n",
       " 'SUNBEE',\n",
       " 'SUNBEE',\n",
       " 'Fastrack',\n",
       " 'VINCENT CHASE',\n",
       " 'Fastrack',\n",
       " 'SUNBEE',\n",
       " 'NuVew',\n",
       " 'Eyewearlabs',\n",
       " 'Elligator',\n",
       " 'SRPM',\n",
       " 'CRYSTAL CART',\n",
       " 'Youth Club',\n",
       " 'NuVew',\n",
       " 'LIZA ANGEL',\n",
       " 'GANSTA',\n",
       " 'ROYAL SON',\n",
       " 'Shaah Collection',\n",
       " 'PIRASO',\n",
       " 'PIRASO',\n",
       " 'Royaltail',\n",
       " 'Fastrack',\n",
       " 'NuVew',\n",
       " 'AISLIN',\n",
       " 'MOPANKH']"
      ]
     },
     "execution_count": 15,
     "metadata": {},
     "output_type": "execute_result"
    }
   ],
   "source": [
    "brand2"
   ]
  },
  {
   "cell_type": "code",
   "execution_count": 22,
   "id": "770a8fbb",
   "metadata": {},
   "outputs": [],
   "source": [
    "next3_btn=driver.find_element(By.CLASS_NAME,\"_1LKTO3\")\n",
    "next3_btn.click()"
   ]
  },
  {
   "cell_type": "code",
   "execution_count": 23,
   "id": "496a0984",
   "metadata": {},
   "outputs": [
    {
     "data": {
      "text/plain": [
       "40"
      ]
     },
     "execution_count": 23,
     "metadata": {},
     "output_type": "execute_result"
    }
   ],
   "source": [
    "brand3=[]\n",
    "brand3_tags=driver.find_elements(By.XPATH,\"//div[@class='_2WkVRV']\")\n",
    "for i in brand3_tags:\n",
    "    brand3.append(i.text)\n",
    "len(brand3)"
   ]
  },
  {
   "cell_type": "code",
   "execution_count": 24,
   "id": "b796fcbc",
   "metadata": {},
   "outputs": [
    {
     "data": {
      "text/plain": [
       "['Anemone',\n",
       " 'Fastrack',\n",
       " 'HRX by Hrithik Roshan',\n",
       " 'PC STAR',\n",
       " 'Fastrack',\n",
       " 'LIZA ANGEL',\n",
       " 'ROYAL SON',\n",
       " 'Singco India',\n",
       " 'ROYAL SON',\n",
       " 'Fastrack',\n",
       " 'Fastrack',\n",
       " 'RESIST EYEWEAR',\n",
       " 'VINCENT CHASE',\n",
       " 'Fastrack',\n",
       " 'LIZA ANGEL',\n",
       " 'OCHILA',\n",
       " 'AISLIN',\n",
       " 'VINCENT CHASE',\n",
       " 'RED MONK',\n",
       " 'VINCENT CHASE',\n",
       " 'ROZZETTA CRAFT',\n",
       " 'Fastrack',\n",
       " 'CRYSTAL CART',\n",
       " 'AISLIN',\n",
       " 'Fastrack',\n",
       " 'Singco India',\n",
       " 'NuVew',\n",
       " 'Eyewearlabs',\n",
       " 'NuVew',\n",
       " 'Fastrack',\n",
       " 'VINCENT CHASE',\n",
       " 'R Resist',\n",
       " 'HRX by Hrithik Roshan',\n",
       " 'Singco India',\n",
       " 'ROYAL SON',\n",
       " 'Velocity Eyewear',\n",
       " 'ROYAL SON',\n",
       " 'Elligator',\n",
       " 'ROYAL SON',\n",
       " 'Eyewearlabs']"
      ]
     },
     "execution_count": 24,
     "metadata": {},
     "output_type": "execute_result"
    }
   ],
   "source": [
    "brand3"
   ]
  },
  {
   "cell_type": "markdown",
   "id": "2516154e",
   "metadata": {},
   "source": [
    "# product description"
   ]
  },
  {
   "cell_type": "code",
   "execution_count": 25,
   "id": "9e0dc893",
   "metadata": {},
   "outputs": [
    {
     "data": {
      "text/plain": [
       "39"
      ]
     },
     "execution_count": 25,
     "metadata": {},
     "output_type": "execute_result"
    }
   ],
   "source": [
    "description=[]\n",
    "description_tags=driver.find_elements(By.XPATH,\"//a[@class='IRpwTa']\")\n",
    "for i in description_tags:\n",
    "    description.append(i.text)\n",
    "len(description)"
   ]
  },
  {
   "cell_type": "code",
   "execution_count": 26,
   "id": "75e0b92b",
   "metadata": {},
   "outputs": [
    {
     "data": {
      "text/plain": [
       "['UV Protection Wayfarer Sunglasses (53)',\n",
       " 'UV Protection Aviator Sunglasses (Free Size)',\n",
       " 'UV Protection, Mirrored Wayfarer Sunglasses (54)',\n",
       " 'Polarized, UV Protection Round Sunglasses (50)',\n",
       " 'UV Protection Cat-eye, Retro Square, Oval, Round Sungla...',\n",
       " 'UV Protection Clubmaster Sunglasses (54)',\n",
       " 'UV Protection Rectangular Sunglasses (52)',\n",
       " 'by Lenskart Polarized, UV Protection Wayfarer Sunglasse...',\n",
       " 'Polarized, UV Protection Retro Square Sunglasses (55)',\n",
       " 'UV Protection Aviator Sunglasses (Free Size)',\n",
       " 'UV Protection, Polarized Wayfarer Sunglasses (Free Size...',\n",
       " 'Others Retro Square Sunglasses (58)',\n",
       " 'UV Protection, Polarized, Mirrored Rectangular Sunglass...',\n",
       " 'UV Protection Aviator Sunglasses (58)',\n",
       " 'UV Protection Aviator Sunglasses (57)',\n",
       " 'by Lenskart Polarized, UV Protection Aviator Sunglasses...',\n",
       " 'UV Protection Round Sunglasses (53)',\n",
       " 'Gradient, UV Protection Wayfarer Sunglasses (Free Size)',\n",
       " 'UV Protection Wayfarer Sunglasses (Free Size)',\n",
       " 'by Lenskart Polarized, UV Protection Cat-eye Sunglasses...',\n",
       " 'UV Protection Aviator, Wayfarer Sunglasses (55)',\n",
       " 'UV Protection, Night Vision, Riding Glasses Wayfarer Su...',\n",
       " 'UV Protection Wayfarer Sunglasses (56)',\n",
       " 'Polarized, Riding Glasses, UV Protection Wayfarer Sungl...',\n",
       " 'UV Protection Over-sized Sunglasses (65)',\n",
       " 'Gradient, UV Protection Aviator Sunglasses (57)',\n",
       " 'UV Protection Wayfarer Sunglasses (62)',\n",
       " 'UV Protection Retro Square Sunglasses (54)',\n",
       " 'UV Protection Rectangular Sunglasses (Free Size)',\n",
       " 'UV Protection Aviator Sunglasses (54)',\n",
       " 'by Lenskart UV Protection Clubmaster Sunglasses (55)',\n",
       " 'UV Protection Wayfarer Sunglasses (59)',\n",
       " 'UV Protection Wayfarer Sunglasses (Free Size)',\n",
       " 'UV Protection Rectangular Sunglasses (Free Size)',\n",
       " 'Mirrored, Night Vision, UV Protection Wayfarer, Aviator...',\n",
       " 'Polarized, UV Protection, Riding Glasses Wayfarer Sungl...',\n",
       " 'UV Protection Wayfarer Sunglasses (32)',\n",
       " 'Polarized, Riding Glasses Sports, Wrap-around Sunglasse...',\n",
       " 'Polarized, UV Protection Aviator Sunglasses (56)']"
      ]
     },
     "execution_count": 26,
     "metadata": {},
     "output_type": "execute_result"
    }
   ],
   "source": [
    "description"
   ]
  },
  {
   "cell_type": "code",
   "execution_count": 30,
   "id": "cb0c7f8e",
   "metadata": {},
   "outputs": [],
   "source": [
    "description_btn=driver.find_element(By.CLASS_NAME,\"_1LKTO3\")\n",
    "description_btn.click()"
   ]
  },
  {
   "cell_type": "code",
   "execution_count": 31,
   "id": "510132d6",
   "metadata": {},
   "outputs": [
    {
     "data": {
      "text/plain": [
       "39"
      ]
     },
     "execution_count": 31,
     "metadata": {},
     "output_type": "execute_result"
    }
   ],
   "source": [
    "description2=[]\n",
    "description2_tags=driver.find_elements(By.XPATH,\"//a[@class='IRpwTa']\")\n",
    "for i in description2_tags:\n",
    "    description2.append(i.text)\n",
    "len(description2)"
   ]
  },
  {
   "cell_type": "code",
   "execution_count": 32,
   "id": "e1f7d7a2",
   "metadata": {},
   "outputs": [
    {
     "data": {
      "text/plain": [
       "['Mirrored Aviator Sunglasses (Free Size)',\n",
       " 'UV Protection Rectangular Sunglasses (55)',\n",
       " 'Riding Glasses, UV Protection Clubmaster, Wayfarer Sung...',\n",
       " 'Polarized, UV Protection Round Sunglasses (50)',\n",
       " 'UV Protection Rectangular Sunglasses (Free Size)',\n",
       " 'UV Protection Retro Square Sunglasses (Free Size)',\n",
       " 'UV Protection Aviator Sunglasses (Free Size)',\n",
       " 'UV Protection Aviator, Clubmaster, Wrap-around, Shield,...',\n",
       " 'UV Protection Aviator Sunglasses (56)',\n",
       " 'UV Protection Clubmaster Sunglasses (53)',\n",
       " 'UV Protection Butterfly Sunglasses (60)',\n",
       " 'UV Protection, Mirrored, Polarized Cat-eye Sunglasses (...',\n",
       " 'Gradient, UV Protection Wayfarer Sunglasses (Free Size)',\n",
       " 'Gradient, UV Protection Retro Square Sunglasses (56)',\n",
       " 'UV Protection Sunglass',\n",
       " 'UV Protection Retro Square Sunglasses (Free Size)',\n",
       " 'UV Protection, Polarized, Mirrored Round Sunglasses (Fr...',\n",
       " 'UV Protection, Polarized, Mirrored Retro Square Sunglas...',\n",
       " 'UV Protection Wayfarer Sunglasses (55)',\n",
       " 'Polarized, UV Protection Round Sunglasses (51)',\n",
       " 'UV Protection Aviator Sunglasses (57)',\n",
       " 'UV Protection Rectangular Sunglasses (Free Size)',\n",
       " 'UV Protection, Mirrored Aviator Sunglasses (58)',\n",
       " 'Polarized, UV Protection Rectangular Sunglasses (62)',\n",
       " 'UV Protection Wayfarer Sunglasses (53)',\n",
       " 'Polarized, UV Protection, Mirrored, Gradient Rectangula...',\n",
       " 'Polarized, UV Protection Rectangular Sunglasses (59)',\n",
       " 'UV Protection, Mirrored, Night Vision, Riding Glasses S...',\n",
       " 'Riding Glasses, Night Vision Spectacle Sunglasses (Fre...',\n",
       " 'UV Protection, Gradient Wayfarer, Round Sunglasses (53)',\n",
       " 'UV Protection Wayfarer Sunglasses (59)',\n",
       " 'UV Protection Round Sunglasses (54)',\n",
       " 'UV Protection Aviator Sunglasses (55)',\n",
       " 'Riding Glasses, Others Wayfarer, Clubmaster, Sports Sun...',\n",
       " 'Polarized, UV Protection Aviator Sunglasses (56)',\n",
       " 'UV Protection Wayfarer Sunglasses (Free Size)',\n",
       " 'UV Protection, Mirrored Wayfarer Sunglasses (57)',\n",
       " 'UV Protection, Gradient Round, Cat-eye Sunglasses (60)',\n",
       " 'Night Vision, Riding Glasses Sports Sunglasses (52)']"
      ]
     },
     "execution_count": 32,
     "metadata": {},
     "output_type": "execute_result"
    }
   ],
   "source": [
    "description2"
   ]
  },
  {
   "cell_type": "code",
   "execution_count": 33,
   "id": "924c8a2d",
   "metadata": {},
   "outputs": [],
   "source": [
    "description2_btn=driver.find_element(By.CLASS_NAME,\"_1LKTO3\")\n",
    "description2_btn.click()"
   ]
  },
  {
   "cell_type": "code",
   "execution_count": 34,
   "id": "747df320",
   "metadata": {},
   "outputs": [
    {
     "data": {
      "text/plain": [
       "40"
      ]
     },
     "execution_count": 34,
     "metadata": {},
     "output_type": "execute_result"
    }
   ],
   "source": [
    "description3=[]\n",
    "description3_tags=driver.find_elements(By.XPATH,\"//a[@class='IRpwTa']\")\n",
    "for i in description3_tags:\n",
    "    description3.append(i.text)\n",
    "len(description3)"
   ]
  },
  {
   "cell_type": "code",
   "execution_count": 35,
   "id": "a56fa668",
   "metadata": {},
   "outputs": [
    {
     "data": {
      "text/plain": [
       "['UV Protection, Gradient Round Sunglasses (Free Size)',\n",
       " 'Toughened Glass Lens, UV Protection, Riding Glasses, Ni...',\n",
       " 'Mirrored Aviator Sunglasses (55)',\n",
       " 'Riding Glasses, UV Protection Retro Square Sunglasses (...',\n",
       " 'Mirrored, UV Protection Rectangular Sunglasses (Free Si...',\n",
       " 'UV Protection Shield Sunglasses (Free Size)',\n",
       " 'UV Protection Rectangular Sunglasses (52)',\n",
       " 'UV Protection, Riding Glasses Rectangular Sunglasses (5...',\n",
       " 'Polarized, UV Protection Round Sunglasses (50)',\n",
       " 'UV Protection, Mirrored Wayfarer Sunglasses (57)',\n",
       " 'UV Protection, Riding Glasses Retro Square, Rectangular...',\n",
       " 'by Lenskart Polarized, UV Protection Rectangular Sungla...',\n",
       " 'UV Protection Wayfarer Sunglasses (58)',\n",
       " 'UV Protection, Gradient Butterfly, Retro Square Sunglas...',\n",
       " 'UV Protection Wayfarer Sunglasses (Free Size)',\n",
       " 'Toughened Glass Lens Aviator Sunglasses (Free Size)',\n",
       " 'by Lenskart Polarized, UV Protection Aviator Sunglasses...',\n",
       " 'Polarized, UV Protection Retro Square Sunglasses (61)',\n",
       " 'UV Protection Round Sunglasses (55)',\n",
       " 'UV Protection Wayfarer Sunglasses (54)',\n",
       " 'Polarized, UV Protection Aviator Sunglasses (58)',\n",
       " 'Mirrored Aviator Sunglasses (55)',\n",
       " 'UV Protection Round Sunglasses (54)',\n",
       " 'by Lenskart Polarized, UV Protection Wayfarer Sunglasse...',\n",
       " 'UV Protection, Gradient Rectangular Sunglasses (Free Si...',\n",
       " 'UV Protection Wayfarer Sunglasses (57)',\n",
       " 'UV Protection, Gradient Retro Square, Over-sized Sungla...',\n",
       " 'Toughened Glass Lens, UV Protection Wayfarer, Retro Squ...',\n",
       " 'UV Protection, Polarized, Gradient, Riding Glasses Retr...',\n",
       " 'UV Protection Wayfarer Sunglasses (Free Size)',\n",
       " 'Polarized Aviator Sunglasses (59)',\n",
       " 'Polarized, UV Protection Retro Square Sunglasses (54)',\n",
       " 'by Lenskart UV Protection Wayfarer Sunglasses (51)',\n",
       " 'UV Protection, Gradient Butterfly Sunglasses (52)',\n",
       " 'UV Protection Butterfly Sunglasses (65)',\n",
       " 'Toughened Glass Lens, UV Protection, Riding Glasses, Gr...',\n",
       " 'Polarized Rectangular Sunglasses (59)',\n",
       " 'UV Protection Rectangular Sunglasses (52)',\n",
       " 'by Lenskart Polarized, UV Protection Cat-eye Sunglasses...',\n",
       " 'UV Protection, Gradient Aviator Sunglasses (60)']"
      ]
     },
     "execution_count": 35,
     "metadata": {},
     "output_type": "execute_result"
    }
   ],
   "source": [
    "description3"
   ]
  },
  {
   "cell_type": "markdown",
   "id": "bb29f7eb",
   "metadata": {},
   "source": [
    "# price"
   ]
  },
  {
   "cell_type": "code",
   "execution_count": 36,
   "id": "071c86f0",
   "metadata": {},
   "outputs": [
    {
     "data": {
      "text/plain": [
       "40"
      ]
     },
     "execution_count": 36,
     "metadata": {},
     "output_type": "execute_result"
    }
   ],
   "source": [
    "price=[]\n",
    "price_tags=driver.find_elements(By.XPATH,\"//div[@class='_30jeq3']\")\n",
    "for i in price_tags:\n",
    "    price.append(i.text)\n",
    "len(price)"
   ]
  },
  {
   "cell_type": "code",
   "execution_count": 37,
   "id": "1f413ae7",
   "metadata": {},
   "outputs": [
    {
     "data": {
      "text/plain": [
       "['₹149',\n",
       " '₹268',\n",
       " '₹179',\n",
       " '₹879',\n",
       " '₹149',\n",
       " '₹254',\n",
       " '₹149',\n",
       " '₹474',\n",
       " '₹174',\n",
       " '₹599',\n",
       " '₹315',\n",
       " '₹879',\n",
       " '₹210',\n",
       " '₹274',\n",
       " '₹149',\n",
       " '₹929',\n",
       " '₹210',\n",
       " '₹749',\n",
       " '₹125',\n",
       " '₹1,399',\n",
       " '₹649',\n",
       " '₹149',\n",
       " '₹214',\n",
       " '₹849',\n",
       " '₹342',\n",
       " '₹292',\n",
       " '₹679',\n",
       " '₹929',\n",
       " '₹629',\n",
       " '₹479',\n",
       " '₹212',\n",
       " '₹764',\n",
       " '₹215',\n",
       " '₹224',\n",
       " '₹214',\n",
       " '₹1,124',\n",
       " '₹499',\n",
       " '₹190',\n",
       " '₹267',\n",
       " '₹1,690']"
      ]
     },
     "execution_count": 37,
     "metadata": {},
     "output_type": "execute_result"
    }
   ],
   "source": [
    "price"
   ]
  },
  {
   "cell_type": "code",
   "execution_count": 38,
   "id": "3ce8a04e",
   "metadata": {},
   "outputs": [],
   "source": [
    "price_btn=driver.find_element(By.CLASS_NAME,\"_1LKTO3\")\n",
    "price_btn.click()"
   ]
  },
  {
   "cell_type": "code",
   "execution_count": 39,
   "id": "3353f146",
   "metadata": {},
   "outputs": [
    {
     "data": {
      "text/plain": [
       "40"
      ]
     },
     "execution_count": 39,
     "metadata": {},
     "output_type": "execute_result"
    }
   ],
   "source": [
    "price2=[]\n",
    "price2_tags=driver.find_elements(By.XPATH,\"//div[@class='_30jeq3']\")\n",
    "for i in price2_tags:\n",
    "    price2.append(i.text)\n",
    "len(price2)"
   ]
  },
  {
   "cell_type": "code",
   "execution_count": 40,
   "id": "6a8d7234",
   "metadata": {},
   "outputs": [
    {
     "data": {
      "text/plain": [
       "['₹189',\n",
       " '₹189',\n",
       " '₹149',\n",
       " '₹879',\n",
       " '₹262',\n",
       " '₹307',\n",
       " '₹179',\n",
       " '₹889',\n",
       " '₹243',\n",
       " '₹499',\n",
       " '₹679',\n",
       " '₹849',\n",
       " '₹373',\n",
       " '₹579',\n",
       " '₹244',\n",
       " '₹474',\n",
       " '₹259',\n",
       " '₹764',\n",
       " '₹579',\n",
       " '₹879',\n",
       " '₹210',\n",
       " '₹345',\n",
       " '₹115',\n",
       " '₹929',\n",
       " '₹299',\n",
       " '₹199',\n",
       " '₹292',\n",
       " '₹1,399',\n",
       " '₹464',\n",
       " '₹275',\n",
       " '₹224',\n",
       " '₹849',\n",
       " '₹179',\n",
       " '₹216',\n",
       " '₹211',\n",
       " '₹929',\n",
       " '₹679',\n",
       " '₹125',\n",
       " '₹448',\n",
       " '₹764']"
      ]
     },
     "execution_count": 40,
     "metadata": {},
     "output_type": "execute_result"
    }
   ],
   "source": [
    "price2"
   ]
  },
  {
   "cell_type": "code",
   "execution_count": 41,
   "id": "32ae7d8e",
   "metadata": {},
   "outputs": [],
   "source": [
    "price_btn2=driver.find_element(By.CLASS_NAME,\"_1LKTO3\")\n",
    "price_btn2.click()"
   ]
  },
  {
   "cell_type": "code",
   "execution_count": 42,
   "id": "35b8591a",
   "metadata": {},
   "outputs": [
    {
     "data": {
      "text/plain": [
       "40"
      ]
     },
     "execution_count": 42,
     "metadata": {},
     "output_type": "execute_result"
    }
   ],
   "source": [
    "price3=[]\n",
    "price3_tags=driver.find_elements(By.XPATH,\"//div[@class='_30jeq3']\")\n",
    "for i in price3_tags:\n",
    "    price3.append(i.text)\n",
    "len(price3)"
   ]
  },
  {
   "cell_type": "code",
   "execution_count": 43,
   "id": "515e4489",
   "metadata": {},
   "outputs": [
    {
     "data": {
      "text/plain": [
       "['₹421',\n",
       " '₹199',\n",
       " '₹398',\n",
       " '₹284',\n",
       " '₹271',\n",
       " '₹709',\n",
       " '₹266',\n",
       " '₹396',\n",
       " '₹873',\n",
       " '₹98',\n",
       " '₹449',\n",
       " '₹919',\n",
       " '₹829',\n",
       " '₹475',\n",
       " '₹602',\n",
       " '₹1,399',\n",
       " '₹879',\n",
       " '₹664',\n",
       " '₹664',\n",
       " '₹270',\n",
       " '₹711',\n",
       " '₹379',\n",
       " '₹249',\n",
       " '₹699',\n",
       " '₹419',\n",
       " '₹125',\n",
       " '₹520',\n",
       " '₹582',\n",
       " '₹220',\n",
       " '₹709',\n",
       " '₹1,049',\n",
       " '₹698',\n",
       " '₹679',\n",
       " '₹664',\n",
       " '₹314',\n",
       " '₹1,799',\n",
       " '₹829',\n",
       " '₹449',\n",
       " '₹789',\n",
       " '₹698']"
      ]
     },
     "execution_count": 43,
     "metadata": {},
     "output_type": "execute_result"
    }
   ],
   "source": [
    "price3"
   ]
  },
  {
   "cell_type": "markdown",
   "id": "f7881541",
   "metadata": {},
   "source": [
    "# Q5"
   ]
  },
  {
   "cell_type": "code",
   "execution_count": 3,
   "id": "fdf58bc8",
   "metadata": {},
   "outputs": [],
   "source": [
    "driver=webdriver.Chrome(r'C:\\Users\\Admin\\Downloads\\chromedriver_win32 (1)\\chromedriver.exe')"
   ]
  },
  {
   "cell_type": "code",
   "execution_count": 4,
   "id": "307353da",
   "metadata": {},
   "outputs": [],
   "source": [
    "driver.maximize_window()"
   ]
  },
  {
   "cell_type": "code",
   "execution_count": 5,
   "id": "757ad32f",
   "metadata": {},
   "outputs": [],
   "source": [
    "url='https://www.flipkart.com/apple-iphone-11-black-64-gb/product-reviews/itm4e5041ba101fd?pid=MOBFWQ6BXGJCEYNY&lid=LSTMOBFWQ6BXGJCEYNYZXSHRJ&market'\n",
    "driver.get(url)"
   ]
  },
  {
   "cell_type": "code",
   "execution_count": 78,
   "id": "18ca1814",
   "metadata": {},
   "outputs": [
    {
     "data": {
      "text/plain": [
       "10"
      ]
     },
     "execution_count": 78,
     "metadata": {},
     "output_type": "execute_result"
    }
   ],
   "source": [
    "rating=[]\n",
    "rating_tags=driver.find_elements(By.XPATH,\"//div[@class='_3LWZlK _1BLPMq']\")\n",
    "for i in rating_tags:\n",
    "    rating.append(i.text)\n",
    "len(rating)"
   ]
  },
  {
   "cell_type": "code",
   "execution_count": 79,
   "id": "7b10bd7e",
   "metadata": {},
   "outputs": [
    {
     "data": {
      "text/plain": [
       "['5', '5', '5', '4', '5', '5', '5', '4', '5', '5']"
      ]
     },
     "execution_count": 79,
     "metadata": {},
     "output_type": "execute_result"
    }
   ],
   "source": [
    "rating"
   ]
  },
  {
   "cell_type": "code",
   "execution_count": 80,
   "id": "75226e4d",
   "metadata": {},
   "outputs": [
    {
     "data": {
      "text/plain": [
       "10"
      ]
     },
     "execution_count": 80,
     "metadata": {},
     "output_type": "execute_result"
    }
   ],
   "source": [
    "review_summary=[]\n",
    "review_summary_tags=driver.find_elements(By.XPATH,\"//p[@class='_2-N8zT']\")\n",
    "for i in review_summary_tags:\n",
    "    review_summary.append(i.text)\n",
    "len(review_summary)"
   ]
  },
  {
   "cell_type": "code",
   "execution_count": 81,
   "id": "ffde6056",
   "metadata": {},
   "outputs": [
    {
     "data": {
      "text/plain": [
       "['Simply awesome',\n",
       " 'Perfect product!',\n",
       " 'Best in the market!',\n",
       " 'Value-for-money',\n",
       " 'Highly recommended',\n",
       " 'Worth every penny',\n",
       " 'Perfect product!',\n",
       " 'Pretty good',\n",
       " 'Highly recommended',\n",
       " 'Great product']"
      ]
     },
     "execution_count": 81,
     "metadata": {},
     "output_type": "execute_result"
    }
   ],
   "source": [
    "review_summary"
   ]
  },
  {
   "cell_type": "code",
   "execution_count": 82,
   "id": "a4af9daf",
   "metadata": {},
   "outputs": [
    {
     "data": {
      "text/plain": [
       "10"
      ]
     },
     "execution_count": 82,
     "metadata": {},
     "output_type": "execute_result"
    }
   ],
   "source": [
    "full_review=[]\n",
    "full_review_tags=driver.find_elements(By.XPATH,\"//div[@class='t-ZTKy']\")\n",
    "for i in full_review_tags:\n",
    "    full_review.append(i.text)\n",
    "len(full_review)"
   ]
  },
  {
   "cell_type": "code",
   "execution_count": 83,
   "id": "16aa5f93",
   "metadata": {},
   "outputs": [
    {
     "data": {
      "text/plain": [
       "['Really satisfied with the Product I received... It’s totally genuine and the packaging was also really good so if ur planning to buy just go for it.',\n",
       " 'Amazing phone with great cameras and better battery which gives you the best performance. I just love the camera .',\n",
       " 'Great iPhone very snappy experience as apple kind. Upgraded from iPhone 7.\\nPros\\n-Camera top class\\n- Battery top performed\\n-Chipset no need to say as apple kind\\n-Security as you expect from apple\\n- Display super bright industry leading colour\\naccuracy and super responsive\\n-Build quality as expect from apple sturdy\\npremium durable beautiful stylish.\\n-Os most stable os in smartphone industry\\n\\nCons\\n-No 5G\\n-Display is not based on OLED technology\\n-Charger headphones and 1 apple stic...\\nREAD MORE',\n",
       " \"I'm Really happy with the product\\nDelivery was fast as well\\n..it was a gift for my sister and she loved it so much.\",\n",
       " \"It's my first time to use iOS phone and I am loving my upgradation 😍😍 I love the color, I love the assebility of the phone....I need to learn more about its functionality, but as far as I have seen, it's quite easy and it has a lot of functions to work on, specially if you are a content writer or a blogger you get a lot of content creation platforms and they are really amazing.\\n\\nThis phone not only for good quality photography but a lot of other task too.😍💯\",\n",
       " 'Previously I was using one plus 3t it was a great phone\\nAnd then I decided to upgrade I am stuck between Samsung s10 plus or iPhone 11\\nI have seen the specs and everything were good except the display it’s somewhere between 720-1080 and it’s not even an amoled it’s an LCD display\\nBut I decided to go with iPhone because I have never used an IOS device I have Been an android user from the past 9 years I ordered IPhone 11 (128gb) product red\\nMy experience after using 3 weeks\\n1. The delivery ...\\nREAD MORE',\n",
       " 'Value for money\\n5 star rating\\nExcellent camera\\nBattery backup full day in single charge.\\n\\nTougher and water resistant design, glossy back.\\nThe screen has excellent brightness and contrast.\\nApple A13 Bionic is the fastest smartphone chip on the planet.\\nExcellent battery life, fast charging support.\\nStereo speakers with great quality.',\n",
       " 'I was using Iphone 6s and also Oneplus 6t. Both mobiles were perfectly alright in Photos, gaming, and smooth interface . My 6s mobile getting battery issue. thought upgrade to 11. Really like this mobile of its Internal storage (compare to 6s) , camera and its touch feeling. Its a worth buying mobile for me.',\n",
       " 'What a camera .....just awesome ..you can feel this iPhone just awesome . Good for gaming also ...try pubg in hd it’s just wow',\n",
       " 'Amazing Powerful and Durable Gadget.\\n\\nI’m am very happy with the camera picture quality, Amazing face id unlocked in dark room, Strong battery with perfect screen size as you can carry easily in pocket. This is my third iPhone.\\n\\nI shifted from android Samsung Note series to iPhone because of the strong build quality and peace of mind for next 3-4 years.\\n\\nDon’t think to much just go for it and I suggest you to go for minimum 128gb variant or more 256gb.\\n\\nI’ve attached my puppy pics and no fi...\\nREAD MORE']"
      ]
     },
     "execution_count": 83,
     "metadata": {},
     "output_type": "execute_result"
    }
   ],
   "source": [
    "full_review"
   ]
  },
  {
   "cell_type": "code",
   "execution_count": 89,
   "id": "3ee4da40",
   "metadata": {},
   "outputs": [],
   "source": [
    "review_btn=driver.find_element(By.CLASS_NAME,\"_1LKTO3\")\n",
    "review_btn.click()"
   ]
  },
  {
   "cell_type": "code",
   "execution_count": 90,
   "id": "3676d39f",
   "metadata": {},
   "outputs": [
    {
     "data": {
      "text/plain": [
       "10"
      ]
     },
     "execution_count": 90,
     "metadata": {},
     "output_type": "execute_result"
    }
   ],
   "source": [
    "rating2=[]\n",
    "rating2_tags=driver.find_elements(By.XPATH,\"//div[@class='_3LWZlK _1BLPMq']\")\n",
    "for i in rating2_tags:\n",
    "    rating2.append(i.text)\n",
    "len(rating2)"
   ]
  },
  {
   "cell_type": "code",
   "execution_count": 91,
   "id": "00414068",
   "metadata": {},
   "outputs": [
    {
     "data": {
      "text/plain": [
       "['5', '5', '5', '5', '5', '4', '5', '5', '5', '4']"
      ]
     },
     "execution_count": 91,
     "metadata": {},
     "output_type": "execute_result"
    }
   ],
   "source": [
    "rating2"
   ]
  },
  {
   "cell_type": "code",
   "execution_count": 92,
   "id": "d144ba75",
   "metadata": {},
   "outputs": [
    {
     "data": {
      "text/plain": [
       "10"
      ]
     },
     "execution_count": 92,
     "metadata": {},
     "output_type": "execute_result"
    }
   ],
   "source": [
    "review_summary2=[]\n",
    "review_summary2_tags=driver.find_elements(By.XPATH,\"//p[@class='_2-N8zT']\")\n",
    "for i in review_summary2_tags:\n",
    "    review_summary2.append(i.text)\n",
    "len(review_summary2)"
   ]
  },
  {
   "cell_type": "code",
   "execution_count": 93,
   "id": "0a6b9515",
   "metadata": {
    "scrolled": true
   },
   "outputs": [
    {
     "data": {
      "text/plain": [
       "['Fabulous!',\n",
       " 'Classy product',\n",
       " 'Worth every penny',\n",
       " 'Perfect product!',\n",
       " 'Mind-blowing purchase',\n",
       " 'Good choice',\n",
       " 'Perfect product!',\n",
       " 'Highly recommended',\n",
       " 'Highly recommended',\n",
       " 'Value-for-money']"
      ]
     },
     "execution_count": 93,
     "metadata": {},
     "output_type": "execute_result"
    }
   ],
   "source": [
    "review_summary2"
   ]
  },
  {
   "cell_type": "code",
   "execution_count": 98,
   "id": "54c9b1a5",
   "metadata": {},
   "outputs": [
    {
     "data": {
      "text/plain": [
       "10"
      ]
     },
     "execution_count": 98,
     "metadata": {},
     "output_type": "execute_result"
    }
   ],
   "source": [
    "full_review2=[]\n",
    "full_review2_tags=driver.find_elements(By.XPATH,\"//div[@class='t-ZTKy']\")\n",
    "for i in full_review2_tags:\n",
    "    full_review2.append(i.text)\n",
    "len(full_review2)"
   ]
  },
  {
   "cell_type": "code",
   "execution_count": 99,
   "id": "94f123c7",
   "metadata": {},
   "outputs": [
    {
     "data": {
      "text/plain": [
       "['This is my first iOS phone. I am very happy with this product. Very much satisfied with this. I love this phone.',\n",
       " 'Best and amazing product.....phone looks so premium.... battary is also good as expected .... Wide angle camera is so addictive ...if you are a IOS lover....then this phone will be the best choice for you all!!💯🔥',\n",
       " 'i11 is worthy to buy, too much happy with the product. Thank u flipkart I received the item on time..loved it..',\n",
       " 'It’s a must buy who is looking for an upgrade from previous generation of iPhones. If you are using XR then still you can hold on for sometime and upgrade to 2020 model else this phone is a must buy . Camera quality is amazing and wide angle is something to count upon. Performance wise it’s amazing and feels premium while holding in hand. So a big YES for this device. Go for 128 GB variant as the 4K videos will occupy lots of space and the storage can get over very quickly. Try to buy it with...\\nREAD MORE',\n",
       " 'Excellent camera 📸 And Display touching very Nice And Smooth and very improvement against\\nI phone 11 and new processor is very fast',\n",
       " 'So far it’s been an AMAZING experience coming back to iOS after nearly a decade but it’s not as versatile as android though phone is sturdy dropped it accidentally a couple of times and nothing happened fortunately camera is awesome',\n",
       " 'Value for money❤️❤️\\nIts awesome mobile phone in the world ...\\nDisplay was very good and bright ..\\nTrust me freinds you r never regret after Buying..\\nJust go for it....\\nI love this phone and i switch to iphone x to 11',\n",
       " 'iphone 11 is a very good phone to buy only if you can compromise for the display. The display on this is device is pretty good but you can get other options with better displays in this price segment.\\nIf you can survive with an HD+ LCD panel with thicker bezels and a notch up top then this is a very good phone for you.\\nCameras are awesome, battery backup excellent, great performance and a decent premium look. Good job Apple !',\n",
       " 'Amazing camera quality as expected, battery also has very good performance. Display, body, and touch experience is the best I’ve ever had. Sound quality of speakers is more than sufficient. Apple is known for it’s customer friendly security services and I can see it how. The A13 processor is the best in its work. So I would definitely recommend it for everyone who are looking for it, just go for it without delay.\\n\\nThe most amazing thing it the delivery. Flipkart has delivered it in the span ...\\nREAD MORE',\n",
       " \"Just got this iphone 11\\nAnd it is most powerful mobile phone I have used ever\\n\\nSo,go for it if you want a phone with best specification like camera,battery backup,display, A13 bionic chip\\n\\nThat's my review about this phone but yours can be differ from me....\"]"
      ]
     },
     "execution_count": 99,
     "metadata": {},
     "output_type": "execute_result"
    }
   ],
   "source": [
    "full_review2"
   ]
  },
  {
   "cell_type": "code",
   "execution_count": 102,
   "id": "04323976",
   "metadata": {},
   "outputs": [],
   "source": [
    "review_btn3=driver.find_element(By.XPATH,\"/html/body/div/div/div[3]/div/div/div[2]/div[13]/div/div/nav/a[3]\")\n",
    "review_btn3.click()"
   ]
  },
  {
   "cell_type": "code",
   "execution_count": 103,
   "id": "a4af18ab",
   "metadata": {},
   "outputs": [
    {
     "data": {
      "text/plain": [
       "10"
      ]
     },
     "execution_count": 103,
     "metadata": {},
     "output_type": "execute_result"
    }
   ],
   "source": [
    "rating3=[]\n",
    "rating3_tags=driver.find_elements(By.XPATH,\"//div[@class='_3LWZlK _1BLPMq']\")\n",
    "for i in rating3_tags:\n",
    "    rating3.append(i.text)\n",
    "len(rating3)"
   ]
  },
  {
   "cell_type": "code",
   "execution_count": 104,
   "id": "e3f463c3",
   "metadata": {},
   "outputs": [
    {
     "data": {
      "text/plain": [
       "['5', '5', '5', '5', '5', '5', '5', '5', '5', '5']"
      ]
     },
     "execution_count": 104,
     "metadata": {},
     "output_type": "execute_result"
    }
   ],
   "source": [
    "rating3"
   ]
  },
  {
   "cell_type": "code",
   "execution_count": 106,
   "id": "ed4c1a6a",
   "metadata": {},
   "outputs": [
    {
     "data": {
      "text/plain": [
       "10"
      ]
     },
     "execution_count": 106,
     "metadata": {},
     "output_type": "execute_result"
    }
   ],
   "source": [
    "review_summary3=[]\n",
    "review_summary3_tags=driver.find_elements(By.XPATH,\"//p[@class='_2-N8zT']\")\n",
    "for i in review_summary3_tags:\n",
    "    review_summary3.append(i.text)\n",
    "len(review_summary3)"
   ]
  },
  {
   "cell_type": "code",
   "execution_count": 107,
   "id": "e1d2a385",
   "metadata": {},
   "outputs": [
    {
     "data": {
      "text/plain": [
       "['Perfect product!',\n",
       " 'Highly recommended',\n",
       " 'Perfect product!',\n",
       " 'Worth every penny',\n",
       " 'Terrific',\n",
       " 'Must buy!',\n",
       " 'Super!',\n",
       " 'Simply awesome',\n",
       " 'Classy product',\n",
       " 'Worth every penny']"
      ]
     },
     "execution_count": 107,
     "metadata": {},
     "output_type": "execute_result"
    }
   ],
   "source": [
    "review_summary3"
   ]
  },
  {
   "cell_type": "code",
   "execution_count": 108,
   "id": "8dcaa0b6",
   "metadata": {},
   "outputs": [
    {
     "data": {
      "text/plain": [
       "10"
      ]
     },
     "execution_count": 108,
     "metadata": {},
     "output_type": "execute_result"
    }
   ],
   "source": [
    "full_review3=[]\n",
    "full_review3_tags=driver.find_elements(By.XPATH,\"//div[@class='t-ZTKy']\")\n",
    "for i in full_review3_tags:\n",
    "    full_review3.append(i.text)\n",
    "len(full_review3)"
   ]
  },
  {
   "cell_type": "code",
   "execution_count": 109,
   "id": "627bbfa8",
   "metadata": {
    "scrolled": true
   },
   "outputs": [
    {
     "data": {
      "text/plain": [
       "['It is just awesome mobile for this price from Apple,\\n\\nAfter 10 days review\\n\\nBattery enough for 1 day even 24*7 Internet will be on and mostly internet usage\\n\\nCamera is just awesome cool , android 64 MP is equal to this just 12 MP\\n\\nA13 Bionic chip will give more high performance without hanging\\n\\nAudio stereo speakers will give Dolby atoms sound with crystal clear\\n\\nVideo recording is like cinematic shots of every sec can be a 4K 60fps. Just awesome this phone\\niPhone 11 loved one',\n",
       " 'Thanks Flipkart For this amazing deal! I had a dream of owning a iphone since i had known about.\\nIm very happy with my purchase & it is totally worth it.\\nAmazing experience all over !!\\n\\nAnyone who’s thinking of buying it in 2021, i would simply say go for it without any second thoughts ❤️',\n",
       " \"Iphone is just awesome.. battery backup is very very nice.. continuously for 10 hours we can use it.camera is just awesome.. display is just fab.i love it alot..i had to wait 15 days for it as i pre ordered it..overalll it's worth the price..these all images are clicked by my iPhone..and i love it.\",\n",
       " 'Smooth like butter, camera like fantabulous, sound is crystal clear & its red color is damn attractive, i am just loving it. Must buy if you love photography.\\n\\nLucky to get it in sale, thank you Flipkart.',\n",
       " 'Really worth of money. i just love it. It is the best phone ever.',\n",
       " 'Best Apple iPhone that i have bought at a very reasonable price, camera quality is next level just awesome n of superior quality android phones not even close(RIP) to that and also battery is really good but packaging by Flipkart of iPhone was very poor of such a expensive product, firstly im bit worried about the quality of product if i purchased it through online how was the product but i think now this was mine best decision to bought it through Flipkart online because i got genuine Apple...\\nREAD MORE',\n",
       " 'It’s been 7 years I was waiting for an income for my first iPhone .it was like a dream to me and finally I achieved it. Why chose iPhone?? It’s a premium standard level phone maybe you could find other brands valu like this but not all those are iPhone. If you are thinking to buy an iPhone don’t think too much grab it bro. Being an an iPhone owner can give you a feeling like owning an Lamborghini in your pocket According to me a middle class family boy.\\n\\n\\nBest on camera and videography\\nSoun...\\nREAD MORE',\n",
       " 'Excellent camera, good performance, no lag. The lcd display is also good.. but difference come when we watch movie in prime and Netflix, the colours are not vibrant.. as we see in amoled display.. and the charger in box is of 5 watts.. takes more than 3 hours to charge from 0 to 100.. so guys be prepare to buy 18 watts charger . Finally I am an android user, it was my first Iapple phone, I promise u guys the iOS is so smooth.. overall the phone is damn good.... close eyes to buy it.. thanks t...\\nREAD MORE',\n",
       " 'We are on apple ecosystem for almost eight years now with couple of iPads and iPhones, including Xr.\\n\\nBought iPhone 11 as a gift to my daughter who loves it. We chose for a purple coloured one. Believe me it is gorgeous and towards the lighter shade. Dazzling and brilliant!\\n\\nThe phone is great and does excellent RAM management like any other Apple device.\\n\\nThe screen, though a LCD and lesser ppi as compared to other flagship phones of competitor brands, is a delight to watch with perfect re...\\nREAD MORE',\n",
       " 'Best budget Iphone till date ❤️ go for it guys without second thought. Let me explain you guys about Camera, Display, battery, and performance.\\n\\nCamera: at this price range there is no comparison of camera, you’ll love the picture quality as well as video quality. I am a Vlogger I wanted an iPhone with 4k video by front camera and I got this phone and I am more than happy 😃\\n\\nBattery: I use this phone roughly as I am active social media person and I have a youtube channel. so the battery ba...\\nREAD MORE']"
      ]
     },
     "execution_count": 109,
     "metadata": {},
     "output_type": "execute_result"
    }
   ],
   "source": [
    "full_review3"
   ]
  },
  {
   "cell_type": "code",
   "execution_count": 111,
   "id": "420ca908",
   "metadata": {},
   "outputs": [],
   "source": [
    "review_btn4=driver.find_element(By.XPATH,\"/html/body/div/div/div[3]/div/div/div[2]/div[13]/div/div/nav/a[5]\")\n",
    "review_btn4.click()"
   ]
  },
  {
   "cell_type": "code",
   "execution_count": 112,
   "id": "28df330b",
   "metadata": {},
   "outputs": [
    {
     "data": {
      "text/plain": [
       "10"
      ]
     },
     "execution_count": 112,
     "metadata": {},
     "output_type": "execute_result"
    }
   ],
   "source": [
    "rating4=[]\n",
    "rating4_tags=driver.find_elements(By.XPATH,\"//div[@class='_3LWZlK _1BLPMq']\")\n",
    "for i in rating4_tags:\n",
    "    rating4.append(i.text)\n",
    "len(rating4)"
   ]
  },
  {
   "cell_type": "code",
   "execution_count": 113,
   "id": "56b9b2d4",
   "metadata": {},
   "outputs": [
    {
     "data": {
      "text/plain": [
       "['5', '5', '5', '5', '5', '4', '5', '5', '4', '5']"
      ]
     },
     "execution_count": 113,
     "metadata": {},
     "output_type": "execute_result"
    }
   ],
   "source": [
    "rating4"
   ]
  },
  {
   "cell_type": "code",
   "execution_count": 114,
   "id": "eda8a6dc",
   "metadata": {},
   "outputs": [
    {
     "data": {
      "text/plain": [
       "10"
      ]
     },
     "execution_count": 114,
     "metadata": {},
     "output_type": "execute_result"
    }
   ],
   "source": [
    "review_summary4=[]\n",
    "review_summary4_tags=driver.find_elements(By.XPATH,\"//p[@class='_2-N8zT']\")\n",
    "for i in review_summary4_tags:\n",
    "    review_summary4.append(i.text)\n",
    "len(review_summary4)"
   ]
  },
  {
   "cell_type": "code",
   "execution_count": 115,
   "id": "6fde0afd",
   "metadata": {},
   "outputs": [
    {
     "data": {
      "text/plain": [
       "['Great product',\n",
       " 'Classy product',\n",
       " 'Just wow!',\n",
       " 'Worth every penny',\n",
       " 'Excellent',\n",
       " 'Good choice',\n",
       " 'Brilliant',\n",
       " 'Perfect product!',\n",
       " 'Nice product',\n",
       " 'Great product']"
      ]
     },
     "execution_count": 115,
     "metadata": {},
     "output_type": "execute_result"
    }
   ],
   "source": [
    "review_summary4"
   ]
  },
  {
   "cell_type": "code",
   "execution_count": 116,
   "id": "d05f6d65",
   "metadata": {},
   "outputs": [
    {
     "data": {
      "text/plain": [
       "10"
      ]
     },
     "execution_count": 116,
     "metadata": {},
     "output_type": "execute_result"
    }
   ],
   "source": [
    "full_review4=[]\n",
    "full_review4_tags=driver.find_elements(By.XPATH,\"//div[@class='t-ZTKy']\")\n",
    "for i in full_review4_tags:\n",
    "    full_review4.append(i.text)\n",
    "len(full_review4)"
   ]
  },
  {
   "cell_type": "code",
   "execution_count": 117,
   "id": "f7b028e0",
   "metadata": {},
   "outputs": [
    {
     "data": {
      "text/plain": [
       "['This is my first ever I phone. Before this I was using my google nexus 5. But moving from android to iOS is a great experience. It’s worth at this price. I will highly recommend it if you want to move to iOS. The best part of this phone is it’s camera and it’s battery life. This two things have won my heart. I loved it. Happy to have it in my hand. Still exploring its features. And can’t forget to mention Flipkart service. Very prompt service and fast delivery.',\n",
       " 'Totally in love with this ❤ the camera quality is amazing just love it 😘😘😘 itsss dammnnnnnn amazing... Must buy iPhone 11 this is my best experience ever ☀👌👌🧡🧡🧡🧡🧡 thanku apple ❤',\n",
       " 'Best in class. Battery backup is good especially when you play games like Pubg COD. But it is sort of heavy when you hold in hands. Portrait mode is best to click pictures. Stage light effect is awesome. Try to click photos outside in nature because photos inside home or room will not give you the quality in any phone even in DSLR.',\n",
       " 'It’s been almost a month since I have been using this phone. I upgraded from an iPhone 8. The main issue with my 8 was battery and this phone is just awesome when it comes to battery. It lasts a day and a half for me with my regular use , internet connected always with 4g\\nCan’t move forward without saying this. Battery of this phone is a life saver when I am traveling or at work when I don’t get the option to charge\\nCamera is superb. Front cam selfies and back cam photos are just awesome.\\n...\\nREAD MORE',\n",
       " 'Its a fabulous mobile look awesome performance unbeaten camera like dslr battery good i think this is a beast of mobile',\n",
       " 'Looking so good 👍 😍 super 👌 stylish 😎 phone\\nClean box 📦 good 👍 delivery 👌 fast delivery\\nOriginal box Original iphone 📱 👌 😍😍😍',\n",
       " 'I have migrated from OP 7pro... and trust me, iPhone 11 is totally worth it.. following are the reasons:-\\n1)there is ABSOLUTELY NO ISSUE WITH THE DISPLAY... its crisp, sharp and I found it to be much much better than OP7 pro. Netflix, Prime video all run crisply... you won’t miss a thing. True Tone works flawlessly...the display brightness is perfect. OP have not calibrated their screens properly.\\n2) iPhone 11 series have really good cameras... others have spoken in depth about them.\\n3) bat...\\nREAD MORE',\n",
       " 'Battery backup is extraordinary, camera is decent & performance offered by A13 bionic is awsome. The display is good in practical usage like the visibility of display is very good in direct sun light compare to pro models. Iam extremely satisfied for the money I spent.',\n",
       " 'Awesome Phone. Slightly high price but worth. Better than iPhone XR.\\nCamera is superb and wide angle camera is very clear.\\n12MP selfie camera is also very good.\\nA13 Chip gives a very good and smooth performance.',\n",
       " \"Again back to apple iphone after a gap of 2-3 years. It's pleasure to use iOS and the quality product by Apple. Iphone 11 still works like a beast in 2021 also. It really capable of doing day to day usage as well as hard core gaming. Battery is awesome. I'm really too much satisfied with it. Apart fto the very gorgious IPS LCD (AMOLED will be better) everything is mind boggling. Iphone💕.\"]"
      ]
     },
     "execution_count": 117,
     "metadata": {},
     "output_type": "execute_result"
    }
   ],
   "source": [
    "full_review4"
   ]
  },
  {
   "cell_type": "code",
   "execution_count": 118,
   "id": "df6205f9",
   "metadata": {},
   "outputs": [],
   "source": [
    "review_btn4=driver.find_element(By.XPATH,\"/html/body/div/div/div[3]/div/div/div[2]/div[13]/div/div/nav/a[6]\")\n",
    "review_btn4.click()"
   ]
  },
  {
   "cell_type": "code",
   "execution_count": 119,
   "id": "49ffbb95",
   "metadata": {},
   "outputs": [
    {
     "data": {
      "text/plain": [
       "10"
      ]
     },
     "execution_count": 119,
     "metadata": {},
     "output_type": "execute_result"
    }
   ],
   "source": [
    "rating5=[]\n",
    "rating5_tags=driver.find_elements(By.XPATH,\"//div[@class='_3LWZlK _1BLPMq']\")\n",
    "for i in rating5_tags:\n",
    "    rating5.append(i.text)\n",
    "len(rating5)"
   ]
  },
  {
   "cell_type": "code",
   "execution_count": 120,
   "id": "8d057859",
   "metadata": {},
   "outputs": [
    {
     "data": {
      "text/plain": [
       "['5', '5', '5', '5', '5', '5', '5', '5', '5', '5']"
      ]
     },
     "execution_count": 120,
     "metadata": {},
     "output_type": "execute_result"
    }
   ],
   "source": [
    "rating5"
   ]
  },
  {
   "cell_type": "code",
   "execution_count": 121,
   "id": "c786f88f",
   "metadata": {},
   "outputs": [
    {
     "data": {
      "text/plain": [
       "10"
      ]
     },
     "execution_count": 121,
     "metadata": {},
     "output_type": "execute_result"
    }
   ],
   "source": [
    "review_summary5=[]\n",
    "review_summary5_tags=driver.find_elements(By.XPATH,\"//p[@class='_2-N8zT']\")\n",
    "for i in review_summary5_tags:\n",
    "    review_summary5.append(i.text)\n",
    "len(review_summary5)"
   ]
  },
  {
   "cell_type": "code",
   "execution_count": 122,
   "id": "891461a6",
   "metadata": {},
   "outputs": [
    {
     "data": {
      "text/plain": [
       "['Classy product',\n",
       " 'Must buy!',\n",
       " 'Fabulous!',\n",
       " 'Classy product',\n",
       " 'Perfect product!',\n",
       " 'Fabulous!',\n",
       " 'Simply awesome',\n",
       " 'Wonderful',\n",
       " 'Terrific purchase',\n",
       " 'Mind-blowing purchase']"
      ]
     },
     "execution_count": 122,
     "metadata": {},
     "output_type": "execute_result"
    }
   ],
   "source": [
    "review_summary5"
   ]
  },
  {
   "cell_type": "code",
   "execution_count": 123,
   "id": "428c8d44",
   "metadata": {},
   "outputs": [
    {
     "data": {
      "text/plain": [
       "10"
      ]
     },
     "execution_count": 123,
     "metadata": {},
     "output_type": "execute_result"
    }
   ],
   "source": [
    "full_review5=[]\n",
    "full_review5_tags=driver.find_elements(By.XPATH,\"//div[@class='t-ZTKy']\")\n",
    "for i in full_review5_tags:\n",
    "    full_review5.append(i.text)\n",
    "len(full_review5)"
   ]
  },
  {
   "cell_type": "code",
   "execution_count": 124,
   "id": "680ee6cd",
   "metadata": {},
   "outputs": [
    {
     "data": {
      "text/plain": [
       "['Superb Product !!!\\nA big and worthy upgrade from mi 3S to iphone 11 .\\nTotally loved it !',\n",
       " 'It’s an amazing product from apple and the camera is simply superb. Phone is faster.Night shot is simply superb and detailing and colour differentiation from camera is an added advantage\\n\\nThis review I have written from iPhone 11 only and I am glad to say outside.\\n\\nCons wise if we see HD+ display only, no battery percentage indicator as in older iPhone 8.\\nNo assistive touch control button in it\\nNo oleophobic coating on back panel glass and finger prints are visible but since I bought mint gr...\\nREAD MORE',\n",
       " 'awesome phone to have. it has got many smart features apart from mind blowing looks, camera, display, battery and sound. have fallen in love with this phone. must buy phone if you have got enough money. thanks to flipkart and apple of course..',\n",
       " 'Well while switching from android to iOS the first thing you need to be careful about is that you will loose all your whatsapp chat backups as both are different operating systems. Camera clarity is awesome and though being an lcd screen clarity and resolution is good. Battery backup is also good unlike previous gen iPhone. So far the experience is good will Padre after a few months of usage.\\n\\nP.S the black is more of a dark grey shade and not jet black',\n",
       " 'After 1 month use I found camera quality best compared to my previous Samsung note 10+.Display not good as note 10 also charging too slow.Apple should add fast charger like 11 plus and pro.Best phone for daily use',\n",
       " \"I can say I'm damn impressed with iPhone 11. As they says iPhone 11 have the toughest glass ever in the smartphone which you'll find on the front and back and it's totally smooth. The fit and finish is full apple quality - there's no sense that any cheaping out has happened in the construction. Without saying it's camera features this review won't complete. The iPhone 11 has a dual camera system, consisting of a wide angle len's that's pretty much same as found on the iPhone XR last year, but...\\nREAD MORE\",\n",
       " \"It's very high performances devise i am like the service of flipkart delevary very fast and packing very nice perfect phone\",\n",
       " 'I just directly switch from iphone 6s to iphone 11 .The best premium smartphone I recommend to everyone. Excellent quality and colors the iphone have in 11 series.\\nCamera quality is just awesome and the major feel when we hold in our hands. The sound quality and volume is also higher then the previous models.\\nI will recommend to buy iphone 11 instead of pro models , there is nothing much difference as this model contains everything which fulfill our needs.\\n\\nOnly one thing that I dislike abo...\\nREAD MORE',\n",
       " 'Upgraded from iphone 6 to 11 best phone for iphone users battery is much better than other iphones camera is awesome love to use it.camera is so clear in night.',\n",
       " 'Best Quality Product OF iPhone Series , Sound Quality & Camera quality is very awesome, Battery Life is very Sufficient for 24 hr Backup With Full Internet Access , I love this this Product too much , It is very fast & making me Very fast in all my daily Routine\\nHighlights;\\n1.Camera: 5 STAR\\n2.Video Recording: 5 star\\n3.Night mODE sHOOTING & Camera:4 star\\n4. Audio Quality: Awesome\\n5. Battery : 5 Star\\n6. Touch:5 Star\\n7. Processor: Very Fast\\nThe M...\\nREAD MORE']"
      ]
     },
     "execution_count": 124,
     "metadata": {},
     "output_type": "execute_result"
    }
   ],
   "source": [
    "full_review5"
   ]
  },
  {
   "cell_type": "code",
   "execution_count": 125,
   "id": "96c97ea4",
   "metadata": {},
   "outputs": [],
   "source": [
    "review_btn6=driver.find_element(By.XPATH,\"/html/body/div/div/div[3]/div/div/div[2]/div[13]/div/div/nav/a[7]\")\n",
    "review_btn6.click()"
   ]
  },
  {
   "cell_type": "code",
   "execution_count": 126,
   "id": "cac42080",
   "metadata": {},
   "outputs": [
    {
     "data": {
      "text/plain": [
       "9"
      ]
     },
     "execution_count": 126,
     "metadata": {},
     "output_type": "execute_result"
    }
   ],
   "source": [
    "rating6=[]\n",
    "rating6_tags=driver.find_elements(By.XPATH,\"//div[@class='_3LWZlK _1BLPMq']\")\n",
    "for i in rating6_tags:\n",
    "    rating6.append(i.text)\n",
    "len(rating6)"
   ]
  },
  {
   "cell_type": "code",
   "execution_count": 127,
   "id": "ce7a0a45",
   "metadata": {},
   "outputs": [
    {
     "data": {
      "text/plain": [
       "['5', '5', '5', '5', '5', '5', '4', '5', '4']"
      ]
     },
     "execution_count": 127,
     "metadata": {},
     "output_type": "execute_result"
    }
   ],
   "source": [
    "rating6"
   ]
  },
  {
   "cell_type": "code",
   "execution_count": 128,
   "id": "a2fd2876",
   "metadata": {},
   "outputs": [
    {
     "data": {
      "text/plain": [
       "10"
      ]
     },
     "execution_count": 128,
     "metadata": {},
     "output_type": "execute_result"
    }
   ],
   "source": [
    "review_summary6=[]\n",
    "review_summary6_tags=driver.find_elements(By.XPATH,\"//p[@class='_2-N8zT']\")\n",
    "for i in review_summary6_tags:\n",
    "    review_summary6.append(i.text)\n",
    "len(review_summary6)"
   ]
  },
  {
   "cell_type": "code",
   "execution_count": 129,
   "id": "5e96c544",
   "metadata": {},
   "outputs": [
    {
     "data": {
      "text/plain": [
       "['Excellent',\n",
       " 'Great product',\n",
       " 'Terrific purchase',\n",
       " 'Mind-blowing purchase',\n",
       " 'Terrific purchase',\n",
       " 'Mind-blowing purchase',\n",
       " 'Very Good',\n",
       " 'Simply awesome',\n",
       " 'Good quality product',\n",
       " 'Very poor']"
      ]
     },
     "execution_count": 129,
     "metadata": {},
     "output_type": "execute_result"
    }
   ],
   "source": [
    "review_summary6"
   ]
  },
  {
   "cell_type": "code",
   "execution_count": 130,
   "id": "b29c5e83",
   "metadata": {},
   "outputs": [
    {
     "data": {
      "text/plain": [
       "10"
      ]
     },
     "execution_count": 130,
     "metadata": {},
     "output_type": "execute_result"
    }
   ],
   "source": [
    "full_review6=[]\n",
    "full_review6_tags=driver.find_elements(By.XPATH,\"//div[@class='t-ZTKy']\")\n",
    "for i in full_review6_tags:\n",
    "    full_review6.append(i.text)\n",
    "len(full_review6)"
   ]
  },
  {
   "cell_type": "code",
   "execution_count": 131,
   "id": "19c0d9c4",
   "metadata": {},
   "outputs": [
    {
     "data": {
      "text/plain": [
       "['Amazing camera and feel super machine I am not describe my feeling but this is amazing Phone I am so lucky I have this',\n",
       " 'Well you all know the specifications . One of a kind. Best iPhone till date. Many enhancements to the camera app with many options. Love the glass body with matte finish in the lens area on the back. Lovely colours to choose from. Best battery in an iPhone till date, enough to last more than a day in normal usage. I tested my iPhone 11 battery and lasted for than 24 hours after full charge still with 30% battery charge left. Watched movies for some time. Normal usage on calls, browsing, musi...\\nREAD MORE',\n",
       " 'The built quality is not very premium.\\nThe battery back is great .\\nThe LCD panel is not so sharp but the brightness level is very High .\\nCamera is super duper awesome.\\nThe red colour which people think is bright is actually very soothing and excellent colour to choose from .\\nThe A13 Bionic chip is really a flagship processor and can beat any phone which even has 12 gb ram .\\nCamera module is very great and looks very stylish.',\n",
       " 'First thanks to Flipkart for this amazing deal and phone is outstanding. I upgraded from iPhone 7 and this is like very big upgrade. But the packaging was very basic I expected a good packaging as they only wrapped one layer of bubble wrap which I don’t think is enough to protect this expensive phone. And I recommend this phone and seller as well.\\n\\nAnd I’m posting this review after using it for 4 days.',\n",
       " 'Its Very awesome product working and good camera quality and all about best product and also flipkart is very great deal and offer nice price',\n",
       " 'This will help you more. See if you are planning to buy iPhone 11. I will say. Yes. But there are some plans I just want to disclose before you buy. 1) If you are an existing iPhone X/XS/XS Max/ XR user, better you guys do not think it to buy. You guys have more or less better gadget. 2) If you are an android user and planning to buy premium phone. I will suggest them to please buy iPhone instead of buying an Android. I bet you will never go back to android after using IOS. Now I want to shar...\\nREAD MORE',\n",
       " 'impressive super phone and best in class camera ,sound and face unlock is super fast just see and phone is unlock and fast in daily apps use',\n",
       " 'Really good actually this is my first apple product am using its really awesome performance wise excellent. Am really happy with this iphone11',\n",
       " 'it is very good at performance. Camera is best like before and very smooth response even in water. Don’t buy 12 mini buy iPhone 11 , it is far better than 12 mini believe me ! Have a nice day \\uf8ff ☺️',\n",
       " 'Reviewing again after 5 months. At the beginning the battery and performance was good but it degraded soon. Also I was facing heating issues. The mobile will heat up like a stove sometimes. You cannot even play Pubg even in low settings properly, performance is not a problem but heating is. Also if you play that game for 10 mins the brightness will be automatically down due to over heating even when the auto brightness is set to off. This will not be solved even if u manually increase the bri...\\nREAD MORE']"
      ]
     },
     "execution_count": 131,
     "metadata": {},
     "output_type": "execute_result"
    }
   ],
   "source": [
    "full_review6"
   ]
  },
  {
   "cell_type": "code",
   "execution_count": 6,
   "id": "d91d3193",
   "metadata": {},
   "outputs": [],
   "source": [
    "review_btn7=driver.find_element(By.XPATH,\"/html/body/div/div/div[3]/div/div/div[2]/div[13]/div/div/nav/a[7]\")\n",
    "review_btn7.click()"
   ]
  },
  {
   "cell_type": "code",
   "execution_count": 8,
   "id": "9c4ffe72",
   "metadata": {},
   "outputs": [
    {
     "data": {
      "text/plain": [
       "9"
      ]
     },
     "execution_count": 8,
     "metadata": {},
     "output_type": "execute_result"
    }
   ],
   "source": [
    "rating7=[]\n",
    "rating7_tags=driver.find_elements(By.XPATH,\"//div[@class='_3LWZlK _1BLPMq']\")\n",
    "for i in rating7_tags:\n",
    "    rating7.append(i.text)\n",
    "len(rating7)"
   ]
  },
  {
   "cell_type": "code",
   "execution_count": 9,
   "id": "becdcedd",
   "metadata": {},
   "outputs": [
    {
     "data": {
      "text/plain": [
       "['5', '5', '5', '5', '5', '5', '5', '5', '5']"
      ]
     },
     "execution_count": 9,
     "metadata": {},
     "output_type": "execute_result"
    }
   ],
   "source": [
    "rating7"
   ]
  },
  {
   "cell_type": "code",
   "execution_count": 10,
   "id": "3305e8a5",
   "metadata": {},
   "outputs": [
    {
     "data": {
      "text/plain": [
       "10"
      ]
     },
     "execution_count": 10,
     "metadata": {},
     "output_type": "execute_result"
    }
   ],
   "source": [
    "review_summary7=[]\n",
    "review_summary7_tags=driver.find_elements(By.XPATH,\"//p[@class='_2-N8zT']\")\n",
    "for i in review_summary7_tags:\n",
    "    review_summary7.append(i.text)\n",
    "len(review_summary7)"
   ]
  },
  {
   "cell_type": "code",
   "execution_count": 11,
   "id": "6add5b65",
   "metadata": {},
   "outputs": [
    {
     "data": {
      "text/plain": [
       "['Perfect product!',\n",
       " 'Worthless',\n",
       " 'Fabulous!',\n",
       " 'Wonderful',\n",
       " 'Must buy!',\n",
       " 'Great product',\n",
       " 'Just wow!',\n",
       " 'Wonderful',\n",
       " 'Wonderful',\n",
       " 'Simply awesome']"
      ]
     },
     "execution_count": 11,
     "metadata": {},
     "output_type": "execute_result"
    }
   ],
   "source": [
    "review_summary7"
   ]
  },
  {
   "cell_type": "code",
   "execution_count": 12,
   "id": "1bef14a3",
   "metadata": {},
   "outputs": [
    {
     "data": {
      "text/plain": [
       "10"
      ]
     },
     "execution_count": 12,
     "metadata": {},
     "output_type": "execute_result"
    }
   ],
   "source": [
    "full_review7=[]\n",
    "full_review7_tags=driver.find_elements(By.XPATH,\"//div[@class='t-ZTKy']\")\n",
    "for i in full_review7_tags:\n",
    "    full_review7.append(i.text)\n",
    "len(full_review7)"
   ]
  },
  {
   "cell_type": "code",
   "execution_count": 13,
   "id": "8505c370",
   "metadata": {},
   "outputs": [
    {
     "data": {
      "text/plain": [
       "['In love with this iphone great performance,camera ,battery everything. Go for it have a uncompareble battery backup, no doubts in iPhone camera here You can see the picture which is shot on my iPhone In love with this iphone great performance,camera ,battery everything. Go for it have a uncompareble battery backup, no doubts in iPhone camera here You can see the picture which is shot on my iPhone In love with this iphone great performance,camera ,battery everything. Go for it have a uncompare...\\nREAD MORE',\n",
       " \"Phone is awesome no doubt. But Camera & Display is not great. Performance is mind blowing.\\nBut the phone is heating too much when charging or when you regularly used. It's experience after using 1 week. It's heating extrem when I play PUBG for 30 minutes.\\nGo for iPhone 11 pro or 12. Otherwise go for Android phone you will get much better phone in less price.\",\n",
       " 'Everything is perfect pictures come out so clearly and at first I wasn’t sure when I got it then when I started to use it and get the hang of it it was amazing!! I can’t wait to see what the next future phones will be like. The screen display on this bad boy are unbelievable they are so clear and never fail me. The performance is super cool there is a lot of cool features as well I like this phone because I feel that it is easy to use and one of my favorite things about this phone is the Face...\\nREAD MORE',\n",
       " 'Superfast delivery by Flipkart. Thanks.\\n\\n1. iPhone 11 is a pretty solid phone for the money you are paying.\\n2. All the bad reviews about the display is confusing. It’s not that bad.\\n3. I switched from a Oneplus 7t. I have no complaints about the display quality of iPhone. Yes, it’s not OLED, so, we are missing on the deep blacks. But that’s it. It is a very colour accurate display. Gets adequately bright and I could not find any pixelation.\\n4. Performance is one of the best, if not best, in ...\\nREAD MORE',\n",
       " 'I rate this product 5* as it has got amazing user experience with the best performing A13 bionic processor. The screen responds and graphics rendering is top notch. With casual gaming and internet browsing, the battery lasts for approx. 1 day. Camera is very good. You will fall in love with the portrait mode. You can call me a loyal Apple customer or whatever but I won’t stop praising the products and overall experience. That user experience matters and is worth every penny you pay.\\n\\nBelow ar...\\nREAD MORE',\n",
       " \"I was using android phone earlier..I was thinking apple phones are much more costy than other phones with less specifications..so why to waste money in this??..But trust me guys once if you start using ios then you won't go back to android...beleive me this phone is the best than all other...There is no other phone which can beat iphones in terms of camera..iphones gives the best real image..its very faster and smoother than android phones...if you think to switch to ios iphone 11 is the best...\\nREAD MORE\",\n",
       " 'The ultimate performance\\nCamera is superb\\nThe battery backup also very good i never saw iphone gives this much of battery backup\\nIf any one wana buy iphone 11 definitely i will recommend this mobile\\nIt has the better battery and powerfull processer peak performance glorious camera and the display also 100% high quality lcd display if u had money for for 12 if u dont wana invest much money on that then go for iphone 11 it has maximum same specs only main difference between the 12 and 11 is...\\nREAD MORE',\n",
       " 'Super and marvellous phone look very cute and nice sound. I love this phone i think white is good colur.Excellent camer 5*😍😘♥️♥️',\n",
       " 'Nice value for money good and best price I phone mind blowing camera processor very fast other android mobile I am happy India top selling phone 2020',\n",
       " 'Just awesome phone, everything works in such a smooth and refined way !!!\\nCamera - next level\\nDisplay - next level\\nPerformance - monster\\nBattery - next level\\nEverything works at the best level with A13 Bionic Chip\\nValue for money iphone\\nYou should go for this just killer performance 🔥🔥']"
      ]
     },
     "execution_count": 13,
     "metadata": {},
     "output_type": "execute_result"
    }
   ],
   "source": [
    "full_review7"
   ]
  },
  {
   "cell_type": "code",
   "execution_count": 14,
   "id": "0959189b",
   "metadata": {},
   "outputs": [],
   "source": [
    "review_btn8=driver.find_element(By.XPATH,\"/html/body/div/div/div[3]/div/div/div[2]/div[13]/div/div/nav/a[7]\")\n",
    "review_btn8.click()"
   ]
  },
  {
   "cell_type": "code",
   "execution_count": 16,
   "id": "6a57140a",
   "metadata": {},
   "outputs": [
    {
     "data": {
      "text/plain": [
       "10"
      ]
     },
     "execution_count": 16,
     "metadata": {},
     "output_type": "execute_result"
    }
   ],
   "source": [
    "rating8=[]\n",
    "rating8_tags=driver.find_elements(By.XPATH,\"//div[@class='_3LWZlK _1BLPMq']\")\n",
    "for i in rating8_tags:\n",
    "    rating8.append(i.text)\n",
    "len(rating8)"
   ]
  },
  {
   "cell_type": "code",
   "execution_count": 17,
   "id": "d5e14448",
   "metadata": {},
   "outputs": [
    {
     "data": {
      "text/plain": [
       "['5', '5', '5', '5', '5', '5', '5', '5', '5', '5']"
      ]
     },
     "execution_count": 17,
     "metadata": {},
     "output_type": "execute_result"
    }
   ],
   "source": [
    "rating8"
   ]
  },
  {
   "cell_type": "code",
   "execution_count": 18,
   "id": "1c4a9d94",
   "metadata": {},
   "outputs": [
    {
     "data": {
      "text/plain": [
       "10"
      ]
     },
     "execution_count": 18,
     "metadata": {},
     "output_type": "execute_result"
    }
   ],
   "source": [
    "review_summary8=[]\n",
    "review_summary8_tags=driver.find_elements(By.XPATH,\"//p[@class='_2-N8zT']\")\n",
    "for i in review_summary8_tags:\n",
    "    review_summary8.append(i.text)\n",
    "len(review_summary8)"
   ]
  },
  {
   "cell_type": "code",
   "execution_count": 19,
   "id": "370ed3c5",
   "metadata": {},
   "outputs": [
    {
     "data": {
      "text/plain": [
       "['Super!',\n",
       " 'Excellent',\n",
       " 'Best in the market!',\n",
       " 'Worth every penny',\n",
       " 'Worth every penny',\n",
       " 'Worth every penny',\n",
       " 'Awesome',\n",
       " 'Excellent',\n",
       " 'Excellent',\n",
       " 'Brilliant']"
      ]
     },
     "execution_count": 19,
     "metadata": {},
     "output_type": "execute_result"
    }
   ],
   "source": [
    "review_summary8"
   ]
  },
  {
   "cell_type": "code",
   "execution_count": 20,
   "id": "0c05ebe8",
   "metadata": {},
   "outputs": [
    {
     "data": {
      "text/plain": [
       "10"
      ]
     },
     "execution_count": 20,
     "metadata": {},
     "output_type": "execute_result"
    }
   ],
   "source": [
    "full_review8=[]\n",
    "full_review8_tags=driver.find_elements(By.XPATH,\"//div[@class='t-ZTKy']\")\n",
    "for i in full_review8_tags:\n",
    "    full_review8.append(i.text)\n",
    "len(full_review8)"
   ]
  },
  {
   "cell_type": "code",
   "execution_count": 21,
   "id": "983e7e0a",
   "metadata": {},
   "outputs": [
    {
     "data": {
      "text/plain": [
       "[\"It's a great phone. From camera to display everything is best for the price.\\nBest camera , best performance. I think everyone should buy it . This phone has best battery life so far in iphone series which I had used earlier. Happy to have it. Thanks Flipkart\",\n",
       " 'Seller - SuperComNet ( my trust in you has grown deeper. Thanks for the genuine product )\\nThe package came packed perfectly. The box was sealed which gave me a big relief.\\n\\nApple needs no introduction since its the dominant market player. I just love the way how IPhone 11 stands out so boldly. The moment I took it out from the box, I could feel the premium intensity. The body is remarkable and crafted for giving you a elite vibe.\\n\\nCamera is to die for. There is no other phone that can beat...\\nREAD MORE',\n",
       " 'Don’t expect much from front camera… especially who loves beauty mode and filters.. back cameras are good…video department is always plus point in iPhones… battery capacity is really surprising lasts for one day at least… performance always good and smooth… speaker’s quality is good…built quality best and haptic feedback is enjoyable…\\nNote : images are good after you edit',\n",
       " 'iPhone is delivered on time. Display is great u won’t feel that it’s a hd panel. Quality is excellent. Sounds is great it has stereo setup. Camera is good. iOS 14.2 comes in the box. U roughly get 113 gb free if u buy 128 gb. This is my second iPhone and i love it. Value for money.',\n",
       " 'Here is the thing\\n\\nThe only reason why you should buy this phone is for the camera, iOS, and if you have headaches looking at AMOLED display.\\n\\nI’m not an avid gamer but watch a lot of movies on smartphone. However, my migraine attacks increased considerably after using AMOLED Smartphone. That’s why I made a calculated decision to buy iPhone 11. It has the best LCD display and the blacks, though not as natural as an AMOLED, is better than some of the other smartphones.\\n\\nAdding to this the ste...\\nREAD MORE',\n",
       " \"It is better to buy iPhone 11 over iPhone 12 if you prioritize the camera,Its because the difference isn’t significantly huge except lowlight performance and Go for 128 GB variant rather than 64 GB because the system data alone contains 20 GB of data .\\nEven though it's 720p LCD display but it's better than todays Android's 1080p display. My phone was a 64GB mint green model and this one is really pretty especially in the real life. I can still get almost everything out of what i paid for at a...\\nREAD MORE\",\n",
       " 'Very excited to have this phone. This phone has the real power unlike the android phones having SD 855 . The battery life is very good and the camera quality is excellent as comapred to redmi and other phones except google pixel. I M enjoying every single bit of it. Would recommed only if you have the budget.',\n",
       " 'A perfect phone and a good battery super camera and the sound is dynamic overall the phone is perfect for upgrading from lower iPhone model to iPhone 11',\n",
       " '🤩🤩🤩🤩🤩🤩I loved the Phone.. Every time I pick up the phone it makes me happy... The phone is beast💪💪 and the camera is fabulous 🥰🥰🥰.. I think one of my great purchase from Flipkart.. Thank you Filpkart..',\n",
       " 'Excellent camera and display touching very nice and smooth very improvement against iPhone XR and new processor is very fast']"
      ]
     },
     "execution_count": 21,
     "metadata": {},
     "output_type": "execute_result"
    }
   ],
   "source": [
    "full_review8"
   ]
  },
  {
   "cell_type": "code",
   "execution_count": 22,
   "id": "394642a8",
   "metadata": {},
   "outputs": [],
   "source": [
    "review_btn9=driver.find_element(By.XPATH,\"/html/body/div/div/div[3]/div/div/div[2]/div[13]/div/div/nav/a[7]\")\n",
    "review_btn9.click()"
   ]
  },
  {
   "cell_type": "code",
   "execution_count": 25,
   "id": "d4d03d94",
   "metadata": {},
   "outputs": [
    {
     "data": {
      "text/plain": [
       "10"
      ]
     },
     "execution_count": 25,
     "metadata": {},
     "output_type": "execute_result"
    }
   ],
   "source": [
    "rating9=[]\n",
    "rating9_tags=driver.find_elements(By.XPATH,\"//div[@class='_3LWZlK _1BLPMq']\")\n",
    "for i in rating9_tags:\n",
    "    rating9.append(i.text)\n",
    "len(rating9)"
   ]
  },
  {
   "cell_type": "code",
   "execution_count": 26,
   "id": "732f33a4",
   "metadata": {},
   "outputs": [
    {
     "data": {
      "text/plain": [
       "['5', '5', '5', '5', '5', '5', '5', '3', '5', '5']"
      ]
     },
     "execution_count": 26,
     "metadata": {},
     "output_type": "execute_result"
    }
   ],
   "source": [
    "rating9"
   ]
  },
  {
   "cell_type": "code",
   "execution_count": 27,
   "id": "debedcf0",
   "metadata": {},
   "outputs": [
    {
     "data": {
      "text/plain": [
       "10"
      ]
     },
     "execution_count": 27,
     "metadata": {},
     "output_type": "execute_result"
    }
   ],
   "source": [
    "review_summary9=[]\n",
    "review_summary9_tags=driver.find_elements(By.XPATH,\"//p[@class='_2-N8zT']\")\n",
    "for i in review_summary9_tags:\n",
    "    review_summary9.append(i.text)\n",
    "len(review_summary9)"
   ]
  },
  {
   "cell_type": "code",
   "execution_count": 28,
   "id": "bb3afdeb",
   "metadata": {},
   "outputs": [
    {
     "data": {
      "text/plain": [
       "['Terrific',\n",
       " 'Fabulous!',\n",
       " 'Fabulous!',\n",
       " 'Perfect product!',\n",
       " 'Perfect product!',\n",
       " 'Classy product',\n",
       " 'Awesome',\n",
       " 'Does the job',\n",
       " 'Super!',\n",
       " 'Brilliant']"
      ]
     },
     "execution_count": 28,
     "metadata": {},
     "output_type": "execute_result"
    }
   ],
   "source": [
    "review_summary9"
   ]
  },
  {
   "cell_type": "code",
   "execution_count": 29,
   "id": "b79182b2",
   "metadata": {},
   "outputs": [
    {
     "data": {
      "text/plain": [
       "10"
      ]
     },
     "execution_count": 29,
     "metadata": {},
     "output_type": "execute_result"
    }
   ],
   "source": [
    "full_review9=[]\n",
    "full_review9_tags=driver.find_elements(By.XPATH,\"//div[@class='t-ZTKy']\")\n",
    "for i in full_review9_tags:\n",
    "    full_review9.append(i.text)\n",
    "len(full_review9)"
   ]
  },
  {
   "cell_type": "code",
   "execution_count": 30,
   "id": "add18d06",
   "metadata": {},
   "outputs": [
    {
     "data": {
      "text/plain": [
       "[\"I got this beast today. And I must say the picture quality of its camera is awesome. Both the cameras works fine.\\n\\nAs for as the processing is concerned, it runs without any lag. You can play and do whatever you want without a glitch.\\n\\nThe battery runs for a day with medium and high workload.\\n\\nThe display is good and the speakers are working fine.\\n\\nThe earphones doesn't have any base and you can use it for calling mostly.\\n\\nThe charging time is approximately for 90 minutes for full charging...\\nREAD MORE\",\n",
       " 'Best phone in this price segment people say that it is a IPS display but don’t judge a book with the specs sheet only I have not seen any LCD Display like this in any smartphone industry leading IPS display . Everything is awesome in this phone but sometime but apple should have been giving OLED in this price segment',\n",
       " 'Gift this to your loved ones fabulous product and amazing super fast delivery by flipkart',\n",
       " 'Awesome purchase. Amazing phone with good battery backup. It’s a top notch device. White colour looks amazing. Phone has a few extra feature than iPhone XR. Overall, this is value for money',\n",
       " \"In 2022 this phone is he stand of the one of the top position camera is good and battery is good only one thing is not good that is not 5G phone but it's ok\",\n",
       " 'Gifted my man on his 30th birthday 🎂 He loves it.. Him happy so i am more than happy 😍😘❤️🥰',\n",
       " 'Always love the apple products, upgraded from old iPhone 6S plus to this after having my first baby. I just love to click baby’s photos with it. Overall I just love this phone. Battery back up is okay, sound quality is good. Haven’t tested yet waterproof yet. Only one thing I hate is apple could have given charger & headphones in box.',\n",
       " \"phone is good but in display is 720p lcd in this price range we can get full hd OLED displays with higher refresh rate processor is very good camera is nice but looks kind of oldish in front of todays phone also there's no charging in box had to buy it seperately\",\n",
       " 'This is my first ever iPhone.\\nAnd I truly don’t regret switching to IOS from my Android.\\n\\nIt is easily an alternative to a DSLR camera.\\nIf you’re obsessed with photos and videos, just don’t think twice or don’t compare to other androids(Samsung S10 lite or OnePlus 8/8T), as it’s far better from them in every field.\\nComparing will only make you confused.\\n\\nI am getting an average Screen on Time of around 10 hours with 30 percent left. I haven’t let my device discharged below 30 % as it aff...\\nREAD MORE',\n",
       " 'A wort full value for money decision it’s . Simply go for it in 2021 its still a good decision . Awesome camera , Super smothered performance, Heck of build quality. And Most important it protects your privacy.']"
      ]
     },
     "execution_count": 30,
     "metadata": {},
     "output_type": "execute_result"
    }
   ],
   "source": [
    "full_review9"
   ]
  },
  {
   "cell_type": "code",
   "execution_count": 31,
   "id": "231972ec",
   "metadata": {},
   "outputs": [],
   "source": [
    "review_btn10=driver.find_element(By.XPATH,\"/html/body/div/div/div[3]/div/div/div[2]/div[13]/div/div/nav/a[7]\")\n",
    "review_btn10.click()"
   ]
  },
  {
   "cell_type": "code",
   "execution_count": 32,
   "id": "86cef097",
   "metadata": {},
   "outputs": [
    {
     "data": {
      "text/plain": [
       "10"
      ]
     },
     "execution_count": 32,
     "metadata": {},
     "output_type": "execute_result"
    }
   ],
   "source": [
    "rating10=[]\n",
    "rating10_tags=driver.find_elements(By.XPATH,\"//div[@class='_3LWZlK _1BLPMq']\")\n",
    "for i in rating10_tags:\n",
    "    rating10.append(i.text)\n",
    "len(rating10)"
   ]
  },
  {
   "cell_type": "code",
   "execution_count": 33,
   "id": "a85277d2",
   "metadata": {},
   "outputs": [
    {
     "data": {
      "text/plain": [
       "['5', '5', '5', '5', '5', '4', '5', '5', '5', '5']"
      ]
     },
     "execution_count": 33,
     "metadata": {},
     "output_type": "execute_result"
    }
   ],
   "source": [
    "rating10"
   ]
  },
  {
   "cell_type": "code",
   "execution_count": 34,
   "id": "3f4c44be",
   "metadata": {},
   "outputs": [
    {
     "data": {
      "text/plain": [
       "10"
      ]
     },
     "execution_count": 34,
     "metadata": {},
     "output_type": "execute_result"
    }
   ],
   "source": [
    "review_summary10=[]\n",
    "review_summary10_tags=driver.find_elements(By.XPATH,\"//p[@class='_2-N8zT']\")\n",
    "for i in review_summary10_tags:\n",
    "    review_summary10.append(i.text)\n",
    "len(review_summary10)"
   ]
  },
  {
   "cell_type": "code",
   "execution_count": 35,
   "id": "b07186c9",
   "metadata": {},
   "outputs": [
    {
     "data": {
      "text/plain": [
       "['Must buy!',\n",
       " 'Awesome',\n",
       " 'Best in the market!',\n",
       " 'Brilliant',\n",
       " 'Terrific purchase',\n",
       " 'Good quality product',\n",
       " 'Wonderful',\n",
       " 'Terrific',\n",
       " 'Best in the market!',\n",
       " 'Perfect product!']"
      ]
     },
     "execution_count": 35,
     "metadata": {},
     "output_type": "execute_result"
    }
   ],
   "source": [
    "review_summary10"
   ]
  },
  {
   "cell_type": "code",
   "execution_count": 36,
   "id": "12a52d11",
   "metadata": {},
   "outputs": [
    {
     "data": {
      "text/plain": [
       "10"
      ]
     },
     "execution_count": 36,
     "metadata": {},
     "output_type": "execute_result"
    }
   ],
   "source": [
    "full_review10=[]\n",
    "full_review10_tags=driver.find_elements(By.XPATH,\"//div[@class='t-ZTKy']\")\n",
    "for i in full_review10_tags:\n",
    "    full_review10.append(i.text)\n",
    "len(full_review10)"
   ]
  },
  {
   "cell_type": "code",
   "execution_count": 37,
   "id": "dfa52a76",
   "metadata": {},
   "outputs": [
    {
     "data": {
      "text/plain": [
       "['Dear friends... I want to share my experience with you about this amazing I phone 11....this is my first iPhone and special things about this mobile is it has great camera, battery backup and awesome display.... I mean everything is perfect.loved it 👍👍👍',\n",
       " 'Can’t beat the software and hardware integration of apple.\\nPerforms like a beast. Great quality camera\\n6-7 hours screen on time which is good. Nothing much to complaint about the screen. Good connectivity speeds.\\nGreat buy and Flipkart’s delivery top notch as usual',\n",
       " \"The best all rounder iphone. Flipkart is doing a great job. They're delivery services are blazing fast. I got delivery on the same day. Genuine Apple Product. Working great. Talking about review There's no need of review for iphones. They're simply the best.\",\n",
       " 'Amazing phone and on great deal I received with super fast delivery by Flipkart...',\n",
       " 'finally an iPhone with very nice battery backup. update from iPhone 7 and happy to have it. camera is not up to the mark in low light but overall a recommended phone if your budget allows 😀',\n",
       " \"I'm switching this phone to oppo reno 10x zoom\\nIt's really impressive\\nRarely I'm missing smooth display touch response like oppo reno but\\nI really loved it.\\nCamera really impressive\",\n",
       " 'Its good.. a little heavy on my pinky but its cute ! Well m not any great photographer but putting these pictures just in case u knw…. Would help someone make any decisions',\n",
       " 'Simply Awesome\\n\\nI have upgraded from iPhone 7 to iPhone 11.\\n\\n3110 mah Battery is good. I am not a heavy gamer. For official purpose, this is better than 12 mini.\\n\\nTotally impressed with battery performance.',\n",
       " 'Damn this phone is a blast . Upgraded from android to ios and is a duperb experience. Battery backup is top notch and display also pretty good',\n",
       " 'Worth the money’ starting first from its performance it beats out all phones , second the smoothness of camera is awesome, contrast ratio is much than expected. Price will not matter if u r a quality person, if not other phones are available with better discount']"
      ]
     },
     "execution_count": 37,
     "metadata": {},
     "output_type": "execute_result"
    }
   ],
   "source": [
    "full_review10"
   ]
  },
  {
   "cell_type": "markdown",
   "id": "d4f48bec",
   "metadata": {},
   "source": [
    "# Q6 Scrape data for first 100 sneakers you find when you visit flipkart.com and search for “sneakers” in the search field"
   ]
  },
  {
   "cell_type": "code",
   "execution_count": 40,
   "id": "d46ae4b4",
   "metadata": {},
   "outputs": [],
   "source": [
    "driver=webdriver.Chrome(r'C:\\Users\\Admin\\Downloads\\chromedriver_win32 (1)\\chromedriver.exe')"
   ]
  },
  {
   "cell_type": "code",
   "execution_count": 41,
   "id": "5f002a8b",
   "metadata": {},
   "outputs": [],
   "source": [
    "driver.maximize_window()"
   ]
  },
  {
   "cell_type": "code",
   "execution_count": 42,
   "id": "4bec96a2",
   "metadata": {},
   "outputs": [],
   "source": [
    "url='https://www.flipkart.com/'\n",
    "driver.get(url)"
   ]
  },
  {
   "cell_type": "code",
   "execution_count": 43,
   "id": "0e07892e",
   "metadata": {},
   "outputs": [],
   "source": [
    "search_job=driver.find_element(By.CLASS_NAME,\"_3704LK\") \n",
    "search_job.send_keys(\"Sneakers\")"
   ]
  },
  {
   "cell_type": "code",
   "execution_count": 44,
   "id": "3fdba312",
   "metadata": {},
   "outputs": [],
   "source": [
    "search_btn=driver.find_element(By.CLASS_NAME,\"L0Z3Pu\")\n",
    "search_btn.click()"
   ]
  },
  {
   "cell_type": "code",
   "execution_count": 50,
   "id": "7582e01a",
   "metadata": {},
   "outputs": [
    {
     "data": {
      "text/plain": [
       "40"
      ]
     },
     "execution_count": 50,
     "metadata": {},
     "output_type": "execute_result"
    }
   ],
   "source": [
    "brand=[]\n",
    "brand_tags=driver.find_elements(By.XPATH,\"//div[@class='_2WkVRV']\")\n",
    "for i in brand_tags:\n",
    "    brand.append(i.text)\n",
    "len(brand)"
   ]
  },
  {
   "cell_type": "code",
   "execution_count": 51,
   "id": "b62eb5a5",
   "metadata": {},
   "outputs": [
    {
     "data": {
      "text/plain": [
       "['Footox',\n",
       " 'BRUTON',\n",
       " 'aadi',\n",
       " 'BIRDE',\n",
       " 'BIRDE',\n",
       " 'PUMA',\n",
       " 'Shozie',\n",
       " 'BRUTON',\n",
       " 'PUMA',\n",
       " 'asian',\n",
       " 'BRUTON',\n",
       " 'BRUTON',\n",
       " 'BIRDE',\n",
       " 'BIRDE',\n",
       " 'aadi',\n",
       " 'PUMA',\n",
       " 'BRUTON',\n",
       " 'BRUTON',\n",
       " 'Labbin',\n",
       " 'PUMA',\n",
       " 'RapidBox',\n",
       " 'Footox',\n",
       " 'World Wear Footwear',\n",
       " 'aadi',\n",
       " 'BIRDE',\n",
       " 'BIRDE',\n",
       " \"'Trends'\",\n",
       " 'kardam&sons',\n",
       " 'Sparx',\n",
       " 'Shozie',\n",
       " 'BRUTON',\n",
       " 'kardam&sons',\n",
       " 'PUMA',\n",
       " 'Shozie',\n",
       " 'BRUTON',\n",
       " 'BRUTON',\n",
       " 'Footox',\n",
       " 'RapidBox',\n",
       " 'World Wear Footwear',\n",
       " 'BIRDE']"
      ]
     },
     "execution_count": 51,
     "metadata": {},
     "output_type": "execute_result"
    }
   ],
   "source": [
    "brand"
   ]
  },
  {
   "cell_type": "code",
   "execution_count": 52,
   "id": "d221828a",
   "metadata": {},
   "outputs": [
    {
     "data": {
      "text/plain": [
       "38"
      ]
     },
     "execution_count": 52,
     "metadata": {},
     "output_type": "execute_result"
    }
   ],
   "source": [
    "product_description=[]\n",
    "product_description_tags=driver.find_elements(By.XPATH,\"//a[@class='IRpwTa']\")\n",
    "for i in product_description_tags:\n",
    "    product_description.append(i.text)\n",
    "len(product_description)"
   ]
  },
  {
   "cell_type": "code",
   "execution_count": 53,
   "id": "4059b250",
   "metadata": {},
   "outputs": [
    {
     "data": {
      "text/plain": [
       "['Sneaker for Mens | Casual Shoes | Men Shoes Sneakers Fo...',\n",
       " 'Combo Pack Of 2 Casual Shoes Sneakers For Men',\n",
       " 'Synthetic| Lightweight| Premiun| Comfort| Summer Tendy|...',\n",
       " 'Combo Pack of 2 Casual Shoes Sneakers For Men',\n",
       " 'Combo Pack of 2 Sports Sneakers For Men',\n",
       " 'Buzz Sneakers For Men',\n",
       " 'Stylish Sneakers Shoes for Women And Girls Sneakers For...',\n",
       " '2 Combo Sneaker Shoes Sneakers For Men',\n",
       " 'Buzz Sneakers For Men',\n",
       " 'Sneakers For Men',\n",
       " 'Combo Pack Of 2 Casual Shoes Sneakers For Men Sneakers ...',\n",
       " 'Modern Trendy Sneakers Shoes Sneakers For Men',\n",
       " 'Combo Pack Of 2 Casual Shoes Sneakers For Men',\n",
       " 'Premium Sports Shoes For Men Pack Of 2 Sneakers For Men',\n",
       " 'Lightweight,Comfort,Summer,Trendy,Walking,Outdoor,Styli...',\n",
       " 'Buzz Sneakers For Men',\n",
       " 'Combo Pack Of 2 Casual Shoes Sneakers For Men',\n",
       " 'Combo Pack Of 2 Casual Shoes Sneakers For Men',\n",
       " 'Sneakers For Men',\n",
       " 'Buzz Sneakers For Men',\n",
       " 'Sneakers For Men',\n",
       " 'Sneaker for Mens | Casual Shoes | Men Shoes Sneakers Fo...',\n",
       " 'Sneakers For Men',\n",
       " 'Combo Pack Of 2 Casual Shoes Sneakers For Men',\n",
       " 'Premium Casual Shoes for Women Sneakers For Women',\n",
       " 'Casual sneaker fashionable shoes for men Sneakers For M...',\n",
       " 'Fashionable Canvas Casual Partywear Outdoor Sneakers wh...',\n",
       " 'Men White Sneakers Sneakers For Men',\n",
       " 'Stylish Comfortable Casual Sneakers Shoes for Women And...',\n",
       " '2 Combo Sneaker Shoes Sneakers For Men',\n",
       " 'Fashionable Canvas Casual Partywear Outdoor Sneakers wh...',\n",
       " 'Buzz Sneakers For Men',\n",
       " 'Sneakers For Women',\n",
       " 'Combo Pack Of 4 Casual Shoes Loafer Shoes Sneakers For ...',\n",
       " 'Modern Trendy Sneakers Shoes Sneakers For Men',\n",
       " 'Sneaker for Mens | Casual Shoes | Men Shoes Sneakers Fo...',\n",
       " 'Sneakers For Men',\n",
       " 'Combo Pack of 2 Casual Shoe Sneakers For Men']"
      ]
     },
     "execution_count": 53,
     "metadata": {},
     "output_type": "execute_result"
    }
   ],
   "source": [
    "product_description"
   ]
  },
  {
   "cell_type": "code",
   "execution_count": 54,
   "id": "bb0a75b9",
   "metadata": {},
   "outputs": [
    {
     "data": {
      "text/plain": [
       "40"
      ]
     },
     "execution_count": 54,
     "metadata": {},
     "output_type": "execute_result"
    }
   ],
   "source": [
    "price=[]\n",
    "price_tags=driver.find_elements(By.XPATH,\"//div[@class='_30jeq3']\")\n",
    "for i in price_tags:\n",
    "    price.append(i.text)\n",
    "len(price)"
   ]
  },
  {
   "cell_type": "code",
   "execution_count": 55,
   "id": "796f52f0",
   "metadata": {},
   "outputs": [
    {
     "data": {
      "text/plain": [
       "['₹369',\n",
       " '₹399',\n",
       " '₹299',\n",
       " '₹449',\n",
       " '₹449',\n",
       " '₹1,444',\n",
       " '₹445',\n",
       " '₹399',\n",
       " '₹1,444',\n",
       " '₹774',\n",
       " '₹399',\n",
       " '₹299',\n",
       " '₹449',\n",
       " '₹449',\n",
       " '₹299',\n",
       " '₹1,444',\n",
       " '₹399',\n",
       " '₹399',\n",
       " '₹349',\n",
       " '₹3,599',\n",
       " '₹699',\n",
       " '₹469',\n",
       " '₹249',\n",
       " '₹349',\n",
       " '₹449',\n",
       " '₹299',\n",
       " '₹440',\n",
       " '₹449',\n",
       " '₹719',\n",
       " '₹499',\n",
       " '₹399',\n",
       " '₹431',\n",
       " '₹1,444',\n",
       " '₹399',\n",
       " '₹399',\n",
       " '₹249',\n",
       " '₹369',\n",
       " '₹579',\n",
       " '₹229',\n",
       " '₹449']"
      ]
     },
     "execution_count": 55,
     "metadata": {},
     "output_type": "execute_result"
    }
   ],
   "source": [
    "price"
   ]
  },
  {
   "cell_type": "markdown",
   "id": "55feb834",
   "metadata": {},
   "source": [
    "# Q7 Go to webpage https://www.amazon.in/ Enter “Laptop” in the search field and then click the search icon. Then set CPU Type filter to “Intel Core i7” "
   ]
  },
  {
   "cell_type": "code",
   "execution_count": 75,
   "id": "d5369709",
   "metadata": {},
   "outputs": [],
   "source": [
    "driver=webdriver.Chrome(r'C:\\Users\\Admin\\Downloads\\chromedriver_win32 (1)\\chromedriver.exe')"
   ]
  },
  {
   "cell_type": "code",
   "execution_count": 76,
   "id": "931fa8ba",
   "metadata": {},
   "outputs": [],
   "source": [
    "driver.maximize_window()"
   ]
  },
  {
   "cell_type": "code",
   "execution_count": 77,
   "id": "7dd56e98",
   "metadata": {},
   "outputs": [],
   "source": [
    "url='https://www.amazon.com/'\n",
    "driver.get(url)"
   ]
  },
  {
   "cell_type": "code",
   "execution_count": 78,
   "id": "f2da63bd",
   "metadata": {},
   "outputs": [],
   "source": [
    "search_job=driver.find_element(By.XPATH,\"/html/body/div[1]/header/div/div[1]/div[2]/div/form/div[2]/div[1]/input\") # here inspect method is used just like beautoiful soup , we take the class name through inspect method, where class name will be suggestor input for the search bar inspect method\n",
    "search_job.send_keys(\"Laptop\")"
   ]
  },
  {
   "cell_type": "code",
   "execution_count": 79,
   "id": "2d435281",
   "metadata": {
    "scrolled": true
   },
   "outputs": [],
   "source": [
    "search_btn=driver.find_element(By.XPATH,\"/html/body/div[1]/header/div/div[1]/div[2]/div/form/div[3]/div/span/input\")\n",
    "search_btn.click()"
   ]
  },
  {
   "cell_type": "code",
   "execution_count": 80,
   "id": "83335575",
   "metadata": {},
   "outputs": [],
   "source": [
    "search_btn=driver.find_element(By.XPATH,\"/html/body/div[1]/div[2]/div[1]/div[2]/div/div[3]/span/div[1]/div/div/div[6]/ul[7]/li/span/div/div/ul/span[13]/li/span/a/span\")\n",
    "search_btn.click()"
   ]
  },
  {
   "cell_type": "code",
   "execution_count": 81,
   "id": "b899fdce",
   "metadata": {},
   "outputs": [
    {
     "data": {
      "text/plain": [
       "30"
      ]
     },
     "execution_count": 81,
     "metadata": {},
     "output_type": "execute_result"
    }
   ],
   "source": [
    "titles=[]\n",
    "title_tags=driver.find_elements(By.XPATH,\"//span[@class='a-size-medium a-color-base a-text-normal']\")\n",
    "for i in title_tags:\n",
    "    titles.append(i.text)\n",
    "len(titles)"
   ]
  },
  {
   "cell_type": "code",
   "execution_count": 82,
   "id": "6a4d8825",
   "metadata": {},
   "outputs": [
    {
     "data": {
      "text/plain": [
       "['Lenovo IdeaPad 5 Touch Laptop, 15.6\" FHD Touchscreen Display, Intel Core i7-1165G7 Processor, 8GB RAM, 512GB SSD, Intel Iris Xe Graphics, Fingerprint Reader, Webcam, Windows 11',\n",
       " 'Acer Swift 3 Intel Evo Thin&Light Laptop | 14\" QHD 100% sRGB | Intel Core i7-1260P | Intel Iris Xe Graphics | 16GB LPDDR4X | 1TB SSD | Killer Wi-Fi 6E AX1675|Bluetooth| Windows 11 Home |SF314-512-73YZ',\n",
       " 'MSI Thin GF63 15.6\" 144Hz Gaming Laptop: 12th Gen Intel Core i7, NVIDIA GeForce RTX 4050, 16GB DDR4, 512GB NVMe SSD, Type-C, Cooler Boost 5, Win11 Home: Black 12VE-066US',\n",
       " 'HP 2022 High Performance Business Laptop - 17.3\" HD+ Touchscreen - 10-Core 12th Intel i7-1255U Iris Xe Graphics - 32GB DDR4-1TB SSD - WiFi 6 Bluetooth - Backlit Keyboard - Win 11 Pro w/ 32GB USB',\n",
       " \"HP Newest 17t Laptop, 17.3'' HD+ Touchscreen, Intel Core i7-1165G7 Processor, 64GB DDR4 RAM, 2TB PCIe SSD, Backlit Keyboard, HDMI, Windows 11 Home, Silver\",\n",
       " 'HP 2023 ProBook 250 G9 15.6\" FHD Business Laptop, 12th Gen Intel 10-Core i7-1255U up to 4.7GHz, 32GB DDR4 RAM, 1TB PCIe SSD, WiFi 6, Bluetooth 5.3, Black, Windows 11 Pro, BROAG Extension Cable',\n",
       " 'MSI Creator 17 Professional Laptop: 17.3\" UHD 120Hz 100% AdobeRGB Display, Intel Core i7-11800H, NVIDIA GeForce RTX 3060, 16GB RAM, 512GB NVME SSD, Thunderbolt 4, Win10, Core Black (B11UE-471)',\n",
       " 'Dell 2022 Newest Inspiron 15 3511 Laptop, 15.6\" FHD Touchscreen, Intel Core i7-1165G7 Processor, 32GB DDR4 RAM, 1TB PCIe SSD, Wi-Fi, Webcam, HDMI, Windows 11 Home, Black',\n",
       " 'Lenovo IdeaPad 3 14\" FHD Laptop, 11th Gen Intel 4-Core i7-1165G7, Intel Iris Xe Graphics, 32GB RAM 1TB SSD, Fingerprint Reader, Webcam, WiFi, HDMI, Windows 11 Home, Gray',\n",
       " 'HP Pavilion 15 Laptop, 11th Gen Intel Core i7-1165G7 Processor, 16 GB RAM, 512 GB SSD Storage, Full HD IPS micro-edge Display, Windows 11 Pro, Compact Design, Long Battery Life',\n",
       " \"HP 17 Laptop, 17.3'' HD+ Touchscreen, Intel Core i7-1165G7 Processor, 32GB DDR4 RAM, 1TB PCIe SSD + 1TB HDD, Backlit Keyboard, HDMI, Windows 11 Home, Silver\",\n",
       " 'HP Envy 17T 2021,i7-1165G7 11th Gen Quad Core,16GB RAM,1 TB NVMe SSD, 17.3\" FHD 1080p Touch,Thunderbolt 4,Win 11 PRO,WiFi 6,B&O Speakers,USB-A,Intel Xe Graphics,4 Cell, 64GB Tech Warehouse Flash Drive',\n",
       " 'Lenovo 2022 Newest Ideapad 3 14\" FHD Laptop, Intel Core i7-1165G7, 20GB RAM, 1TB SSD, Intel Iris Xe Graphics,Thin and Light, Windows 11 Home, Wi-Fi 6, Bluetooth 5, Cefesfy Accessory',\n",
       " 'Acer Aspire 5 Notebook Laptop, 15.6 inch FHD Display, Intel Core i7-1165G7, 20GB RAM, 1TB PCIe SSD, Webcam, Backlit Keyboard, Fingerprint Reader, HDMI, Wi-Fi 6, Windows 11 Home, Black',\n",
       " 'ASUS TUF Dash 15 (2022) Gaming Laptop, 15.6\" 144Hz FHD Display, Intel Core i7-12650H, GeForce RTX 3060, 16GB DDR5, 512GB SSD, Thunderbolt 4, Windows 11 Home, Off Black, FX517ZM-AS73',\n",
       " 'Acer Swift 3 OLED Intel Evo Thin & Light Laptop | 14\" OLED 2880x1800 | Intel Core i7-12700H | Intel Iris Xe Graphics | 16GB LPDDR5 | 1TB SSD | Killer Wi-Fi 6E AX1675 | Windows 11 Home | SF314-71-75MW',\n",
       " 'HP Pavilion 14-inch IPS FHD Laptop (2022 Model), Intel Core i3-1125G4 (Beats i7-1065G7), 16GB RAM, 512GB SSD, Fingerprint Reader, Long Battery Life, Webcam, HDMI, WiFi, Bluetooth, Win10',\n",
       " 'Lenovo ThinkPad E15 Gen 4 21E6007GUS 15.6\" Notebook - Full HD - 1920 x 1080 - Intel Core i7 12th Gen i7-1255U Deca-core (10 Core) - 16 GB Total RAM - 8 GB On-Board Memory - 512 GB SSD - Mineral',\n",
       " 'Lenovo 2023 Newest IdeaPad 3 Laptop, 14 Inch FHD Display, 11th Gen Intel Core i7-1165G7 Processor, 8GB RAM, 512GB SSD, Intel Iris Xe Graphics, Bluetooth, HDMI, Windows 11 Home, Arctic Grey',\n",
       " 'Lenovo 2022 Newest IdeaPad 3 14\" FHD Slim Laptop, Intel Core i7-1165G7, 8GB RAM, 512GB SSD, Intel Iris X Graphics, Wi-Fi 6,Bluetooth 5,Fingerprint Reader, Windows 11 Home, Arctic Grey',\n",
       " 'HP Laptop, 17.3” HD+ Touchscreen Display, Intel Core i7-1255U Processor, 32GB RAM, 1TB PCIe SSD, Backlit Keyboard, Fingerprint Reader, Wi-Fi, Windows 11 Home, Silver',\n",
       " 'Lenovo 2023 Newest IdeaPad 3, 14 Inch FHD Laptop, Intel Core i7-1165G7 (Quad-core), 8GB RAM, 512GB SSD, Intel Iris X Graphics, Wi-Fi 6, Thin and Light, Bluetooth, Windows 11 Home, Bundle with JAWFOAL',\n",
       " 'Acer Nitro 5 AN515-57-79TD Gaming Laptop | Intel Core i7-11800H | NVIDIA GeForce RTX 3050 Ti Laptop GPU | 15.6\" FHD 144Hz IPS Display | 8GB DDR4 | 512GB NVMe SSD | Killer Wi-Fi 6 | Backlit Keyboard',\n",
       " 'ASUS VivoBook S15 S533 Thin and Light Laptop, 15.6” FHD Display, Intel Core i7-1165G7 CPU, 16GB DDR4 RAM, 512GB PCIe SSD, Wi-Fi 6, Windows 11 Home, AI Noise-Cancellation, Indie Black, S533EA-DH74',\n",
       " 'Acer Aspire Vero AV15-51-75QQ Green PC | 15.6\" FHD IPS 100% sRGB Display | 11th Gen Intel Core i7-1195G7 | Intel Iris Xe Graphics | 16GB DDR4 | 512GB SSD | Wi-Fi 6 | PCR Materials | Windows 11 Home',\n",
       " \"2022 HP High Performance Laptop 17.3'' FHD IPS 11th Intel i7-1165G7 Iris Xe Graphics 32GB DDR4 2TB SSD WiFi 6 Bluetooth HDMI USB-C Fullsize Keyboard w/ Numpad Windows 11 Pro w/ 32GB USB,Starry Black\",\n",
       " 'Dell Newest Business Laptop Latitude 3520, 15.6\" FHD Display, Intel i7-1165G7, 32GB RAM, 1TB SSD, Webcam, USB-C, HDMI, Wi-Fi 6, Windows 11 Pro',\n",
       " 'ASUS TUF Dash 15 (2021) Ultra Slim Gaming Laptop, 15.6\" 144Hz FHD, GeForce RTX 3050 Ti, Intel Core i7-11370H, 8GB DDR4, 512GB PCIe NVMe SSD, Wi-Fi 6, Windows 10, Eclipse Grey Color, TUF516PE-AB73',\n",
       " 'HP Laptops 17inch Touchscreen Envy Laptop| Windows11 Pro| Intel Core i7-1255U 10Core| Backlit Keyboard| Thunderbolt4 TypeC| Wi-Fi6E| Fingerprint| SD Card Reader| HDMICable (64GB RAM | 2TB PCIe SSD)',\n",
       " 'MSI Prestige 14 Evo Professional Laptop: 14\" FHD Ultra-Thin Bezel Display, Intel Core i7-1185G7, Intel Iris Xe, 16GB RAM, 512GB NVMe SSD, Thunderbolt 4, Win10 Home, Intel Evo, Carbon Gray (A11M-220)']"
      ]
     },
     "execution_count": 82,
     "metadata": {},
     "output_type": "execute_result"
    }
   ],
   "source": [
    "titles"
   ]
  },
  {
   "cell_type": "code",
   "execution_count": 85,
   "id": "4ba684e6",
   "metadata": {},
   "outputs": [
    {
     "data": {
      "text/plain": [
       "34"
      ]
     },
     "execution_count": 85,
     "metadata": {},
     "output_type": "execute_result"
    }
   ],
   "source": [
    "rating=[]\n",
    "rating_tags=driver.find_elements(By.XPATH,\"//span[@class='a-size-base s-underline-text']\")\n",
    "for i in rating_tags:\n",
    "    rating.append(i.text)\n",
    "len(rating)"
   ]
  },
  {
   "cell_type": "code",
   "execution_count": 86,
   "id": "a091f135",
   "metadata": {},
   "outputs": [
    {
     "data": {
      "text/plain": [
       "['3',\n",
       " '7',\n",
       " '1,818',\n",
       " '44',\n",
       " '187',\n",
       " '27',\n",
       " '39',\n",
       " '20',\n",
       " '4',\n",
       " '1,270',\n",
       " '101',\n",
       " '71',\n",
       " '66',\n",
       " '103',\n",
       " '1,070',\n",
       " '6',\n",
       " '46',\n",
       " '40',\n",
       " '11',\n",
       " '5',\n",
       " '1',\n",
       " '2,436',\n",
       " '2',\n",
       " '537',\n",
       " '5',\n",
       " '25',\n",
       " '1,343',\n",
       " '1',\n",
       " '152',\n",
       " '',\n",
       " '',\n",
       " '',\n",
       " '',\n",
       " '']"
      ]
     },
     "execution_count": 86,
     "metadata": {},
     "output_type": "execute_result"
    }
   ],
   "source": [
    "rating"
   ]
  },
  {
   "cell_type": "code",
   "execution_count": 87,
   "id": "e44379b5",
   "metadata": {},
   "outputs": [
    {
     "data": {
      "text/plain": [
       "33"
      ]
     },
     "execution_count": 87,
     "metadata": {},
     "output_type": "execute_result"
    }
   ],
   "source": [
    "price=[]\n",
    "price_tags=driver.find_elements(By.XPATH,\"//span[@class='a-price-whole']\")\n",
    "for i in price_tags:\n",
    "    price.append(i.text)\n",
    "len(price)"
   ]
  },
  {
   "cell_type": "code",
   "execution_count": 88,
   "id": "df7f63dd",
   "metadata": {},
   "outputs": [
    {
     "data": {
      "text/plain": [
       "['699',\n",
       " '899',\n",
       " '999',\n",
       " '930',\n",
       " '1,022',\n",
       " '939',\n",
       " '1,457',\n",
       " '915',\n",
       " '709',\n",
       " '814',\n",
       " '941',\n",
       " '1,115',\n",
       " '615',\n",
       " '829',\n",
       " '1,149',\n",
       " '999',\n",
       " '499',\n",
       " '1,123',\n",
       " '549',\n",
       " '499',\n",
       " '509',\n",
       " '829',\n",
       " '857',\n",
       " '847',\n",
       " '1,129',\n",
       " '969',\n",
       " '1,499',\n",
       " '709',\n",
       " '',\n",
       " '',\n",
       " '',\n",
       " '',\n",
       " '']"
      ]
     },
     "execution_count": 88,
     "metadata": {},
     "output_type": "execute_result"
    }
   ],
   "source": [
    "price"
   ]
  },
  {
   "cell_type": "markdown",
   "id": "a355d101",
   "metadata": {},
   "source": [
    "# Q8 Write a python program to scrape data for Top 1000 Quotes of All Time."
   ]
  },
  {
   "cell_type": "code",
   "execution_count": 2,
   "id": "8abc1136",
   "metadata": {},
   "outputs": [],
   "source": [
    "driver=webdriver.Chrome(r'C:\\Users\\Admin\\Downloads\\chromedriver_win32 (1)\\chromedriver.exe')"
   ]
  },
  {
   "cell_type": "code",
   "execution_count": 3,
   "id": "af299764",
   "metadata": {},
   "outputs": [],
   "source": [
    "driver.maximize_window()"
   ]
  },
  {
   "cell_type": "code",
   "execution_count": 5,
   "id": "1d4977b6",
   "metadata": {},
   "outputs": [],
   "source": [
    "url='https://www.azquotes.com/'\n",
    "driver.get(url)"
   ]
  },
  {
   "cell_type": "code",
   "execution_count": 7,
   "id": "94a39298",
   "metadata": {},
   "outputs": [],
   "source": [
    "author_btn=driver.find_element(By.XPATH,\"/html/body/div[1]/div[1]/div[1]/div/div[3]/ul/li[5]/a\")\n",
    "author_btn.click()"
   ]
  },
  {
   "cell_type": "code",
   "execution_count": 8,
   "id": "1b1ded66",
   "metadata": {},
   "outputs": [],
   "source": [
    "quote=[]\n",
    "quote_tags=driver.find_elements(By.XPATH,\"//a[@class='title']\")\n",
    "for i in quote_tags:\n",
    "    quote.append(i.text)"
   ]
  },
  {
   "cell_type": "code",
   "execution_count": 9,
   "id": "cf402f84",
   "metadata": {},
   "outputs": [
    {
     "data": {
      "text/plain": [
       "['The essence of strategy is choosing what not to do.',\n",
       " 'One cannot and must not try to erase the past merely because it does not fit the present.',\n",
       " 'Patriotism means to stand by the country. It does not mean to stand by the president.',\n",
       " 'Death is something inevitable. When a man has done what he considers to be his duty to his people and his country, he can rest in peace. I believe I have made that effort and that is, therefore, why I will sleep for the eternity.',\n",
       " 'You have to love a nation that celebrates its independence every July 4, not with a parade of guns, tanks, and soldiers who file by the White House in a show of strength and muscle, but with family picnics where kids throw Frisbees, the potato salad gets iffy, and the flies die from happiness. You may think you have overeaten, but it is patriotism.',\n",
       " 'Be more concerned with your character than your reputation, because your character is what you really are, while your reputation is merely what others think you are.',\n",
       " 'Weak people revenge. Strong people forgive. Intelligent People Ignore.',\n",
       " \"A mind is like a parachute. It doesn't work if it is not open.\",\n",
       " 'Never be afraid to raise your voice for honesty and truth and compassion against injustice and lying and greed. If people all over the world...would do this, it would change the earth.',\n",
       " 'There are three kinds of men. The one that learns by reading. The few who learn by observation. The rest of them have to pee on the electric fence for themselves.',\n",
       " \"A strong nation, like a strong person, can afford to be gentle, firm, thoughtful, and restrained. It can afford to extend a helping hand to others. It's a weak nation, like a weak person, that must behave with bluster and boasting and rashness and other signs of insecurity.\",\n",
       " 'The difference between stupidity and genius is that genius has its limits.',\n",
       " 'We the people are the rightful masters of both Congress and the courts, not to overthrow the Constitution but to overthrow the men who pervert the Constitution.',\n",
       " 'With or without religion, you would have good people doing good things and evil people doing evil things. But for good people to do evil things, that takes religion.',\n",
       " 'Human kindness has never weakened the stamina or softened the fiber of a free people. A nation does not have to be cruel to be tough.',\n",
       " 'A person who never made a mistake never tried anything new.',\n",
       " 'My mission in life is not merely to survive, but to thrive; and to do so with some passion, some compassion, some humor, and some style',\n",
       " 'Life is short, Break the Rules. Forgive quickly, Kiss slowly. Love truly. Laugh uncontrollably And never regret ANYTHING That makes you smile.',\n",
       " 'This country will not be a good place for any of us to live in unless we make it a good place for all of us to live in.',\n",
       " 'In a world filled with hate, we must still dare to hope. In a world filled with anger, we must still dare to comfort. In a world filled with despair, we must still dare to dream. And in a world filled with distrust, we must still dare to believe.',\n",
       " 'Darkness cannot drive out darkness; only light can do that. Hate cannot drive out hate; only love can do that.',\n",
       " 'To be a Christian means to forgive the inexcusable because God has forgiven the inexcusable in you.',\n",
       " 'A man who is good enough to shed his blood for the country is good enough to be given a square deal afterwards.',\n",
       " 'Kindness is the language which the deaf can hear and the blind can see.',\n",
       " 'Most folks are as happy as they make up their minds to be.',\n",
       " 'A happy marriage is the union of two good forgivers.',\n",
       " 'I believe in Christianity as I believe that the sun has risen: not only because I see it, but because by it I see everything else.',\n",
       " 'Politics is the art of looking for trouble, finding it everywhere, diagnosing it incorrectly and applying the wrong remedies.',\n",
       " \"I believe in everything until it's disproved. So I believe in fairies, the myths, dragons. It all exists, even if it's in your mind. Who's to say that dreams and nightmares aren't as real as the here and now?\",\n",
       " 'At the end of your life, you will never regret not having passed one more test, not winning one more verdict or not closing one more deal. You will regret time not spent with a husband, a friend, a child, or a parent.',\n",
       " 'I never think of the future - it comes soon enough.',\n",
       " \"Our greatest fear should not be of failure but of succeeding at things in life that don't really matter.\",\n",
       " 'Failure is simply the opportunity to begin again, this time more intelligently.',\n",
       " 'Music expresses that which cannot be put into words.',\n",
       " 'Good actions are a guard against the blows of adversity.',\n",
       " 'Positive thinking will let you do everything better than negative thinking will.',\n",
       " \"You have enemies? Good. That means you've stood up for something, sometime in your life.\",\n",
       " \"You don't have to be great to start, but you have to start to be great\",\n",
       " 'Let every nation know, whether it wishes us well or ill, that we shall pay any price, bear any burden, meet any hardship, support any friend, oppose any foe to assure the survival and the success of liberty.',\n",
       " \"If you want total security, go to prison. There you're fed, clothed, given medical care and so on. The only thing lacking... is freedom.\",\n",
       " 'Socialism is a philosophy of failure, the creed of ignorance, and the gospel of envy, its inherent virtue is the equal sharing of misery.',\n",
       " 'It is the supreme art of the teacher to awaken joy in creative expression and knowledge.',\n",
       " \"Once you replace negative thoughts with positive ones, you'll start having positive results.\",\n",
       " \"You build on failure. You use it as a stepping stone. Close the door on the past. You don't try to forget the mistakes, but you don't dwell on it. You don't let it have any of your energy, or any of your time, or any of your space.\",\n",
       " 'All my life through, the new sights of Nature made me rejoice like a child.',\n",
       " \"I've learned that people will forget what you said, people will forget what you did, but people will never forget how you made them feel.\",\n",
       " 'Marriage is not a ritual or an end. It is a long, intricate, intimate dance together and nothing matters more than your own sense of balance and your choice of partner.',\n",
       " 'When obstacles arise, you change your direction to reach your goal; you do not change your decision to get there.',\n",
       " 'Time you enjoy wasting, was not wasted.',\n",
       " 'The next time some academics tell you how important diversity is, ask how many Republicans there are in their sociology department.',\n",
       " 'Faith is not the belief that God will do what you want. It is the belief that God will do what is right.',\n",
       " \"If you can't fly then run, if you can't run then walk, if you can't walk then crawl, but whatever you do you have to keep moving forward.\",\n",
       " 'I say that the most liberating thing about beauty is realizing that you are the beholder.',\n",
       " 'It is hard to imagine a more stupid or more dangerous way of making decisions than by putting those decisions in the hands of people who pay no price for being wrong.',\n",
       " 'The ultimate measure of a man is not where he stands in moments of comfort and convenience, but where he stands at times of challenge and controversy.',\n",
       " 'The soldier, above all other people, prays for peace, for he must suffer and bear the deepest wounds and scars of war.',\n",
       " 'A true leader has the confidence to stand alone, the courage to make tough decisions, and the compassion to listen to the needs of others. He does not set out to be a leader, but becomes one by the equality of his actions and the integrity of his intent.',\n",
       " 'I am a Soldier, I fight where I am told, and I win where I fight.',\n",
       " \"Trying to do the Lord's work in your own strength is the most confusing, exhausting, and tedious of all work. But when you are filled with the Holy Spirit, then the ministry of Jesus just flows out of you.\",\n",
       " \"Sports for me is when a guy walks off the court, and you really can't tell whether he won or lost, when he carries himself with pride either way.\",\n",
       " 'Expect the best. Prepare for the worst. Capitalize on what comes.',\n",
       " 'I became insane, with long intervals of horrible sanity.',\n",
       " 'Failure is a detour, not a dead-end street.',\n",
       " 'I am not a product of my circumstances. I am a product of my decisions.',\n",
       " 'You can cut all the flowers but you cannot keep spring from coming.',\n",
       " \"Life doesn't run away from nobody. Life runs at people.\",\n",
       " 'In order to succeed, your desire for success should be greater than your fear of failure.',\n",
       " \"It's difficult to think anything but pleasant thoughts while eating a homegrown tomato.\",\n",
       " 'Too many of us are not living our dreams because we are living our fears.',\n",
       " 'If the only prayer you ever say in your entire life is thank you, it will be enough.',\n",
       " \"It's just a job. Grass grows, birds fly, waves pound the sand. I beat people up.\",\n",
       " 'A man must be big enough to admit his mistakes, smart enough to profit from them, and strong enough to correct them.',\n",
       " 'Our greatest weakness lies in giving up. The most certain way to succeed is always to try just one more time.',\n",
       " 'This is one small step for a man, one giant leap for mankind.',\n",
       " \"It has been said, 'time heals all wounds.' I do not agree. The wounds remain. In time, the mind, protecting its sanity, covers them with scar tissue and the pain lessens. But it is never gone.\",\n",
       " \"I have held many things in my hands, and I have lost them all; but whatever I have placed in God's hands, that I still possess.\",\n",
       " \"Welfare's purpose should be to eliminate, as far as possible, the need for its own existence.\",\n",
       " 'Each time, before you intercede, be quiet first, and worship God in His glory. Think of what He can do, and how He delights to hear the prayers of His redeemed people. Think of your place and privilege in Christ, and expect great things!',\n",
       " \"Failure is not the opposite of success; it's part of success.\",\n",
       " 'No one has ever become poor by giving.',\n",
       " 'It is not my ability, but my response to God’s ability, that counts.',\n",
       " 'No one is born hating another person because of the color of his skin, or his background, or his religion. People must learn to hate, and if they can learn to hate, they can be taught to love, for love comes more naturally to the human heart than its opposite.',\n",
       " 'No matter what people tell you, words and ideas can change the world.',\n",
       " 'A man should never neglect his family for business.',\n",
       " 'Those who dare to fail miserably can achieve greatly.',\n",
       " 'The two most important days in your life are the day you are born and the day you find out why.',\n",
       " 'We must be global Christians with a global vision because our God is a global God.',\n",
       " 'With everything that has happened to you, you can either feel sorry for yourself or treat what has happened as a gift. Everything is either an opportunity to grow or an obstacle to keep you from growing. You get to choose.',\n",
       " 'Don’t let the noise of others’ opinions drown out your own inner voice.',\n",
       " 'History, despite its wrenching pain, cannot be unlived, but if faced with courage, need not be lived again.',\n",
       " \"How old would you be if you didn't know how old you are?\",\n",
       " 'Leadership is a privilege to better the lives of others. It is not an opportunity to satisfy personal greed.',\n",
       " 'If you have good thoughts they will shine out of your face like sunbeams and you will always look lovely.',\n",
       " 'Never cut a tree down in the wintertime. Never make a negative decision in the low time. Never make your most important decisions when you are in your worst moods. Wait. Be patient. The storm will pass. The spring will come.',\n",
       " 'An optimist stays up until midnight to see the new year in. A pessimist stays up to make sure the old year leaves.',\n",
       " 'When the going gets weird, the weird turn pro.',\n",
       " \"When a train goes through a tunnel and it gets dark, you don't throw away the ticket and jump off. You sit still and trust the engineer.\",\n",
       " 'If you think you are too small to make a difference, try sleeping with a mosquito.',\n",
       " \"God doesn't require us to succeed, he only requires that you try.\",\n",
       " 'Change your thoughts and you change your world.']"
      ]
     },
     "execution_count": 9,
     "metadata": {},
     "output_type": "execute_result"
    }
   ],
   "source": [
    "quote"
   ]
  },
  {
   "cell_type": "code",
   "execution_count": 10,
   "id": "d8d1425c",
   "metadata": {},
   "outputs": [],
   "source": [
    "author=[]\n",
    "author_tags=driver.find_elements(By.XPATH,\"//div[@class='author']\")\n",
    "for i in author_tags:\n",
    "    author.append(i.text)"
   ]
  },
  {
   "cell_type": "code",
   "execution_count": 11,
   "id": "ddb38888",
   "metadata": {},
   "outputs": [
    {
     "data": {
      "text/plain": [
       "['Michael Porter',\n",
       " 'Golda Meir',\n",
       " 'Theodore Roosevelt',\n",
       " 'Nelson Mandela',\n",
       " 'Erma Bombeck',\n",
       " 'John Wooden',\n",
       " 'Albert Einstein',\n",
       " 'Frank Zappa',\n",
       " 'William Faulkner',\n",
       " 'Will Rogers',\n",
       " 'Jimmy Carter',\n",
       " 'Albert Einstein',\n",
       " 'Abraham Lincoln',\n",
       " 'Steven Weinberg',\n",
       " 'Franklin D. Roosevelt',\n",
       " 'Albert Einstein',\n",
       " 'Maya Angelou',\n",
       " 'Mark Twain',\n",
       " 'Theodore Roosevelt',\n",
       " 'Michael Jackson',\n",
       " 'Martin Luther King, Jr.',\n",
       " 'C. S. Lewis',\n",
       " 'Theodore Roosevelt',\n",
       " 'Mark Twain',\n",
       " 'Abraham Lincoln',\n",
       " 'Ruth Graham',\n",
       " 'C. S. Lewis',\n",
       " 'Groucho Marx',\n",
       " 'John Lennon',\n",
       " 'Barbara Bush',\n",
       " 'Albert Einstein',\n",
       " 'Francis Chan',\n",
       " 'Henry Ford',\n",
       " 'Victor Hugo',\n",
       " 'Abu Bakr',\n",
       " 'Zig Ziglar',\n",
       " 'Winston Churchill',\n",
       " 'Zig Ziglar',\n",
       " 'John F. Kennedy',\n",
       " 'Dwight D. Eisenhower',\n",
       " 'Winston Churchill',\n",
       " 'Albert Einstein',\n",
       " 'Willie Nelson',\n",
       " 'Johnny Cash',\n",
       " 'Marie Curie',\n",
       " 'Maya Angelou',\n",
       " 'Amy Bloom',\n",
       " 'Zig Ziglar',\n",
       " 'John Lennon',\n",
       " 'Thomas Sowell',\n",
       " 'Max Lucado',\n",
       " 'Martin Luther King, Jr.',\n",
       " 'Salma Hayek',\n",
       " 'Thomas Sowell',\n",
       " 'Martin Luther King, Jr.',\n",
       " 'Douglas MacArthur',\n",
       " 'Douglas MacArthur',\n",
       " 'George S. Patton',\n",
       " 'Corrie Ten Boom',\n",
       " 'Jim Courier',\n",
       " 'Zig Ziglar',\n",
       " 'Edgar Allan Poe',\n",
       " 'Zig Ziglar',\n",
       " 'Stephen Covey',\n",
       " 'Pablo Neruda',\n",
       " 'Joe Frazier',\n",
       " 'Bill Cosby',\n",
       " 'Lewis Grizzard',\n",
       " 'Les Brown',\n",
       " 'Meister Eckhart',\n",
       " 'Muhammad Ali',\n",
       " 'John C. Maxwell',\n",
       " 'Thomas A. Edison',\n",
       " 'Neil Armstrong',\n",
       " 'Rose Kennedy',\n",
       " 'Martin Luther',\n",
       " 'Ronald Reagan',\n",
       " 'Andrew Murray',\n",
       " 'Arianna Huffington',\n",
       " 'Anne Frank',\n",
       " 'Corrie Ten Boom',\n",
       " 'Nelson Mandela',\n",
       " 'Robin Williams',\n",
       " 'Walt Disney',\n",
       " 'John F. Kennedy',\n",
       " 'Mark Twain',\n",
       " 'John Stott',\n",
       " 'Wayne Dyer',\n",
       " 'Steve Jobs',\n",
       " 'Maya Angelou',\n",
       " 'Satchel Paige',\n",
       " 'Mwai Kibaki',\n",
       " 'Roald Dahl',\n",
       " 'Robert H. Schuller',\n",
       " 'Bill Vaughan',\n",
       " 'Hunter S. Thompson',\n",
       " 'Corrie Ten Boom',\n",
       " 'Dalai Lama',\n",
       " 'Mother Teresa',\n",
       " 'Norman Vincent Peale']"
      ]
     },
     "execution_count": 11,
     "metadata": {},
     "output_type": "execute_result"
    }
   ],
   "source": [
    "author"
   ]
  },
  {
   "cell_type": "code",
   "execution_count": 12,
   "id": "4c97b981",
   "metadata": {},
   "outputs": [],
   "source": [
    "typeofauthor=[]\n",
    "typeofauthor_tags=driver.find_elements(By.XPATH,\"//div[@class='tags']\")\n",
    "for i in typeofauthor_tags:\n",
    "    typeofauthor.append(i.text)"
   ]
  },
  {
   "cell_type": "code",
   "execution_count": 13,
   "id": "c2dae086",
   "metadata": {},
   "outputs": [
    {
     "data": {
      "text/plain": [
       "['Essence, Deep Thought, Transcendentalism',\n",
       " 'Inspiration, Past, Trying',\n",
       " 'Country, Peace, War',\n",
       " 'Inspirational, Motivational, Death',\n",
       " '4th Of July, Food, Patriotic',\n",
       " 'Inspirational, Success, Basketball',\n",
       " 'Strong, Revenge, Intelligent',\n",
       " 'Inspirational, Teacher, Religious',\n",
       " 'Truth, Honesty, Lying',\n",
       " 'Funny, Reading, Learning',\n",
       " 'Strong, Thoughtful, Compassion',\n",
       " 'Love, Funny, Life',\n",
       " 'Freedom, Men, Democracies Have',\n",
       " 'God, Religious, Atheist',\n",
       " 'Respect, Kindness, Character',\n",
       " 'Inspirational, Motivational, Change',\n",
       " 'Inspirational, Life, Inspiring',\n",
       " 'Love, Inspirational, Life',\n",
       " 'Inspiring, Country, 4th Of July',\n",
       " 'Inspirational, Dream, Hate',\n",
       " 'Love, Inspirational, Life',\n",
       " 'Forgiveness, God, Christian',\n",
       " 'Country, Men, Squares',\n",
       " 'Inspirational, Relationship, Positive',\n",
       " 'Inspirational, Motivational, Positive',\n",
       " 'Love, Friendship, Relationship',\n",
       " 'Faith, God, Christian',\n",
       " 'Art, Freedom, Political Will',\n",
       " 'Inspirational, Life, Faith',\n",
       " 'Inspirational, Life, Meaningful',\n",
       " 'Happiness, Time, Clever',\n",
       " 'Inspirational, Inspiring, Success',\n",
       " 'Love, Inspirational, Life',\n",
       " 'Music, Sound And Music, Musical Life',\n",
       " 'Adversity, Blow, Action',\n",
       " 'Positive, Thinking Of You, Attitude',\n",
       " 'Inspirational, Funny, Life',\n",
       " 'Inspirational, Life, Motivational',\n",
       " 'Inspirational, Memorial Day, Freedom',\n",
       " 'Freedom, Patriotic, Vaccines',\n",
       " 'Philosophy, Ignorance, Democratic Socialism',\n",
       " 'Inspirational, Dance, Education',\n",
       " 'Life, Change, Positive',\n",
       " 'Life, Bullying, Mistake',\n",
       " 'Life, Nature, Children',\n",
       " 'Inspirational, Life, Motivational',\n",
       " 'Marriage, Love You, Long',\n",
       " 'Inspirational, Motivational, Success',\n",
       " 'Love, Inspirational, Life',\n",
       " 'Diversity, Important, Liberty',\n",
       " 'Inspirational, God, Faith',\n",
       " 'Inspirational, Motivational, Inspiring',\n",
       " 'Beauty, Love Yourself, Your Beautiful',\n",
       " 'Business, Stupid, Government',\n",
       " 'Inspirational, Life, Motivational',\n",
       " 'Peace, Military, War',\n",
       " 'Inspirational, Leadership, Confidence',\n",
       " 'Motivational, Military, War',\n",
       " 'Christian, Jesus, Confusing',\n",
       " 'Inspirational, Success, Sports',\n",
       " 'Inspirational, Motivational, Success',\n",
       " 'Inspirational, Life, Clever',\n",
       " 'Inspirational, Death, Failure',\n",
       " 'Inspirational, Life, Motivational',\n",
       " 'Inspiring, Hope, Spring',\n",
       " 'Motivational, Running, People',\n",
       " 'Inspirational, Motivational, Positive',\n",
       " 'Summer, Food, Garden',\n",
       " 'Inspirational, Life, Motivational',\n",
       " 'Inspirational, Life, Thank You',\n",
       " 'Funny, Sports, Jobs',\n",
       " 'Being Strong, Wisdom, Stay Strong',\n",
       " 'Inspirational, Motivational, Positive',\n",
       " 'Motivational, Positive, Moon',\n",
       " 'Time, Pain, Get Well',\n",
       " 'Life, God, Christian',\n",
       " 'President, Needs, Purpose',\n",
       " 'God, Faith, Christian',\n",
       " 'Women, Failure, Successful',\n",
       " 'Inspirational, Morning, Kindness',\n",
       " 'Hiding Place, Ability, Baby Boom',\n",
       " 'Love, Inspirational, Life',\n",
       " 'Inspirational, Change, Philosophy',\n",
       " 'Inspirational, Family, Inspiring',\n",
       " 'Inspirational, Success, Courage',\n",
       " 'Inspirational, Life, Motivational',\n",
       " 'Christian, Vision, Missionary',\n",
       " 'Inspirational, Positive, Regret',\n",
       " 'Love, Inspirational, Life',\n",
       " 'Inspirational, Life, Encouragement',\n",
       " 'Happy Birthday, Baseball, Fun',\n",
       " 'Leadership, Power, Opportunity',\n",
       " 'Inspirational, Life, Positive',\n",
       " 'Inspirational, Encouraging, Patience',\n",
       " 'New Year, Fun, New Beginnings',\n",
       " 'Music, Sports, Hunting',\n",
       " 'Trust, Encouraging, Uplifting',\n",
       " 'Inspirational, Funny, Change',\n",
       " 'Success, God, Mother',\n",
       " 'Inspirational, Motivational, Change']"
      ]
     },
     "execution_count": 13,
     "metadata": {},
     "output_type": "execute_result"
    }
   ],
   "source": [
    "typeofauthor"
   ]
  },
  {
   "cell_type": "code",
   "execution_count": 14,
   "id": "1c6b7149",
   "metadata": {},
   "outputs": [
    {
     "data": {
      "text/html": [
       "<div>\n",
       "<style scoped>\n",
       "    .dataframe tbody tr th:only-of-type {\n",
       "        vertical-align: middle;\n",
       "    }\n",
       "\n",
       "    .dataframe tbody tr th {\n",
       "        vertical-align: top;\n",
       "    }\n",
       "\n",
       "    .dataframe thead th {\n",
       "        text-align: right;\n",
       "    }\n",
       "</style>\n",
       "<table border=\"1\" class=\"dataframe\">\n",
       "  <thead>\n",
       "    <tr style=\"text-align: right;\">\n",
       "      <th></th>\n",
       "      <th>quote</th>\n",
       "      <th>author</th>\n",
       "      <th>type of author</th>\n",
       "    </tr>\n",
       "  </thead>\n",
       "  <tbody>\n",
       "    <tr>\n",
       "      <th>0</th>\n",
       "      <td>The essence of strategy is choosing what not t...</td>\n",
       "      <td>Michael Porter</td>\n",
       "      <td>Essence, Deep Thought, Transcendentalism</td>\n",
       "    </tr>\n",
       "    <tr>\n",
       "      <th>1</th>\n",
       "      <td>One cannot and must not try to erase the past ...</td>\n",
       "      <td>Golda Meir</td>\n",
       "      <td>Inspiration, Past, Trying</td>\n",
       "    </tr>\n",
       "    <tr>\n",
       "      <th>2</th>\n",
       "      <td>Patriotism means to stand by the country. It d...</td>\n",
       "      <td>Theodore Roosevelt</td>\n",
       "      <td>Country, Peace, War</td>\n",
       "    </tr>\n",
       "    <tr>\n",
       "      <th>3</th>\n",
       "      <td>Death is something inevitable. When a man has ...</td>\n",
       "      <td>Nelson Mandela</td>\n",
       "      <td>Inspirational, Motivational, Death</td>\n",
       "    </tr>\n",
       "    <tr>\n",
       "      <th>4</th>\n",
       "      <td>You have to love a nation that celebrates its ...</td>\n",
       "      <td>Erma Bombeck</td>\n",
       "      <td>4th Of July, Food, Patriotic</td>\n",
       "    </tr>\n",
       "    <tr>\n",
       "      <th>...</th>\n",
       "      <td>...</td>\n",
       "      <td>...</td>\n",
       "      <td>...</td>\n",
       "    </tr>\n",
       "    <tr>\n",
       "      <th>95</th>\n",
       "      <td>When the going gets weird, the weird turn pro.</td>\n",
       "      <td>Hunter S. Thompson</td>\n",
       "      <td>Music, Sports, Hunting</td>\n",
       "    </tr>\n",
       "    <tr>\n",
       "      <th>96</th>\n",
       "      <td>When a train goes through a tunnel and it gets...</td>\n",
       "      <td>Corrie Ten Boom</td>\n",
       "      <td>Trust, Encouraging, Uplifting</td>\n",
       "    </tr>\n",
       "    <tr>\n",
       "      <th>97</th>\n",
       "      <td>If you think you are too small to make a diffe...</td>\n",
       "      <td>Dalai Lama</td>\n",
       "      <td>Inspirational, Funny, Change</td>\n",
       "    </tr>\n",
       "    <tr>\n",
       "      <th>98</th>\n",
       "      <td>God doesn't require us to succeed, he only req...</td>\n",
       "      <td>Mother Teresa</td>\n",
       "      <td>Success, God, Mother</td>\n",
       "    </tr>\n",
       "    <tr>\n",
       "      <th>99</th>\n",
       "      <td>Change your thoughts and you change your world.</td>\n",
       "      <td>Norman Vincent Peale</td>\n",
       "      <td>Inspirational, Motivational, Change</td>\n",
       "    </tr>\n",
       "  </tbody>\n",
       "</table>\n",
       "<p>100 rows × 3 columns</p>\n",
       "</div>"
      ],
      "text/plain": [
       "                                                quote                author  \\\n",
       "0   The essence of strategy is choosing what not t...        Michael Porter   \n",
       "1   One cannot and must not try to erase the past ...            Golda Meir   \n",
       "2   Patriotism means to stand by the country. It d...    Theodore Roosevelt   \n",
       "3   Death is something inevitable. When a man has ...        Nelson Mandela   \n",
       "4   You have to love a nation that celebrates its ...          Erma Bombeck   \n",
       "..                                                ...                   ...   \n",
       "95     When the going gets weird, the weird turn pro.    Hunter S. Thompson   \n",
       "96  When a train goes through a tunnel and it gets...       Corrie Ten Boom   \n",
       "97  If you think you are too small to make a diffe...            Dalai Lama   \n",
       "98  God doesn't require us to succeed, he only req...         Mother Teresa   \n",
       "99    Change your thoughts and you change your world.  Norman Vincent Peale   \n",
       "\n",
       "                              type of author  \n",
       "0   Essence, Deep Thought, Transcendentalism  \n",
       "1                  Inspiration, Past, Trying  \n",
       "2                        Country, Peace, War  \n",
       "3         Inspirational, Motivational, Death  \n",
       "4               4th Of July, Food, Patriotic  \n",
       "..                                       ...  \n",
       "95                    Music, Sports, Hunting  \n",
       "96             Trust, Encouraging, Uplifting  \n",
       "97              Inspirational, Funny, Change  \n",
       "98                      Success, God, Mother  \n",
       "99       Inspirational, Motivational, Change  \n",
       "\n",
       "[100 rows x 3 columns]"
      ]
     },
     "execution_count": 14,
     "metadata": {},
     "output_type": "execute_result"
    }
   ],
   "source": [
    "quotes=pd.DataFrame()\n",
    "quotes['quote']=quote\n",
    "quotes['author']=author\n",
    "quotes['type of author']=typeofauthor\n",
    "quotes"
   ]
  },
  {
   "cell_type": "markdown",
   "id": "951dfb5c",
   "metadata": {},
   "source": [
    "# Q9 Write a python program to display list of respected former Prime Ministers of India(i.e. Name, Born-Dead, Term of office, Remarks) from https://www.jagranjosh.com/."
   ]
  },
  {
   "cell_type": "code",
   "execution_count": 23,
   "id": "3daa8695",
   "metadata": {},
   "outputs": [],
   "source": [
    "driver=webdriver.Chrome(r'C:\\Users\\Admin\\Downloads\\chromedriver_win32 (1)\\chromedriver.exe')"
   ]
  },
  {
   "cell_type": "code",
   "execution_count": 24,
   "id": "a77980ff",
   "metadata": {},
   "outputs": [],
   "source": [
    "driver.maximize_window()"
   ]
  },
  {
   "cell_type": "code",
   "execution_count": 25,
   "id": "a614fc06",
   "metadata": {},
   "outputs": [],
   "source": [
    "url='https://www.jagranjosh.com/'\n",
    "driver.get(url)"
   ]
  },
  {
   "cell_type": "code",
   "execution_count": 26,
   "id": "4017ba0f",
   "metadata": {},
   "outputs": [],
   "source": [
    "gk_btn=driver.find_element(By.XPATH,\"/html/body/div[1]/div[1]/div/div[1]/div/div[5]/div/div[1]/header/div[3]/ul/li[3]/a\")\n",
    "gk_btn.click()"
   ]
  },
  {
   "cell_type": "code",
   "execution_count": 27,
   "id": "1556764f",
   "metadata": {},
   "outputs": [],
   "source": [
    "primeminister_btn=driver.find_element(By.XPATH,\"/html/body/div[1]/div/div/div[2]/div/div[10]/div/div/ul/li[2]/a\")\n",
    "primeminister_btn.click()"
   ]
  },
  {
   "cell_type": "code",
   "execution_count": 11,
   "id": "02cacf42",
   "metadata": {},
   "outputs": [],
   "source": [
    "name=[]\n",
    "name_tags=driver.find_elements(By.XPATH,\"/html/body/div[1]/div[2]/div/div[2]/div/div[1]/div/div/div/div[4]/span/div[3]/table/tbody/tr[2]/td[2]/p/strong/a\")\n",
    "for i in name_tags:\n",
    "    name.append(i.text)"
   ]
  },
  {
   "cell_type": "code",
   "execution_count": 12,
   "id": "3f20cf9f",
   "metadata": {},
   "outputs": [
    {
     "data": {
      "text/plain": [
       "['Jawahar Lal Nehru']"
      ]
     },
     "execution_count": 12,
     "metadata": {},
     "output_type": "execute_result"
    }
   ],
   "source": [
    "name"
   ]
  },
  {
   "cell_type": "code",
   "execution_count": 14,
   "id": "6f444e7c",
   "metadata": {},
   "outputs": [],
   "source": [
    "born_dead=[]\n",
    "born_dead_tags=driver.find_elements(By.XPATH,\"/html/body/div[1]/div[2]/div/div[2]/div/div[1]/div/div/div/div[4]/span/div[3]/table/tbody/tr[2]/td[3]\")\n",
    "for i in born_dead_tags:\n",
    "    born_dead.append(i.text)"
   ]
  },
  {
   "cell_type": "code",
   "execution_count": 15,
   "id": "fbdfe44a",
   "metadata": {},
   "outputs": [
    {
     "data": {
      "text/plain": [
       "['(1889–1964)']"
      ]
     },
     "execution_count": 15,
     "metadata": {},
     "output_type": "execute_result"
    }
   ],
   "source": [
    "born_dead"
   ]
  },
  {
   "cell_type": "code",
   "execution_count": 16,
   "id": "70100e4a",
   "metadata": {},
   "outputs": [],
   "source": [
    "term_of_office=[]\n",
    "term_of_office_tags=driver.find_elements(By.XPATH,\"/html/body/div[1]/div[2]/div/div[2]/div/div[1]/div/div/div/div[4]/span/div[3]/table/tbody/tr[2]/td[4]\")\n",
    "for i in term_of_office_tags:\n",
    "    term_of_office.append(i.text)"
   ]
  },
  {
   "cell_type": "code",
   "execution_count": 17,
   "id": "6bb29faa",
   "metadata": {},
   "outputs": [
    {
     "data": {
      "text/plain": [
       "['15 August 1947 to 27 May 1964\\n16 years, 286 days']"
      ]
     },
     "execution_count": 17,
     "metadata": {},
     "output_type": "execute_result"
    }
   ],
   "source": [
    "term_of_office"
   ]
  },
  {
   "cell_type": "code",
   "execution_count": 18,
   "id": "50c8b2c5",
   "metadata": {},
   "outputs": [],
   "source": [
    "remark=[]\n",
    "remark_tags=driver.find_elements(By.XPATH,\"/html/body/div[1]/div[2]/div/div[2]/div/div[1]/div/div/div/div[4]/span/div[3]/table/tbody/tr[2]/td[5]\")\n",
    "for i in remark_tags:\n",
    "    remark.append(i.text)"
   ]
  },
  {
   "cell_type": "code",
   "execution_count": 19,
   "id": "f0dfc2e0",
   "metadata": {},
   "outputs": [
    {
     "data": {
      "text/plain": [
       "['The first prime minister of India and the longest-serving PM of India, the first to die in office.']"
      ]
     },
     "execution_count": 19,
     "metadata": {},
     "output_type": "execute_result"
    }
   ],
   "source": [
    "remark"
   ]
  },
  {
   "cell_type": "code",
   "execution_count": 21,
   "id": "10a62325",
   "metadata": {},
   "outputs": [
    {
     "data": {
      "text/html": [
       "<div>\n",
       "<style scoped>\n",
       "    .dataframe tbody tr th:only-of-type {\n",
       "        vertical-align: middle;\n",
       "    }\n",
       "\n",
       "    .dataframe tbody tr th {\n",
       "        vertical-align: top;\n",
       "    }\n",
       "\n",
       "    .dataframe thead th {\n",
       "        text-align: right;\n",
       "    }\n",
       "</style>\n",
       "<table border=\"1\" class=\"dataframe\">\n",
       "  <thead>\n",
       "    <tr style=\"text-align: right;\">\n",
       "      <th></th>\n",
       "      <th>name</th>\n",
       "      <th>born dead</th>\n",
       "      <th>term of office</th>\n",
       "      <th>remark</th>\n",
       "    </tr>\n",
       "  </thead>\n",
       "  <tbody>\n",
       "    <tr>\n",
       "      <th>0</th>\n",
       "      <td>Jawahar Lal Nehru</td>\n",
       "      <td>(1889–1964)</td>\n",
       "      <td>15 August 1947 to 27 May 1964\\n16 years, 286 days</td>\n",
       "      <td>The first prime minister of India and the long...</td>\n",
       "    </tr>\n",
       "  </tbody>\n",
       "</table>\n",
       "</div>"
      ],
      "text/plain": [
       "                name    born dead  \\\n",
       "0  Jawahar Lal Nehru  (1889–1964)   \n",
       "\n",
       "                                      term of office  \\\n",
       "0  15 August 1947 to 27 May 1964\\n16 years, 286 days   \n",
       "\n",
       "                                              remark  \n",
       "0  The first prime minister of India and the long...  "
      ]
     },
     "execution_count": 21,
     "metadata": {},
     "output_type": "execute_result"
    }
   ],
   "source": [
    "pm=pd.DataFrame()\n",
    "pm['name']=name\n",
    "pm['born dead']=born_dead\n",
    "pm['term of office']=term_of_office\n",
    "pm['remark']=remark\n",
    "pm"
   ]
  },
  {
   "cell_type": "markdown",
   "id": "3da30130",
   "metadata": {},
   "source": [
    "# Write a python program to display list of 50 Most expensive cars in the world (i.e. Car name and Price) from https://www.motor1.com/"
   ]
  },
  {
   "cell_type": "code",
   "execution_count": 28,
   "id": "a4b2a94e",
   "metadata": {},
   "outputs": [],
   "source": [
    "driver=webdriver.Chrome(r'C:\\Users\\Admin\\Downloads\\chromedriver_win32 (1)\\chromedriver.exe')"
   ]
  },
  {
   "cell_type": "code",
   "execution_count": 29,
   "id": "ec73a30c",
   "metadata": {},
   "outputs": [],
   "source": [
    "driver.maximize_window()"
   ]
  },
  {
   "cell_type": "code",
   "execution_count": 31,
   "id": "1e3c3cce",
   "metadata": {},
   "outputs": [],
   "source": [
    "url='https://www.motor1.com/'\n",
    "driver.get(url)"
   ]
  },
  {
   "cell_type": "code",
   "execution_count": 32,
   "id": "c9de2fdc",
   "metadata": {},
   "outputs": [],
   "source": [
    "dropdown_btn=driver.find_element(By.XPATH,\"/html/body/div[3]/div[2]/div/div/div[1]/div\")\n",
    "dropdown_btn.click()"
   ]
  },
  {
   "cell_type": "code",
   "execution_count": 34,
   "id": "722915e0",
   "metadata": {},
   "outputs": [],
   "source": [
    "features_btn=driver.find_element(By.XPATH,\"/html/body/div[4]/div[1]/div[3]/ul/li[5]/button\")\n",
    "features_btn.click()"
   ]
  },
  {
   "cell_type": "code",
   "execution_count": 35,
   "id": "7d79f5f8",
   "metadata": {},
   "outputs": [],
   "source": [
    "lists_btn=driver.find_element(By.XPATH,\"/html/body/div[4]/div[1]/div[3]/ul/li[6]/ul/li[1]/a\")\n",
    "lists_btn.click()"
   ]
  },
  {
   "cell_type": "code",
   "execution_count": 36,
   "id": "970339ab",
   "metadata": {},
   "outputs": [],
   "source": [
    "expensive_btn=driver.find_element(By.XPATH,\"/html/body/div[3]/div[8]/div[1]/div[1]/div/div/div[7]/div/div[1]/h3/a\")\n",
    "expensive_btn.click()"
   ]
  },
  {
   "cell_type": "code",
   "execution_count": 37,
   "id": "94c2081e",
   "metadata": {},
   "outputs": [],
   "source": [
    "car_names=[]\n",
    "car_names_tags=driver.find_elements(By.XPATH,\"//h3[@class='subheader']\")\n",
    "for i in car_names_tags:\n",
    "    car_names.append(i.text)"
   ]
  },
  {
   "cell_type": "code",
   "execution_count": 38,
   "id": "29183b3c",
   "metadata": {},
   "outputs": [
    {
     "data": {
      "text/plain": [
       "['De Tomaso P72',\n",
       " 'Ferrari LaFerrari',\n",
       " 'Pagani Huayra',\n",
       " 'McLaren Elva',\n",
       " 'Czinger 21C',\n",
       " 'Ferrari Monza',\n",
       " 'Gordon Murray T.33',\n",
       " 'Koenigsegg Gemera',\n",
       " 'Zenvo TSR-S',\n",
       " 'Hennessey Venom F5',\n",
       " 'Bentley Bacalar',\n",
       " 'Hispano Suiza Carmen Boulogne',\n",
       " 'Bentley Mulliner Batur',\n",
       " 'Deus Vayanne',\n",
       " 'SSC Tuatara',\n",
       " 'Lotus Evija',\n",
       " 'Aston Martin Vulcan',\n",
       " 'Delage D12',\n",
       " 'McLaren Speedtail',\n",
       " 'Rimac Nevera',\n",
       " 'Pagani Utopia',\n",
       " 'Pininfarina Battista',\n",
       " 'Ferrari FXX K Evo',\n",
       " 'Gordon Murray T.50',\n",
       " 'Lamborghini Countach',\n",
       " 'Mercedes-AMG Project One',\n",
       " 'Aston Martin Victor',\n",
       " 'Hennessey Venom F5 Roadster',\n",
       " 'Koenigsegg Jesko',\n",
       " 'Aston Martin Valkyrie',\n",
       " 'W Motors Lykan Hypersport',\n",
       " 'McLaren Solus',\n",
       " 'Pagani Huayra Roadster BC',\n",
       " 'Bugatti Chiron Pur Sport',\n",
       " 'Lamborghini Sian',\n",
       " 'Koenigsegg CC850',\n",
       " 'Bugatti Chiron Super Sport 300+',\n",
       " 'Lamborghini Veneno',\n",
       " 'Bugatti Bolide',\n",
       " 'Bugatti Mistral',\n",
       " 'Pagani Huayra Imola',\n",
       " 'Bugatti Divo',\n",
       " 'SP Automotive Chaos',\n",
       " 'Pagani Codalunga',\n",
       " 'Mercedes-Maybach Exelero',\n",
       " 'Bugatti Centodieci',\n",
       " 'Bugatti Chiron Profilée',\n",
       " 'Rolls-Royce Sweptail',\n",
       " 'Bugatti La Voiture Noire',\n",
       " 'Rolls-Royce Boat Tail*',\n",
       " 'Most Expensive Cars In The World']"
      ]
     },
     "execution_count": 38,
     "metadata": {},
     "output_type": "execute_result"
    }
   ],
   "source": [
    "car_names"
   ]
  },
  {
   "cell_type": "code",
   "execution_count": 41,
   "id": "88956a33",
   "metadata": {},
   "outputs": [],
   "source": [
    "price=[]\n",
    "price_tags=driver.find_elements(By.XPATH,\"/html/body/div[3]/div[7]/div[2]/div[1]/div[2]/div[1]/p[4]\")\n",
    "for i in price_tags:\n",
    "    price.append(i.text)"
   ]
  },
  {
   "cell_type": "code",
   "execution_count": 42,
   "id": "efe4d811",
   "metadata": {},
   "outputs": [
    {
     "data": {
      "text/plain": [
       "['Price: $1.3 Million']"
      ]
     },
     "execution_count": 42,
     "metadata": {},
     "output_type": "execute_result"
    }
   ],
   "source": [
    "price"
   ]
  },
  {
   "cell_type": "code",
   "execution_count": null,
   "id": "be166651",
   "metadata": {},
   "outputs": [],
   "source": []
  }
 ],
 "metadata": {
  "kernelspec": {
   "display_name": "Python 3 (ipykernel)",
   "language": "python",
   "name": "python3"
  },
  "language_info": {
   "codemirror_mode": {
    "name": "ipython",
    "version": 3
   },
   "file_extension": ".py",
   "mimetype": "text/x-python",
   "name": "python",
   "nbconvert_exporter": "python",
   "pygments_lexer": "ipython3",
   "version": "3.9.13"
  }
 },
 "nbformat": 4,
 "nbformat_minor": 5
}
